{
 "cells": [
  {
   "cell_type": "code",
   "execution_count": null,
   "metadata": {
    "collapsed": false
   },
   "outputs": [],
   "source": [
    "import scipy as sp\n",
    "import scipy.interpolate as spip\n",
    "import scipy.integrate as spin\n",
    "import matplotlib.pylab as plt\n",
    "%matplotlib inline"
   ]
  },
  {
   "cell_type": "code",
   "execution_count": 4,
   "metadata": {
    "collapsed": true,
    "slideshow": {
     "slide_type": "-"
    }
   },
   "outputs": [],
   "source": [
    "# %load ../Tools/Histogram.py\n",
    "import numpy as np\n",
    "\n",
    "\n",
    "class Histogram():\n",
    "    '''\n",
    "    Class to storage histograms\n",
    "    '''\n",
    "    def __init__(self, data=[], nbin=None, minlim=None, maxlim=None,\n",
    "                 name='default', isotope='default', volume='default',\n",
    "                 material='default'):\n",
    "        '''\n",
    "        Creates an histogram from a given a list (empty by defoult),\n",
    "        with low and high limits, by defoult are the minimum and\n",
    "        maximum of de data sample and the bin number, by default\n",
    "        the number of data squareroot\n",
    "        '''\n",
    "\n",
    "        if len(data) == 0:\n",
    "            if minlim == 'nada' or maxlim == 'nada' or nbin == 'nada':\n",
    "                auxs = 'In order to build an empty histogram it '\n",
    "                auxs += 'is needed a minlim, maxlim and nbin'\n",
    "                raise ValueError(auxs)\n",
    "                return\n",
    "            else:\n",
    "                self.minlim = minlim\n",
    "                self.maxlim = maxlim\n",
    "                self.nbin = nbin\n",
    "\n",
    "        else:\n",
    "            if minlim is None:\n",
    "                self.minlim = min(data)\n",
    "            else:\n",
    "                self.minlim = minlim\n",
    "            if maxlim is None:\n",
    "                self.maxlim = max(data)\n",
    "            else:\n",
    "                self.maxlim = maxlim\n",
    "            if nbin is None:\n",
    "                self.nbin = int(len(data)**0.5)\n",
    "            else:\n",
    "                self.nbin = nbin\n",
    "\n",
    "        self.binsize = float(self.maxlim-self.minlim)/float(self.nbin)\n",
    "        self.hist = np.array([])\n",
    "        self.bins = np.array([])\n",
    "\n",
    "        self.Build_hist(data)\n",
    "\n",
    "        self.name = name\n",
    "        self.isotope = isotope\n",
    "        self.volume = volume\n",
    "        self.material = material\n",
    "\n",
    "    def __add__(self, hist):\n",
    "        '''\n",
    "        Suming histograms\n",
    "        '''\n",
    "\n",
    "        if not self.minlim == hist.minlim or not self.maxlim == hist.maxlim\\\n",
    "                or not self.nbin == hist.nbin:\n",
    "            raise ValueError('Histograms are not compatible')\n",
    "        else:\n",
    "            auxhist = Histogram([], self.nbin, self.minlim, self.maxlim)\n",
    "            auxhist.hist = self.hist + hist.hist\n",
    "        return auxhist\n",
    "\n",
    "    def Build_hist(self, data):\n",
    "        '''\n",
    "        Creating histogram using numpy ones but with bin centers instead\n",
    "        '''\n",
    "        auxhist, auxbins = np.histogram(np.array(data), self.nbin,\n",
    "                                        [self.minlim, self.maxlim])\n",
    "        auxbins = auxbins[:-1] + np.diff(auxbins)/2.\n",
    "        self.hist = auxhist\n",
    "        self.bins = auxbins\n",
    "\n",
    "    def Fill_hist(self, data):\n",
    "        '''\n",
    "        Filling histogram\n",
    "        '''\n",
    "        data = np.array(data)\n",
    "        self.hist += np.histogram(np.array(data), self.nbin, [self.minlim,\n",
    "                                                              self.maxlim])[0]\n",
    "\n",
    "    def Scale(self, factor):\n",
    "        '''\n",
    "        Explicit __rmul__, scales the histogram by a factor\n",
    "        '''\n",
    "        self.hist = factor*self.hist\n",
    "        return self\n"
   ]
  },
  {
   "cell_type": "code",
   "execution_count": 5,
   "metadata": {
    "collapsed": false
   },
   "outputs": [],
   "source": [
    "# %load ../Tools/PDF.py\n",
    "import scipy.interpolate as spip\n",
    "\n",
    "\n",
    "class PDF():\n",
    "    '''\n",
    "    Class to deal with spectrum and build a PDF interpolating an histogram\n",
    "    '''\n",
    "    \n",
    "    def __init__ (self, histogram = [], name='default', isotope='default',\n",
    "                 volume='default', material='default', interpolation='linear',\n",
    "                 labelcopy=False):\n",
    "\n",
    "        if not labelcopy:\n",
    "            self.name = name\n",
    "            self.isotope = isotope\n",
    "            self.volume = volume\n",
    "            self.material = material\n",
    "        else:\n",
    "            self.name = histogram.name\n",
    "            self.isotope = histogram.isotope\n",
    "            self.volume = histogram.volume\n",
    "            self.material = histogram.material\n",
    "\n",
    "        self.Int = 0\n",
    "        self.minlim = 0\n",
    "        self.maxlim = 0\n",
    "        self.pdf = spip.interp1d\n",
    "        self.interpolation = interpolation\n",
    "        if histogram:\n",
    "            self.Build_PDF(histogram)\n",
    "\n",
    "    def Build_PDF(self, hist):\n",
    "        hist.Scale(1./(hist.hist.sum()*hist.binsize))\n",
    "        self.pdf = spip.interp1d( hist.bins, hist.hist,\n",
    "                                kind=self.interpolation, bounds_error=False)\n",
    "        self.minlim = hist.bins[0]\n",
    "        self.maxlim = hist.bins[-1]\n",
    "        self.Int = self.pdf.y.sum()*(self.pdf.x[1]-self.pdf.x[0])\n",
    "\n",
    "        return\n",
    "    \n",
    "    def Scale(self, factor):\n",
    "        x = self.pdf.x\n",
    "        y = factor*self.pdf.y\n",
    "        self.pdf = spip.interp1d( x, y, kind=self.interpolation, bounds_error=False)\n",
    "        self.Int *= factor\n",
    "        return self\n"
   ]
  },
  {
   "cell_type": "code",
   "execution_count": 6,
   "metadata": {
    "collapsed": false
   },
   "outputs": [
    {
     "data": {
      "text/plain": [
       "array([  9405,  10609,  11919,  13328,  14995,  16570,  18911,  20936,\n",
       "        22943,  25518,  28557,  31417,  34623,  37641,  40931,  45344,\n",
       "        49254,  53109,  57641,  62542,  67012,  72712,  77091,  82752,\n",
       "        88832,  94357,  99769, 105733, 111321, 118652, 124211, 130557,\n",
       "       136040, 141506, 147739, 153529, 158808, 164023, 169311, 173711,\n",
       "       178115, 182594, 185700, 188904, 192138, 195261, 196235, 197378,\n",
       "       199728, 199508, 199575, 198928, 197196, 195706, 194677, 192399,\n",
       "       189562, 185628, 182196, 178120, 173167, 169297, 164072, 158544,\n",
       "       153736, 147604, 141623, 136320, 129769, 124517, 117727, 111710,\n",
       "       105923, 100105,  94483,  88439,  83221,  77713,  72386,  67275,\n",
       "        61953,  57931,  53430,  49215,  44966,  41115,  37497,  34341,\n",
       "        31060,  28361,  25694,  23115,  20748,  18612,  16795,  14990,\n",
       "        13258,  11870,  10684,   9365])"
      ]
     },
     "execution_count": 6,
     "metadata": {},
     "output_type": "execute_result"
    }
   ],
   "source": [
    "auxlist = np.random.normal(5,2,10000000)\n",
    "a = Histogram(auxlist,100,0,10)\n",
    "a.hist\n"
   ]
  },
  {
   "cell_type": "code",
   "execution_count": 7,
   "metadata": {
    "collapsed": false
   },
   "outputs": [],
   "source": [
    "b = PDF(a,'linear')"
   ]
  },
  {
   "cell_type": "code",
   "execution_count": 8,
   "metadata": {
    "collapsed": false
   },
   "outputs": [
    {
     "data": {
      "text/plain": [
       "array([ 0.00952305,  0.01074216,  0.0120686 ,  0.01349529,  0.01518321,\n",
       "        0.01677798,  0.01914837,  0.02119878,  0.02323098,  0.0258383 ,\n",
       "        0.02891544,  0.03181134,  0.03505758,  0.03811346,  0.04144476,\n",
       "        0.04591315,  0.04987223,  0.05377561,  0.0583645 ,  0.06332701,\n",
       "        0.06785312,  0.07362467,  0.07805863,  0.08379069,  0.089947  ,\n",
       "        0.09554135,  0.10102128,  0.10706014,  0.11271828,  0.1201413 ,\n",
       "        0.12577007,  0.13219572,  0.13774755,  0.14328215,  0.14959339,\n",
       "        0.15545606,  0.16080133,  0.16608178,  0.17143616,  0.17589138,\n",
       "        0.18035066,  0.18488588,  0.18803087,  0.19127508,  0.19454968,\n",
       "        0.19771188,  0.1986981 ,  0.19985545,  0.20223494,  0.20201218,\n",
       "        0.20208002,  0.2014249 ,  0.19967116,  0.19816246,  0.19712055,\n",
       "        0.19481395,  0.19194134,  0.18795796,  0.18448289,  0.18035573,\n",
       "        0.17534056,  0.17142198,  0.1661314 ,  0.16053401,  0.15566566,\n",
       "        0.1494567 ,  0.14340062,  0.13803106,  0.13139783,  0.12607991,\n",
       "        0.11920469,  0.11311216,  0.10725252,  0.1013615 ,  0.09566893,\n",
       "        0.08954907,  0.08426557,  0.07868844,  0.07329457,  0.06811942,\n",
       "        0.06273062,  0.05865814,  0.05410064,  0.04983274,  0.0455304 ,\n",
       "        0.04163107,  0.03796765,  0.03477204,  0.03144986,  0.02871698,\n",
       "        0.02601651,  0.02340513,  0.02100842,  0.01884561,  0.01700581,\n",
       "        0.01517815,  0.01342441,  0.01201899,  0.0108181 ,  0.00948255])"
      ]
     },
     "execution_count": 8,
     "metadata": {},
     "output_type": "execute_result"
    }
   ],
   "source": [
    "b.pdf.y"
   ]
  },
  {
   "cell_type": "code",
   "execution_count": 9,
   "metadata": {
    "collapsed": false
   },
   "outputs": [
    {
     "data": {
      "text/plain": [
       "[<matplotlib.lines.Line2D at 0x7f57ad0a86d8>]"
      ]
     },
     "execution_count": 9,
     "metadata": {},
     "output_type": "execute_result"
    },
    {
     "data": {
      "image/png": "[encoded data removed]",
      "text/plain": [
       "<matplotlib.figure.Figure at 0x7f57a836aac8>"
      ]
     },
     "metadata": {},
     "output_type": "display_data"
    }
   ],
   "source": [
    "import matplotlib.pylab as plt\n",
    "%matplotlib inline\n",
    "x = np.linspace(0.1,9.9,100)\n",
    "y = b.pdf(x)\n",
    "yp = (b.Scale(0.9)).pdf(x)\n",
    "ypp = (b.Scale(1.5)).pdf(x)\n",
    "plt.plot(x,y)\n",
    "plt.plot(x,yp)\n",
    "plt.plot(x,ypp)\n"
   ]
  },
  {
   "cell_type": "code",
   "execution_count": 12,
   "metadata": {
    "collapsed": false
   },
   "outputs": [
    {
     "name": "stderr",
     "output_type": "stream",
     "text": [
      "/home/brais/anaconda3/lib/python3.5/site-packages/scipy/integrate/quadpack.py:356: IntegrationWarning: The maximum number of subdivisions (50) has been achieved.\n",
      "  If increasing the limit yields no improvement it is advised to analyze \n",
      "  the integrand in order to determine the difficulties.  If the position of a \n",
      "  local difficulty can be determined (singularity, discontinuity) one will \n",
      "  probably gain from splitting up the interval and calling the integrator \n",
      "  on the subranges.  Perhaps a special-purpose integrator should be used.\n",
      "  warnings.warn(msg, IntegrationWarning)\n"
     ]
    },
    {
     "data": {
      "text/plain": [
       "(1.3487227935243626, 1.9068919168141463e-05)"
      ]
     },
     "execution_count": 12,
     "metadata": {},
     "output_type": "execute_result"
    }
   ],
   "source": [
    "import scipy as sp\n",
    "sp.integrate.quad(b.pdf,b.minlim,b.maxlim)"
   ]
  },
  {
   "cell_type": "code",
   "execution_count": 11,
   "metadata": {
    "collapsed": false
   },
   "outputs": [
    {
     "data": {
      "text/plain": [
       "1.3499999999999999"
      ]
     },
     "execution_count": 11,
     "metadata": {},
     "output_type": "execute_result"
    }
   ],
   "source": [
    "b.Int"
   ]
  },
  {
   "cell_type": "code",
   "execution_count": null,
   "metadata": {
    "collapsed": false
   },
   "outputs": [],
   "source": []
  },
  {
   "cell_type": "code",
   "execution_count": null,
   "metadata": {
    "collapsed": false
   },
   "outputs": [],
   "source": []
  },
  {
   "cell_type": "code",
   "execution_count": null,
   "metadata": {
    "collapsed": true
   },
   "outputs": [],
   "source": []
  }
 ],
 "metadata": {
  "anaconda-cloud": {},
  "kernelspec": {
   "display_name": "Python [conda root]",
   "language": "python",
   "name": "conda-root-py"
  },
  "language_info": {
   "codemirror_mode": {
    "name": "ipython",
    "version": 3
   },
   "file_extension": ".py",
   "mimetype": "text/x-python",
   "name": "python",
   "nbconvert_exporter": "python",
   "pygments_lexer": "ipython3",
   "version": "3.5.2"
  }
 },
 "nbformat": 4,
 "nbformat_minor": 1
}
