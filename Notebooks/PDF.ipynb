{
 "cells": [
  {
   "cell_type": "code",
   "execution_count": 1,
   "metadata": {
    "collapsed": false
   },
   "outputs": [],
   "source": [
    "import scipy as sp\n",
    "import scipy.interpolate as spip\n",
    "import scipy.integrate as spin\n",
    "import matplotlib.pylab as plt\n",
    "%matplotlib inline"
   ]
  },
  {
   "cell_type": "code",
   "execution_count": 2,
   "metadata": {
    "collapsed": true,
    "slideshow": {
     "slide_type": "-"
    }
   },
   "outputs": [],
   "source": [
    "# %load ../Tools/Histogram.py\n",
    "import numpy as np\n",
    "\n",
    "\n",
    "class Histogram():\n",
    "    '''\n",
    "    Class to storage histograms\n",
    "    '''\n",
    "    def __init__(self, data=[], nbin=None, minlim=None, maxlim=None,\n",
    "                 name='default', isotope='default', volume='default',\n",
    "                 material='default'):\n",
    "        '''\n",
    "        Creates an histogram from a given a list (empty by defoult),\n",
    "        with low and high limits, by defoult are the minimum and\n",
    "        maximum of de data sample and the bin number, by default\n",
    "        the number of data squareroot\n",
    "        '''\n",
    "\n",
    "        if len(data) == 0:\n",
    "            if minlim == 'nada' or maxlim == 'nada' or nbin == 'nada':\n",
    "                auxs = 'In order to build an empty histogram it '\n",
    "                auxs += 'is needed a minlim, maxlim and nbin'\n",
    "                raise ValueError(auxs)\n",
    "                return\n",
    "            else:\n",
    "                self.minlim = minlim\n",
    "                self.maxlim = maxlim\n",
    "                self.nbin = nbin\n",
    "\n",
    "        else:\n",
    "            if minlim is None:\n",
    "                self.minlim = min(data)\n",
    "            else:\n",
    "                self.minlim = minlim\n",
    "            if maxlim is None:\n",
    "                self.maxlim = max(data)\n",
    "            else:\n",
    "                self.maxlim = maxlim\n",
    "            if nbin is None:\n",
    "                self.nbin = int(len(data)**0.5)\n",
    "            else:\n",
    "                self.nbin = nbin\n",
    "\n",
    "        self.binsize = float(self.maxlim-self.minlim)/float(self.nbin)\n",
    "        self.hist = np.array([])\n",
    "        self.bins = np.array([])\n",
    "\n",
    "        self.Build_hist(data)\n",
    "\n",
    "        self.name = name\n",
    "        self.isotope = isotope\n",
    "        self.volume = volume\n",
    "        self.material = material\n",
    "\n",
    "    def __add__(self, hist):\n",
    "        '''\n",
    "        Suming histograms\n",
    "        '''\n",
    "\n",
    "        if not self.minlim == hist.minlim or not self.maxlim == hist.maxlim\\\n",
    "                or not self.nbin == hist.nbin:\n",
    "            raise ValueError('Histograms are not compatible')\n",
    "        else:\n",
    "            auxhist = Histogram([], self.nbin, self.minlim, self.maxlim)\n",
    "            auxhist.hist = self.hist + hist.hist\n",
    "        return auxhist\n",
    "\n",
    "    def Build_hist(self, data):\n",
    "        '''\n",
    "        Creating histogram using numpy ones but with bin centers instead\n",
    "        '''\n",
    "        auxhist, auxbins = np.histogram(np.array(data), self.nbin,\n",
    "                                        [self.minlim, self.maxlim])\n",
    "        auxbins = auxbins[:-1] + np.diff(auxbins)/2.\n",
    "        self.hist = auxhist\n",
    "        self.bins = auxbins\n",
    "\n",
    "    def Fill_hist(self, data):\n",
    "        '''\n",
    "        Filling histogram\n",
    "        '''\n",
    "        data = np.array(data)\n",
    "        self.hist += np.histogram(np.array(data), self.nbin, [self.minlim,\n",
    "                                                              self.maxlim])[0]\n",
    "\n",
    "    def Scale(self, factor):\n",
    "        '''\n",
    "        Explicit __rmul__, scales the histogram by a factor\n",
    "        '''\n",
    "        self.hist = factor*self.hist\n",
    "        return self\n"
   ]
  },
  {
   "cell_type": "code",
   "execution_count": 39,
   "metadata": {
    "collapsed": false
   },
   "outputs": [],
   "source": [
    "# %load ../Tools/PDF.py\n",
    "import scipy.interpolate as spip\n",
    "from copy import copy\n",
    "\n",
    "class PDF():\n",
    "    '''\n",
    "    Class to deal with spectrum and build a PDF interpolating an histogram\n",
    "    '''\n",
    "\n",
    "    def __init__(self, histogram=[], factor=1., name='default',\n",
    "                 isotope='default', volume='default', material='default',\n",
    "                 interpolation='linear', labelcopy=False):\n",
    "        '''\n",
    "        histogram: hist to build the PDF from\n",
    "        factor: factor to scale the PDF\n",
    "        name: name for the PDF\n",
    "        isotope, volume, material: info about PDF and hist data\n",
    "        interpolation: interpolation method, as in scipy.interpolate.interp1d:\n",
    "            Specifies the kind of interpolation as a string (‘linear’,\n",
    "            ‘nearest’, ‘zero’, ‘slinear’, ‘quadratic, ‘cubic’ where ‘slinear’,\n",
    "            ‘quadratic’ and ‘cubic’ refer to a spline interpolation of first,\n",
    "            second or third order) or as an integer specifying the order of the\n",
    "            spline interpolator to use. Default is ‘linear’.\n",
    "        labelcopy: if True, the isotope, volume and material info is copied\n",
    "            from hist one\n",
    "        '''\n",
    "        if not labelcopy:\n",
    "            self.name = name\n",
    "            self.isotope = isotope\n",
    "            self.volume = volume\n",
    "            self.material = material\n",
    "        else:\n",
    "            self.name = histogram.name\n",
    "            self.isotope = histogram.isotope\n",
    "            self.volume = histogram.volume\n",
    "            self.material = histogram.material\n",
    "\n",
    "        self.Int = factor\n",
    "        self.minlim = 0\n",
    "        self.maxlim = 0\n",
    "        self.pdf = spip.interp1d\n",
    "        self.interpolation = interpolation\n",
    "        if histogram:\n",
    "            self.Build_PDF(copy(histogram), factor)\n",
    "\n",
    "    def Build_PDF(self, hist, factor):\n",
    "        '''\n",
    "        It builds the pdf from the histogram normalazing\n",
    "        that is that the integral (number of events) is\n",
    "        one\n",
    "        '''\n",
    "\n",
    "        hist.Scale(float(factor)/(hist.hist.sum())) #*hist.binsize)\n",
    "        self.pdf = spip.interp1d(hist.bins, hist.hist,\n",
    "                                 kind=self.interpolation, bounds_error=False)\n",
    "        self.minlim = hist.bins[0]\n",
    "        self.maxlim = hist.bins[-1]\n",
    "        self.Int = self.pdf.y.sum()*(self.pdf.x[1]-self.pdf.x[0])\n",
    "\n",
    "        return\n",
    "\n",
    "    def Scale(self, factor):\n",
    "        '''\n",
    "        Method to scale the pdf. It also refresh the integral\n",
    "        counter\n",
    "        '''\n",
    "        x = self.pdf.x\n",
    "        y = factor*self.pdf.y\n",
    "        self.pdf = spip.interp1d(x, y, kind=self.interpolation,\n",
    "                                 bounds_error=False)\n",
    "        self.Int *= factor\n",
    "        return self\n"
   ]
  },
  {
   "cell_type": "code",
   "execution_count": 28,
   "metadata": {
    "collapsed": false
   },
   "outputs": [
    {
     "data": {
      "text/plain": [
       "array([ 0.05,  0.15,  0.25,  0.35,  0.45,  0.55,  0.65,  0.75,  0.85,\n",
       "        0.95,  1.05,  1.15,  1.25,  1.35,  1.45,  1.55,  1.65,  1.75,\n",
       "        1.85,  1.95,  2.05,  2.15,  2.25,  2.35,  2.45,  2.55,  2.65,\n",
       "        2.75,  2.85,  2.95,  3.05,  3.15,  3.25,  3.35,  3.45,  3.55,\n",
       "        3.65,  3.75,  3.85,  3.95,  4.05,  4.15,  4.25,  4.35,  4.45,\n",
       "        4.55,  4.65,  4.75,  4.85,  4.95,  5.05,  5.15,  5.25,  5.35,\n",
       "        5.45,  5.55,  5.65,  5.75,  5.85,  5.95,  6.05,  6.15,  6.25,\n",
       "        6.35,  6.45,  6.55,  6.65,  6.75,  6.85,  6.95,  7.05,  7.15,\n",
       "        7.25,  7.35,  7.45,  7.55,  7.65,  7.75,  7.85,  7.95,  8.05,\n",
       "        8.15,  8.25,  8.35,  8.45,  8.55,  8.65,  8.75,  8.85,  8.95,\n",
       "        9.05,  9.15,  9.25,  9.35,  9.45,  9.55,  9.65,  9.75,  9.85,  9.95])"
      ]
     },
     "execution_count": 28,
     "metadata": {},
     "output_type": "execute_result"
    }
   ],
   "source": [
    "auxlist = np.random.normal(5,2,10000000)\n",
    "a = Histogram(auxlist,100,0,10)\n",
    "a.hist\n",
    "a.bins"
   ]
  },
  {
   "cell_type": "code",
   "execution_count": 5,
   "metadata": {
    "collapsed": false
   },
   "outputs": [],
   "source": [
    "b = PDF(a,interpolation='linear')"
   ]
  },
  {
   "cell_type": "code",
   "execution_count": 26,
   "metadata": {
    "collapsed": false
   },
   "outputs": [
    {
     "name": "stdout",
     "output_type": "stream",
     "text": [
      "[ 0.05  0.15  0.25  0.35  0.45  0.55  0.65  0.75  0.85  0.95  1.05  1.15\n",
      "  1.25  1.35  1.45  1.55  1.65  1.75  1.85  1.95  2.05  2.15  2.25  2.35\n",
      "  2.45  2.55  2.65  2.75  2.85  2.95  3.05  3.15  3.25  3.35  3.45  3.55\n",
      "  3.65  3.75  3.85  3.95  4.05  4.15  4.25  4.35  4.45  4.55  4.65  4.75\n",
      "  4.85  4.95  5.05  5.15  5.25  5.35  5.45  5.55  5.65  5.75  5.85  5.95\n",
      "  6.05  6.15  6.25  6.35  6.45  6.55  6.65  6.75  6.85  6.95  7.05  7.15\n",
      "  7.25  7.35  7.45  7.55  7.65  7.75  7.85  7.95  8.05  8.15  8.25  8.35\n",
      "  8.45  8.55  8.65  8.75  8.85  8.95  9.05  9.15  9.25  9.35  9.45  9.55\n",
      "  9.65  9.75  9.85  9.95] [ 0.01287727  0.01424018  0.01635768  0.01831935  0.0203644   0.02323786\n",
      "  0.0256479   0.02864576  0.03175025  0.03475085  0.03906104  0.04299394\n",
      "  0.04675322  0.05204903  0.05638246  0.06167417  0.06703286  0.07255696\n",
      "  0.07829159  0.08507471  0.09171292  0.09922466  0.1058123   0.11299459\n",
      "  0.12103946  0.12956825  0.13698157  0.14571268  0.15238781  0.16020439\n",
      "  0.16996213  0.17794549  0.1860013   0.19400106  0.20141027  0.20899036\n",
      "  0.21667708  0.22371583  0.23003826  0.23753223  0.24336118  0.24901788\n",
      "  0.25454471  0.25981591  0.26079606  0.26602899  0.2678895   0.2702558\n",
      "  0.27256468  0.27212177  0.27341223  0.27226394  0.27019565  0.2686933\n",
      "  0.26665235  0.26314869  0.25929098  0.25305193  0.25092759  0.24321764\n",
      "  0.23792593  0.23145859  0.22390037  0.21649253  0.2099254   0.20303018\n",
      "  0.19330798  0.18569782  0.1779783   0.16946864  0.16088653  0.15264754\n",
      "  0.14557598  0.13616819  0.1290898   0.12080843  0.11311078  0.10586835\n",
      "  0.09906062  0.09245658  0.08497901  0.07908855  0.07283447  0.06698639\n",
      "  0.06194484  0.05686365  0.05132451  0.04685848  0.04244029  0.03899132\n",
      "  0.03501605  0.03151239  0.02822746  0.02560826  0.02291935  0.02065694\n",
      "  0.01853397  0.01609658  0.01440285  0.0126312 ]\n"
     ]
    }
   ],
   "source": [
    "print(b.pdf.x,b.pdf.y)"
   ]
  },
  {
   "cell_type": "code",
   "execution_count": 7,
   "metadata": {
    "collapsed": false
   },
   "outputs": [
    {
     "data": {
      "text/plain": [
       "[<matplotlib.lines.Line2D at 0x7f23c0ee3550>]"
      ]
     },
     "execution_count": 7,
     "metadata": {},
     "output_type": "execute_result"
    },
    {
     "data": {
      "image/png": "[encoded data removed]",
      "text/plain": [
       "<matplotlib.figure.Figure at 0x7f2396264978>"
      ]
     },
     "metadata": {},
     "output_type": "display_data"
    }
   ],
   "source": [
    "import matplotlib.pylab as plt\n",
    "%matplotlib inline\n",
    "x = np.linspace(0.1,9.9,100)\n",
    "y = b.pdf(x)\n",
    "yp = (b.Scale(0.9)).pdf(x)\n",
    "ypp = (b.Scale(1.5)).pdf(x)\n",
    "plt.plot(x,y)\n",
    "plt.plot(x,yp)\n",
    "plt.plot(x,ypp)\n"
   ]
  },
  {
   "cell_type": "code",
   "execution_count": 8,
   "metadata": {
    "collapsed": false
   },
   "outputs": [
    {
     "name": "stderr",
     "output_type": "stream",
     "text": [
      "/home/brais/anaconda3/lib/python3.5/site-packages/scipy/integrate/quadpack.py:356: IntegrationWarning: The maximum number of subdivisions (50) has been achieved.\n",
      "  If increasing the limit yields no improvement it is advised to analyze \n",
      "  the integrand in order to determine the difficulties.  If the position of a \n",
      "  local difficulty can be determined (singularity, discontinuity) one will \n",
      "  probably gain from splitting up the interval and calling the integrator \n",
      "  on the subranges.  Perhaps a special-purpose integrator should be used.\n",
      "  warnings.warn(msg, IntegrationWarning)\n"
     ]
    },
    {
     "data": {
      "text/plain": [
       "(1.3487230347769223, 1.776092701621934e-05)"
      ]
     },
     "execution_count": 8,
     "metadata": {},
     "output_type": "execute_result"
    }
   ],
   "source": [
    "import scipy as sp\n",
    "sp.integrate.quad(b.pdf,b.minlim,b.maxlim)"
   ]
  },
  {
   "cell_type": "code",
   "execution_count": 9,
   "metadata": {
    "collapsed": false
   },
   "outputs": [
    {
     "data": {
      "text/plain": [
       "1.3500000000000001"
      ]
     },
     "execution_count": 9,
     "metadata": {},
     "output_type": "execute_result"
    }
   ],
   "source": [
    "b.Int"
   ]
  },
  {
   "cell_type": "code",
   "execution_count": 10,
   "metadata": {
    "collapsed": false
   },
   "outputs": [],
   "source": [
    "c = PDF(a,2.,'linear')"
   ]
  },
  {
   "cell_type": "code",
   "execution_count": 11,
   "metadata": {
    "collapsed": false
   },
   "outputs": [
    {
     "data": {
      "text/plain": [
       "2.0000000000000004"
      ]
     },
     "execution_count": 11,
     "metadata": {},
     "output_type": "execute_result"
    }
   ],
   "source": [
    "c.Int"
   ]
  },
  {
   "cell_type": "code",
   "execution_count": null,
   "metadata": {
    "collapsed": true
   },
   "outputs": [],
   "source": []
  },
  {
   "cell_type": "code",
   "execution_count": null,
   "metadata": {
    "collapsed": true
   },
   "outputs": [],
   "source": []
  },
  {
   "cell_type": "code",
   "execution_count": 40,
   "metadata": {
    "collapsed": true
   },
   "outputs": [],
   "source": [
    "import tables as tb\n",
    "f = tb.open_file(\"../Data/data_spectrum.h5\", \"r\")\n",
    "minE,maxE,nbin = 0.,3.,125"
   ]
  },
  {
   "cell_type": "code",
   "execution_count": 41,
   "metadata": {
    "collapsed": false
   },
   "outputs": [],
   "source": [
    "E = f.root.E[:]\n",
    "Co = f.root.Co[:]\n",
    "h_Co = Histogram([],nbin,minE,maxE)\n",
    "h_Co.hist = Co\n",
    "h_Co.bins = E\n",
    "pdf_Co = PDF(h_Co,1.,interpolation='linear')"
   ]
  },
  {
   "cell_type": "code",
   "execution_count": 42,
   "metadata": {
    "collapsed": false
   },
   "outputs": [
    {
     "data": {
      "text/plain": [
       "[<matplotlib.lines.Line2D at 0x7f2386e47a20>]"
      ]
     },
     "execution_count": 42,
     "metadata": {},
     "output_type": "execute_result"
    },
    {
     "data": {
      "image/png": "[encoded data removed]",
      "text/plain": [
       "<matplotlib.figure.Figure at 0x7f2386f01d30>"
      ]
     },
     "metadata": {},
     "output_type": "display_data"
    }
   ],
   "source": [
    "plt.plot(E,pdf_Co.pdf.y)"
   ]
  },
  {
   "cell_type": "code",
   "execution_count": 46,
   "metadata": {
    "collapsed": false
   },
   "outputs": [
    {
     "data": {
      "text/plain": [
       "0.024000000000000004"
      ]
     },
     "execution_count": 46,
     "metadata": {},
     "output_type": "execute_result"
    }
   ],
   "source": [
    "pdf_Co.Int"
   ]
  },
  {
   "cell_type": "code",
   "execution_count": 45,
   "metadata": {
    "collapsed": false
   },
   "outputs": [
    {
     "name": "stderr",
     "output_type": "stream",
     "text": [
      "/home/brais/anaconda3/lib/python3.5/site-packages/scipy/integrate/quadpack.py:356: IntegrationWarning: The maximum number of subdivisions (50) has been achieved.\n",
      "  If increasing the limit yields no improvement it is advised to analyze \n",
      "  the integrand in order to determine the difficulties.  If the position of a \n",
      "  local difficulty can be determined (singularity, discontinuity) one will \n",
      "  probably gain from splitting up the interval and calling the integrator \n",
      "  on the subranges.  Perhaps a special-purpose integrator should be used.\n",
      "  warnings.warn(msg, IntegrationWarning)\n"
     ]
    },
    {
     "data": {
      "text/plain": [
       "(0.02399989298564686, 0.0001089529133330748)"
      ]
     },
     "execution_count": 45,
     "metadata": {},
     "output_type": "execute_result"
    }
   ],
   "source": [
    "sp.integrate.quad(pdf_Co.pdf,pdf_Co.minlim,pdf_Co.maxlim)"
   ]
  },
  {
   "cell_type": "code",
   "execution_count": null,
   "metadata": {
    "collapsed": true
   },
   "outputs": [],
   "source": []
  }
 ],
 "metadata": {
  "anaconda-cloud": {},
  "kernelspec": {
   "display_name": "Python [conda root]",
   "language": "python",
   "name": "conda-root-py"
  },
  "language_info": {
   "codemirror_mode": {
    "name": "ipython",
    "version": 3
   },
   "file_extension": ".py",
   "mimetype": "text/x-python",
   "name": "python",
   "nbconvert_exporter": "python",
   "pygments_lexer": "ipython3",
   "version": "3.5.2"
  }
 },
 "nbformat": 4,
 "nbformat_minor": 1
}
