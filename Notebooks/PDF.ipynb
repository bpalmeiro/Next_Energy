{
 "cells": [
  {
   "cell_type": "code",
   "execution_count": null,
   "metadata": {
    "collapsed": false
   },
   "outputs": [],
   "source": [
    "import scipy as sp\n",
    "import scipy.interpolate as spip\n",
    "import scipy.integrate as spin\n",
    "import matplotlib.pylab as plt\n",
    "%matplotlib inline"
   ]
  },
  {
   "cell_type": "code",
   "execution_count": 5,
   "metadata": {
    "collapsed": true,
    "slideshow": {
     "slide_type": "-"
    }
   },
   "outputs": [],
   "source": [
    "# %load ../Tools/Histogram.py\n",
    "import numpy as np\n",
    "\n",
    "\n",
    "class Histogram():\n",
    "    '''\n",
    "    Class to storage histograms\n",
    "    '''\n",
    "    def __init__(self, data=[], nbin=None, minlim=None, maxlim=None,\n",
    "                 name='default', isotope='default', volume='default',\n",
    "                  material='default'):\n",
    "        '''\n",
    "        Creates an histogram from a given a list (empty by defoult),\n",
    "        with low and high limits, by defoult are the minimum and\n",
    "        maximum of de data sample and the bin number, by default\n",
    "        the number of data squareroot\n",
    "        '''\n",
    "\n",
    "        if len(data) == 0:\n",
    "            if minlim == 'nada' or maxlim == 'nada' or nbin == 'nada':\n",
    "                auxs = 'In order to build an empty histogram it '\n",
    "                auxs += 'is needed a minlim, maxlim and nbin'\n",
    "                raise ValueError(auxs)\n",
    "                return\n",
    "            else:\n",
    "                self.minlim = minlim\n",
    "                self.maxlim = maxlim\n",
    "                self.nbin = nbin\n",
    "\n",
    "        else:\n",
    "            if minlim is None:\n",
    "                self.minlim = min(data)\n",
    "            else:\n",
    "                self.minlim = minlim\n",
    "            if maxlim is None:\n",
    "                self.maxlim = max(data)\n",
    "            else:\n",
    "                self.maxlim = maxlim\n",
    "            if nbin is None:\n",
    "                self.nbin = int(len(data)**0.5)\n",
    "            else:\n",
    "                self.nbin = nbin\n",
    "\n",
    "        self.binsize = float(self.maxlim-self.minlim)/float(self.nbin)\n",
    "        self.hist = np.array([])\n",
    "        self.bins = np.array([])\n",
    "\n",
    "        self.Build_hist(data)\n",
    "\n",
    "        self.name = name\n",
    "        self.isotope = isotope\n",
    "        self.volume = volume\n",
    "        self.material = material\n",
    "\n",
    "    def __add__(self, hist):\n",
    "        '''\n",
    "        Suming histograms\n",
    "        '''\n",
    "\n",
    "        if not self.minlim == hist.minlim or not self.maxlim == hist.maxlim\\\n",
    "                or not self.nbin == hist.nbin:\n",
    "            raise ValueError('Histograms are not compatible')\n",
    "        else:\n",
    "            auxhist = Histogram([], self.nbin, self.minlim, self.maxlim)\n",
    "            auxhist.hist = self.hist + hist.hist\n",
    "        return auxhist\n",
    "\n",
    "    def Build_hist(self, data):\n",
    "        '''\n",
    "        Creating histogram using numpy ones but with bin centers instead\n",
    "        '''\n",
    "        auxhist, auxbins = np.histogram(np.array(data), self.nbin,\n",
    "                                        [self.minlim, self.maxlim])\n",
    "        auxbins = auxbins[:-1] + np.diff(auxbins)/2.\n",
    "        self.hist = auxhist\n",
    "        self.bins = auxbins\n",
    "\n",
    "    def Fill_hist(self, data):\n",
    "        '''\n",
    "        Filling histogram\n",
    "        '''\n",
    "        data = np.array(data)\n",
    "        self.hist += np.histogram(np.array(data), self.nbin, [self.minlim,\n",
    "                                                              self.maxlim])[0]\n",
    "\n",
    "    def Scale(self, factor):\n",
    "        '''\n",
    "        Explicit __rmul__, scales the histogram by a factor\n",
    "        '''\n",
    "        self.hist = factor*self.hist\n",
    "        return self\n"
   ]
  },
  {
   "cell_type": "code",
   "execution_count": 6,
   "metadata": {
    "collapsed": false
   },
   "outputs": [],
   "source": [
    "# %load ../Tools/PDF.py\n",
    "import scipy.interpolate as spip\n",
    "\n",
    "\n",
    "class PDF():\n",
    "    '''\n",
    "    Class to deal with spectrum and build a PDF interpolating an histogram\n",
    "    '''\n",
    "    \n",
    "    def __init__ (self, histogram = [], name='default', isotope='default',\n",
    "                 volume='default', material='default', interpolation='linear',\n",
    "                 labelcopy=False):\n",
    "\n",
    "        if not labelcopy:\n",
    "            self.name = name\n",
    "            self.isotope = isotope\n",
    "            self.volume = volume\n",
    "            self.material = material\n",
    "        else:\n",
    "            self.name = histogram.name\n",
    "            self.isotope = histogram.isotope\n",
    "            self.volume = histogram.volume\n",
    "            self.material = histogram.material\n",
    "\n",
    "        self.Int = 0\n",
    "        self.minlim = 0\n",
    "        self.maxlim = 0\n",
    "        self.pdf = spip.interp1d\n",
    "        self.interpolation = interpolation\n",
    "        if histogram:\n",
    "            self.Build_PDF(histogram)\n",
    "\n",
    "    def Build_PDF(self, hist):\n",
    "        hist.Scale(1./(hist.hist.sum()*hist.binsize))\n",
    "        self.pdf = spip.interp1d( hist.bins, hist.hist,\n",
    "                                kind=self.interpolation, bounds_error=False)\n",
    "        self.minlim = hist.bins[0]\n",
    "        self.maxlim = hist.bins[-1]\n",
    "        self.Int = self.pdf.y.sum()*(self.pdf.x[1]-self.pdf.x[0])\n",
    "\n",
    "        return\n",
    "    \n",
    "    def Scale(self, factor):\n",
    "        x = self.pdf.x\n",
    "        y = factor*self.pdf.y\n",
    "        self.pdf = spip.interp1d( x, y, kind=self.interpolation, bounds_error=False)\n",
    "        self.Int *= factor\n",
    "        return self\n"
   ]
  },
  {
   "cell_type": "code",
   "execution_count": 7,
   "metadata": {
    "collapsed": false
   },
   "outputs": [
    {
     "data": {
      "text/plain": [
       "array([  9227,  10630,  11941,  13332,  15133,  16985,  18650,  20958,\n",
       "        23093,  25531,  28182,  31182,  34395,  37691,  41600,  45063,\n",
       "        48905,  53319,  57558,  62575,  67424,  72187,  78094,  82780,\n",
       "        88275,  94070, 100220, 105766, 112626, 118337, 124132, 129677,\n",
       "       135758, 142378, 147531, 153531, 159333, 163891, 168772, 173949,\n",
       "       178454, 181515, 185671, 188779, 192849, 194707, 196594, 197835,\n",
       "       199646, 199743, 199423, 198501, 196910, 196520, 194816, 191480,\n",
       "       189329, 186203, 182367, 178200, 173659, 168790, 163839, 158718,\n",
       "       152814, 147644, 142519, 136153, 129658, 123718, 117589, 111851,\n",
       "       106226,  99588,  94352,  88726,  83057,  77520,  72320,  67263,\n",
       "        62377,  57746,  53285,  48760,  45247,  41573,  37930,  34269,\n",
       "        31104,  28229,  25789,  23141,  20811,  18727,  16745,  15054,\n",
       "        13392,  11818,  10667,   9404])"
      ]
     },
     "execution_count": 7,
     "metadata": {},
     "output_type": "execute_result"
    }
   ],
   "source": [
    "auxlist = np.random.normal(5,2,10000000)\n",
    "a = Histogram(auxlist,100,0,10)\n",
    "a.hist\n"
   ]
  },
  {
   "cell_type": "code",
   "execution_count": 8,
   "metadata": {
    "collapsed": false
   },
   "outputs": [],
   "source": [
    "b = PDF(a,'linear')"
   ]
  },
  {
   "cell_type": "code",
   "execution_count": 9,
   "metadata": {
    "collapsed": false
   },
   "outputs": [
    {
     "data": {
      "text/plain": [
       "array([ 0.00934257,  0.01076315,  0.01209057,  0.01349899,  0.01532255,\n",
       "        0.01719774,  0.0188836 ,  0.02122051,  0.02338225,  0.02585079,\n",
       "        0.02853499,  0.03157257,  0.03482581,  0.0381631 ,  0.04212106,\n",
       "        0.04562743,  0.04951756,  0.05398684,  0.05827894,  0.06335878,\n",
       "        0.06826852,  0.07309117,  0.07907216,  0.08381686,  0.08938068,\n",
       "        0.09524827,  0.1014753 ,  0.10709077,  0.11403669,  0.11981922,\n",
       "        0.12568681,  0.13130126,  0.13745843,  0.14416135,  0.14937889,\n",
       "        0.15545404,  0.16132872,  0.16594381,  0.17088594,  0.17612779,\n",
       "        0.18068922,  0.18378856,  0.18799661,  0.19114354,  0.19526452,\n",
       "        0.19714579,  0.19905643,  0.20031297,  0.20214666,  0.20224487,\n",
       "        0.20192086,  0.20098731,  0.19937639,  0.1989815 ,  0.19725616,\n",
       "        0.19387837,  0.19170043,  0.18853528,  0.18465123,  0.18043203,\n",
       "        0.17583416,  0.17090417,  0.16589116,  0.16070601,  0.15472806,\n",
       "        0.14949331,  0.14430411,  0.13785838,  0.13128202,  0.12526762,\n",
       "        0.11906185,  0.11325198,  0.10755653,  0.10083538,  0.0955338 ,\n",
       "        0.08983733,  0.08409733,  0.07849097,  0.07322584,  0.0681055 ,\n",
       "        0.0631583 ,  0.05846929,  0.05395242,  0.04937074,  0.04581374,\n",
       "        0.04209372,  0.03840509,  0.03469823,  0.03149359,  0.02858258,\n",
       "        0.02611202,  0.02343085,  0.02107167,  0.01896156,  0.01695474,\n",
       "        0.01524256,  0.01355974,  0.01196603,  0.01080061,  0.00952179])"
      ]
     },
     "execution_count": 9,
     "metadata": {},
     "output_type": "execute_result"
    }
   ],
   "source": [
    "b.pdf.y"
   ]
  },
  {
   "cell_type": "code",
   "execution_count": 11,
   "metadata": {
    "collapsed": false
   },
   "outputs": [
    {
     "data": {
      "text/plain": [
       "[<matplotlib.lines.Line2D at 0x7fc165344278>]"
      ]
     },
     "execution_count": 11,
     "metadata": {},
     "output_type": "execute_result"
    },
    {
     "data": {
      "image/png": "[encoded data removed]",
      "text/plain": [
       "<matplotlib.figure.Figure at 0x7fc150081cf8>"
      ]
     },
     "metadata": {},
     "output_type": "display_data"
    }
   ],
   "source": [
    "import matplotlib.pylab as plt\n",
    "%matplotlib inline\n",
    "x = np.linspace(0.1,9.9,100)\n",
    "y = b.pdf(x)\n",
    "yp = (b.Scale(0.9)).pdf(x)\n",
    "ypp = (b.Scale(1.5)).pdf(x)\n",
    "plt.plot(x,y)\n",
    "plt.plot(x,yp)\n",
    "plt.plot(x,ypp)\n"
   ]
  },
  {
   "cell_type": "code",
   "execution_count": 14,
   "metadata": {
    "collapsed": false
   },
   "outputs": [
    {
     "name": "stderr",
     "output_type": "stream",
     "text": [
      "/home/brais/anaconda3/lib/python3.5/site-packages/scipy/integrate/quadpack.py:356: IntegrationWarning: The maximum number of subdivisions (50) has been achieved.\n",
      "  If increasing the limit yields no improvement it is advised to analyze \n",
      "  the integrand in order to determine the difficulties.  If the position of a \n",
      "  local difficulty can be determined (singularity, discontinuity) one will \n",
      "  probably gain from splitting up the interval and calling the integrator \n",
      "  on the subranges.  Perhaps a special-purpose integrator should be used.\n",
      "  warnings.warn(msg, IntegrationWarning)\n"
     ]
    },
    {
     "data": {
      "text/plain": [
       "(1.8207809399355863, 2.9553061609455256e-05)"
      ]
     },
     "execution_count": 14,
     "metadata": {},
     "output_type": "execute_result"
    }
   ],
   "source": [
    "import scipy as sp\n",
    "sp.integrate.quad(b.pdf,b.minlim,b.maxlim)"
   ]
  },
  {
   "cell_type": "code",
   "execution_count": 13,
   "metadata": {
    "collapsed": false
   },
   "outputs": [
    {
     "data": {
      "text/plain": [
       "1.8225000000000011"
      ]
     },
     "execution_count": 13,
     "metadata": {},
     "output_type": "execute_result"
    }
   ],
   "source": [
    "b.Int"
   ]
  },
  {
   "cell_type": "code",
   "execution_count": null,
   "metadata": {
    "collapsed": false
   },
   "outputs": [],
   "source": []
  },
  {
   "cell_type": "code",
   "execution_count": null,
   "metadata": {
    "collapsed": false
   },
   "outputs": [],
   "source": []
  },
  {
   "cell_type": "code",
   "execution_count": null,
   "metadata": {
    "collapsed": true
   },
   "outputs": [],
   "source": []
  }
 ],
 "metadata": {
  "anaconda-cloud": {},
  "kernelspec": {
   "display_name": "Python [conda root]",
   "language": "python",
   "name": "conda-root-py"
  },
  "language_info": {
   "codemirror_mode": {
    "name": "ipython",
    "version": 3
   },
   "file_extension": ".py",
   "mimetype": "text/x-python",
   "name": "python",
   "nbconvert_exporter": "python",
   "pygments_lexer": "ipython3",
   "version": "3.5.2"
  }
 },
 "nbformat": 4,
 "nbformat_minor": 1
}
