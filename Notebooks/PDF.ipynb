{
 "cells": [
  {
   "cell_type": "code",
   "execution_count": null,
   "metadata": {
    "collapsed": false
   },
   "outputs": [],
   "source": [
    "import scipy as sp\n",
    "import scipy.interpolate as spip\n",
    "import scipy.integrate as spin\n",
    "import matplotlib.pylab as plt\n",
    "%matplotlib inline"
   ]
  },
  {
   "cell_type": "code",
   "execution_count": 4,
   "metadata": {
    "collapsed": true,
    "slideshow": {
     "slide_type": "-"
    }
   },
   "outputs": [],
   "source": [
    "# %load ../Tools/Histogram.py\n",
    "import numpy as np\n",
    "\n",
    "\n",
    "class Histogram():\n",
    "    '''\n",
    "    Class to storage histograms\n",
    "    '''\n",
    "    def __init__(self, data=[], nbin=None, minlim=None, maxlim=None,\n",
    "                 name='default', isotope='default', volume='default',\n",
    "                 material='default'):\n",
    "        '''\n",
    "        Creates an histogram from a given a list (empty by defoult),\n",
    "        with low and high limits, by defoult are the minimum and\n",
    "        maximum of de data sample and the bin number, by default\n",
    "        the number of data squareroot\n",
    "        '''\n",
    "\n",
    "        if len(data) == 0:\n",
    "            if minlim == 'nada' or maxlim == 'nada' or nbin == 'nada':\n",
    "                auxs = 'In order to build an empty histogram it '\n",
    "                auxs += 'is needed a minlim, maxlim and nbin'\n",
    "                raise ValueError(auxs)\n",
    "                return\n",
    "            else:\n",
    "                self.minlim = minlim\n",
    "                self.maxlim = maxlim\n",
    "                self.nbin = nbin\n",
    "\n",
    "        else:\n",
    "            if minlim is None:\n",
    "                self.minlim = min(data)\n",
    "            else:\n",
    "                self.minlim = minlim\n",
    "            if maxlim is None:\n",
    "                self.maxlim = max(data)\n",
    "            else:\n",
    "                self.maxlim = maxlim\n",
    "            if nbin is None:\n",
    "                self.nbin = int(len(data)**0.5)\n",
    "            else:\n",
    "                self.nbin = nbin\n",
    "\n",
    "        self.binsize = float(self.maxlim-self.minlim)/float(self.nbin)\n",
    "        self.hist = np.array([])\n",
    "        self.bins = np.array([])\n",
    "\n",
    "        self.Build_hist(data)\n",
    "\n",
    "        self.name = name\n",
    "        self.isotope = isotope\n",
    "        self.volume = volume\n",
    "        self.material = material\n",
    "\n",
    "    def __add__(self, hist):\n",
    "        '''\n",
    "        Suming histograms\n",
    "        '''\n",
    "\n",
    "        if not self.minlim == hist.minlim or not self.maxlim == hist.maxlim\\\n",
    "                or not self.nbin == hist.nbin:\n",
    "            raise ValueError('Histograms are not compatible')\n",
    "        else:\n",
    "            auxhist = Histogram([], self.nbin, self.minlim, self.maxlim)\n",
    "            auxhist.hist = self.hist + hist.hist\n",
    "        return auxhist\n",
    "\n",
    "    def Build_hist(self, data):\n",
    "        '''\n",
    "        Creating histogram using numpy ones but with bin centers instead\n",
    "        '''\n",
    "        auxhist, auxbins = np.histogram(np.array(data), self.nbin,\n",
    "                                        [self.minlim, self.maxlim])\n",
    "        auxbins = auxbins[:-1] + np.diff(auxbins)/2.\n",
    "        self.hist = auxhist\n",
    "        self.bins = auxbins\n",
    "\n",
    "    def Fill_hist(self, data):\n",
    "        '''\n",
    "        Filling histogram\n",
    "        '''\n",
    "        data = np.array(data)\n",
    "        self.hist += np.histogram(np.array(data), self.nbin, [self.minlim,\n",
    "                                                              self.maxlim])[0]\n",
    "\n",
    "    def Scale(self, factor):\n",
    "        '''\n",
    "        Explicit __rmul__, scales the histogram by a factor\n",
    "        '''\n",
    "        self.hist = factor*self.hist\n",
    "        return self\n"
   ]
  },
  {
   "cell_type": "code",
   "execution_count": 14,
   "metadata": {
    "collapsed": false
   },
   "outputs": [],
   "source": [
    "# %load ../Tools/PDF.py\n",
    "import scipy.interpolate as spip\n",
    "\n",
    "\n",
    "class PDF():\n",
    "    '''\n",
    "    Class to deal with spectrum and build a PDF interpolating an histogram\n",
    "    '''\n",
    "\n",
    "    def __init__(self, histogram=[], factor=1., name='default',\n",
    "                 isotope='default', volume='default', material='default',\n",
    "                 interpolation='linear', labelcopy=False):\n",
    "\n",
    "        if not labelcopy:\n",
    "            self.name = name\n",
    "            self.isotope = isotope\n",
    "            self.volume = volume\n",
    "            self.material = material\n",
    "        else:\n",
    "            self.name = histogram.name\n",
    "            self.isotope = histogram.isotope\n",
    "            self.volume = histogram.volume\n",
    "            self.material = histogram.material\n",
    "\n",
    "        self.Int = factor\n",
    "        self.minlim = 0\n",
    "        self.maxlim = 0\n",
    "        self.pdf = spip.interp1d\n",
    "        self.interpolation = interpolation\n",
    "        if histogram:\n",
    "            self.Build_PDF(histogram, factor)\n",
    "\n",
    "    def Build_PDF(self, hist, factor):\n",
    "        '''\n",
    "        It builds the pdf from the histogram normalazing\n",
    "        that is that the integral (number of events) is\n",
    "        one\n",
    "        '''\n",
    "\n",
    "        hist.Scale(float(factor)/(hist.hist.sum()*hist.binsize))\n",
    "        self.pdf = spip.interp1d(hist.bins, hist.hist,\n",
    "                                 kind=self.interpolation, bounds_error=False)\n",
    "        self.minlim = hist.bins[0]\n",
    "        self.maxlim = hist.bins[-1]\n",
    "        self.Int = self.pdf.y.sum()*(self.pdf.x[1]-self.pdf.x[0])\n",
    "\n",
    "        return\n",
    "\n",
    "    def Scale(self, factor):\n",
    "        '''\n",
    "        Method to scale the pdf. It also refresh the integral\n",
    "        counter\n",
    "        '''\n",
    "        x = self.pdf.x\n",
    "        y = factor*self.pdf.y\n",
    "        self.pdf = spip.interp1d(x, y, kind=self.interpolation,\n",
    "                                 bounds_error=False)\n",
    "        self.Int *= factor\n",
    "        return self\n"
   ]
  },
  {
   "cell_type": "code",
   "execution_count": 15,
   "metadata": {
    "collapsed": false
   },
   "outputs": [
    {
     "data": {
      "text/plain": [
       "array([  9362,  10516,  11943,  13573,  15171,  16787,  18737,  21082,\n",
       "        23332,  25564,  28418,  30976,  34229,  37424,  41452,  44796,\n",
       "        49324,  53284,  57789,  62212,  66878,  72787,  77693,  82749,\n",
       "        88343,  94619, 100085, 105954, 111894, 117474, 123981, 129529,\n",
       "       136489, 141483, 147910, 153145, 159120, 164678, 168361, 173747,\n",
       "       178399, 182077, 186526, 189730, 191710, 194102, 196638, 197713,\n",
       "       198534, 198990, 200044, 198997, 197450, 195932, 194715, 192065,\n",
       "       189060, 185917, 182480, 178230, 174581, 169697, 164756, 158940,\n",
       "       153535, 147578, 141795, 135324, 129536, 124011, 117625, 111804,\n",
       "       105967,  99635,  93769,  89002,  82870,  77669,  72215,  67232,\n",
       "        62272,  57569,  53564,  49337,  45077,  41377,  37458,  34362,\n",
       "        31294,  28554,  25844,  23171,  20659,  18918,  16701,  14789,\n",
       "        13409,  11760,  10462,   9468])"
      ]
     },
     "execution_count": 15,
     "metadata": {},
     "output_type": "execute_result"
    }
   ],
   "source": [
    "auxlist = np.random.normal(5,2,10000000)\n",
    "a = Histogram(auxlist,100,0,10)\n",
    "a.hist\n"
   ]
  },
  {
   "cell_type": "code",
   "execution_count": 16,
   "metadata": {
    "collapsed": false
   },
   "outputs": [],
   "source": [
    "b = PDF(a,interpolation='linear')"
   ]
  },
  {
   "cell_type": "code",
   "execution_count": 17,
   "metadata": {
    "collapsed": false
   },
   "outputs": [
    {
     "data": {
      "text/plain": [
       "array([ 0.00947975,  0.01064827,  0.01209322,  0.01374372,  0.01536182,\n",
       "        0.01699814,  0.01897267,  0.02134716,  0.02362546,  0.02588554,\n",
       "        0.02877543,  0.03136561,  0.03465952,  0.03789471,  0.04197337,\n",
       "        0.04535943,  0.04994438,  0.05395419,  0.05851585,  0.06299449,\n",
       "        0.06771917,  0.0737025 ,  0.0786702 ,  0.08378979,  0.08945415,\n",
       "        0.09580909,  0.10134384,  0.10728666,  0.11330137,  0.11895156,\n",
       "        0.1255404 ,  0.13115818,  0.13820572,  0.14326254,  0.14977037,\n",
       "        0.15507122,  0.16112137,  0.16674928,  0.1704786 ,  0.17593234,\n",
       "        0.18064286,  0.18436712,  0.18887207,  0.19211637,  0.19412128,\n",
       "        0.19654336,  0.19911126,  0.20019978,  0.20103111,  0.20149284,\n",
       "        0.2025601 ,  0.20149993,  0.19993347,  0.19839638,  0.19716407,\n",
       "        0.19448074,  0.19143795,  0.18825541,  0.18477518,  0.18047173,\n",
       "        0.17677683,  0.1718314 ,  0.16682826,  0.16093911,  0.15546612,\n",
       "        0.1494342 ,  0.14357846,  0.13702607,  0.13116527,  0.12557078,\n",
       "        0.11910446,  0.11321024,  0.10729982,  0.10088818,  0.0949484 ,\n",
       "        0.09012144,  0.08391232,  0.0786459 ,  0.0731233 ,  0.06807763,\n",
       "        0.06305524,  0.05829309,  0.05423771,  0.04995755,  0.04564397,\n",
       "        0.04189743,  0.03792914,  0.0347942 ,  0.03168761,  0.02891314,\n",
       "        0.02616906,  0.02346244,  0.02091884,  0.01915595,  0.01691106,\n",
       "        0.01497501,  0.01357765,  0.01190791,  0.01059359,  0.00958709])"
      ]
     },
     "execution_count": 17,
     "metadata": {},
     "output_type": "execute_result"
    }
   ],
   "source": [
    "b.pdf.y"
   ]
  },
  {
   "cell_type": "code",
   "execution_count": 18,
   "metadata": {
    "collapsed": false
   },
   "outputs": [
    {
     "data": {
      "text/plain": [
       "[<matplotlib.lines.Line2D at 0x7f57834d5eb8>]"
      ]
     },
     "execution_count": 18,
     "metadata": {},
     "output_type": "execute_result"
    },
    {
     "data": {
      "image/png": "[encoded data removed]",
      "text/plain": [
       "<matplotlib.figure.Figure at 0x7f57ad186278>"
      ]
     },
     "metadata": {},
     "output_type": "display_data"
    }
   ],
   "source": [
    "import matplotlib.pylab as plt\n",
    "%matplotlib inline\n",
    "x = np.linspace(0.1,9.9,100)\n",
    "y = b.pdf(x)\n",
    "yp = (b.Scale(0.9)).pdf(x)\n",
    "ypp = (b.Scale(1.5)).pdf(x)\n",
    "plt.plot(x,y)\n",
    "plt.plot(x,yp)\n",
    "plt.plot(x,ypp)\n"
   ]
  },
  {
   "cell_type": "code",
   "execution_count": 19,
   "metadata": {
    "collapsed": false
   },
   "outputs": [
    {
     "name": "stderr",
     "output_type": "stream",
     "text": [
      "/home/brais/anaconda3/lib/python3.5/site-packages/scipy/integrate/quadpack.py:356: IntegrationWarning: The maximum number of subdivisions (50) has been achieved.\n",
      "  If increasing the limit yields no improvement it is advised to analyze \n",
      "  the integrand in order to determine the difficulties.  If the position of a \n",
      "  local difficulty can be determined (singularity, discontinuity) one will \n",
      "  probably gain from splitting up the interval and calling the integrator \n",
      "  on the subranges.  Perhaps a special-purpose integrator should be used.\n",
      "  warnings.warn(msg, IntegrationWarning)\n"
     ]
    },
    {
     "data": {
      "text/plain": [
       "(1.3487124225778615, 0.00032697319746444187)"
      ]
     },
     "execution_count": 19,
     "metadata": {},
     "output_type": "execute_result"
    }
   ],
   "source": [
    "import scipy as sp\n",
    "sp.integrate.quad(b.pdf,b.minlim,b.maxlim)"
   ]
  },
  {
   "cell_type": "code",
   "execution_count": 20,
   "metadata": {
    "collapsed": false
   },
   "outputs": [
    {
     "data": {
      "text/plain": [
       "1.3500000000000008"
      ]
     },
     "execution_count": 20,
     "metadata": {},
     "output_type": "execute_result"
    }
   ],
   "source": [
    "b.Int"
   ]
  },
  {
   "cell_type": "code",
   "execution_count": 22,
   "metadata": {
    "collapsed": false
   },
   "outputs": [],
   "source": [
    "c = PDF(a,2.,'linear')"
   ]
  },
  {
   "cell_type": "code",
   "execution_count": 23,
   "metadata": {
    "collapsed": false
   },
   "outputs": [
    {
     "data": {
      "text/plain": [
       "1.9999999999999998"
      ]
     },
     "execution_count": 23,
     "metadata": {},
     "output_type": "execute_result"
    }
   ],
   "source": [
    "c.Int"
   ]
  },
  {
   "cell_type": "code",
   "execution_count": null,
   "metadata": {
    "collapsed": true
   },
   "outputs": [],
   "source": []
  }
 ],
 "metadata": {
  "anaconda-cloud": {},
  "kernelspec": {
   "display_name": "Python [conda root]",
   "language": "python",
   "name": "conda-root-py"
  },
  "language_info": {
   "codemirror_mode": {
    "name": "ipython",
    "version": 3
   },
   "file_extension": ".py",
   "mimetype": "text/x-python",
   "name": "python",
   "nbconvert_exporter": "python",
   "pygments_lexer": "ipython3",
   "version": "3.5.2"
  }
 },
 "nbformat": 4,
 "nbformat_minor": 1
}
