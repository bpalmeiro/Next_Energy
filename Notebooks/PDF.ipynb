{
 "cells": [
  {
   "cell_type": "code",
   "execution_count": 48,
   "metadata": {
    "collapsed": false
   },
   "outputs": [],
   "source": [
    "import scipy as sp\n",
    "import scipy.interpolate as spi\n",
    "import matplotlib.pylab as plt\n",
    "%matplotlib inline"
   ]
  },
  {
   "cell_type": "code",
   "execution_count": 41,
   "metadata": {
    "collapsed": true,
    "slideshow": {
     "slide_type": "-"
    }
   },
   "outputs": [],
   "source": [
    "# %load ../Tools/Histogram.py\n",
    "# %load ../Tools/Histogram.py\n",
    "import numpy as np\n",
    "\n",
    "\n",
    "class Histogram():\n",
    "    '''\n",
    "    Class to storage histograms\n",
    "    '''\n",
    "    def __init__(self, data=[], nbin=None, minlim=None, maxlim=None):\n",
    "        '''\n",
    "        Creates an histogram from a given a list (empty by defoult),\n",
    "        with low and high limits, by defoult are the minimum and maximum\n",
    "        of de data sample and the bin number, by default the number of\n",
    "        data squareroot\n",
    "        '''\n",
    "\n",
    "        if len(data) == 0:\n",
    "            if minlim == 'nada' or maxlim == 'nada' or nbin == 'nada':\n",
    "                auxs = 'In order to build an empty histogram it '\n",
    "                auxs += 'is needed a minlim, maxlim and nbin'\n",
    "                raise ValueError(auxs)\n",
    "                return\n",
    "            else:\n",
    "                self.minlim = minlim\n",
    "                self.maxlim = maxlim\n",
    "                self.nbin = nbin\n",
    "\n",
    "        else:\n",
    "            if minlim is None:\n",
    "                self.minlim = min(data)\n",
    "            else:\n",
    "                self.minlim = minlim\n",
    "            if maxlim is None:\n",
    "                self.maxlim = max(data)\n",
    "            else:\n",
    "                self.maxlim = maxlim\n",
    "            if nbin is None:\n",
    "                self.nbin = int(len(data)**0.5)\n",
    "            else:\n",
    "                self.nbin = nbin\n",
    "\n",
    "        self.binsize = float(self.maxlim-self.minlim)/float(self.nbin)\n",
    "        self.hist = np.array([])\n",
    "        self.bins = np.array([])\n",
    "\n",
    "        self.Build_hist(data)\n",
    "\n",
    "    def __add__(self, hist):\n",
    "        '''\n",
    "        Suming histograms\n",
    "        '''\n",
    "\n",
    "        if not self.minlim == hist.minlim or not self.maxlim == hist.maxlim\\\n",
    "                or not self.nbin == hist.nbin:\n",
    "            raise ValueError('Histograms are not compatible')\n",
    "        else:\n",
    "            auxhist = Histogram([], self.nbin, self.minlim, self.maxlim)\n",
    "            auxhist.hist = self.hist + hist.hist\n",
    "        return auxhist\n",
    "\n",
    "    def Build_hist(self, data):\n",
    "        '''\n",
    "        Creating histogram using numpy ones but with bin centers instead\n",
    "        '''\n",
    "        auxhist, auxbins = np.histogram(np.array(data), self.nbin,\n",
    "                                        [self.minlim, self.maxlim])\n",
    "        auxbins = auxbins[:-1] + np.diff(auxbins)/2.\n",
    "        self.hist = auxhist\n",
    "        self.bins = auxbins\n",
    "\n",
    "    def Fill_hist(self, data):\n",
    "        '''\n",
    "        Filling histogram\n",
    "        '''\n",
    "        data = np.array(data)\n",
    "        self.hist += np.histogram(np.array(data), self.nbin, [self.minlim,\n",
    "                                                              self.maxlim])[0]\n",
    "\n",
    "    def Scale(self, factor):\n",
    "        '''\n",
    "        Explicit __rmul__, scales the histogram by a factor\n",
    "        '''\n",
    "        self.hist = factor*self.hist\n",
    "        return self\n"
   ]
  },
  {
   "cell_type": "code",
   "execution_count": 151,
   "metadata": {
    "collapsed": false
   },
   "outputs": [],
   "source": [
    "class PDF():\n",
    "    '''\n",
    "    Class to deal with spectrum and build a PDF interpolating an histogram\n",
    "    '''\n",
    "    \n",
    "    def __init__ (self, histogram = [], interpolation='linear'):\n",
    "    \n",
    "        self.Nevs = 0.\n",
    "        self.minlim = 0\n",
    "        self.maxlim = 0\n",
    "        self.pdf = spi.interp1d\n",
    "        self.interpolation = interpolation\n",
    "        if histogram:\n",
    "            self.Build_PDF(histogram)\n",
    "    \n",
    "    def Build_PDF(self, hist):\n",
    "        hist.Scale(1./(hist.hist.sum()*hist.binsize))\n",
    "        self.pdf = spi.interp1d( hist.bins, hist.hist, kind=self.interpolation)\n",
    "        self.Nevs = 1.\n",
    "        self.minlim = hist.bins[0]\n",
    "        self.maxlim = hist.bins[-1]"
   ]
  },
  {
   "cell_type": "code",
   "execution_count": 152,
   "metadata": {
    "collapsed": false
   },
   "outputs": [
    {
     "data": {
      "text/plain": [
       "array([  9278,  10498,  11802,  13357,  15008,  16611,  18966,  20541,\n",
       "        23375,  25756,  28330,  31435,  34195,  38037,  41747,  44803,\n",
       "        49270,  53585,  57372,  62559,  67137,  72043,  77792,  82418,\n",
       "        88526,  94294,  99869, 105760, 112148, 117434, 123540, 129683,\n",
       "       135711, 141225, 147597, 153688, 158773, 163787, 169253, 174249,\n",
       "       177651, 183314, 185906, 189282, 192304, 195201, 196908, 198136,\n",
       "       199599, 199464, 199386, 198277, 198532, 196243, 194529, 192606,\n",
       "       188987, 186323, 181567, 178505, 173593, 170171, 163929, 158400,\n",
       "       153470, 147537, 141991, 135615, 130496, 124452, 117921, 111426,\n",
       "       106129, 100524,  93926,  88304,  82561,  77586,  71887,  67037,\n",
       "        62121,  57426,  53396,  48681,  44969,  41218,  37455,  34441,\n",
       "        30911,  28362,  25615,  23000,  20634,  18599,  16851,  15012,\n",
       "        13236,  12002,  10537,   9373])"
      ]
     },
     "execution_count": 152,
     "metadata": {},
     "output_type": "execute_result"
    }
   ],
   "source": [
    "auxlist = np.random.normal(5,2,10000000)\n",
    "a = Histogram(auxlist,100,0,10)\n",
    "a.hist\n"
   ]
  },
  {
   "cell_type": "code",
   "execution_count": 159,
   "metadata": {
    "collapsed": false
   },
   "outputs": [],
   "source": [
    "b = PDF(a,'linear')"
   ]
  },
  {
   "cell_type": "code",
   "execution_count": 164,
   "metadata": {
    "collapsed": false
   },
   "outputs": [
    {
     "ename": "TypeError",
     "evalue": "unsupported operand type(s) for *: 'int' and 'interp1d'",
     "output_type": "error",
     "traceback": [
      "\u001b[0;31m---------------------------------------------------------------------------\u001b[0m",
      "\u001b[0;31mTypeError\u001b[0m                                 Traceback (most recent call last)",
      "\u001b[0;32m<ipython-input-164-f0e07f96c26a>\u001b[0m in \u001b[0;36m<module>\u001b[0;34m()\u001b[0m\n\u001b[0;32m----> 1\u001b[0;31m \u001b[0;36m2\u001b[0m\u001b[0;34m*\u001b[0m\u001b[0mb\u001b[0m\u001b[0;34m.\u001b[0m\u001b[0mpdf\u001b[0m\u001b[0;34m\u001b[0m\u001b[0m\n\u001b[0m",
      "\u001b[0;31mTypeError\u001b[0m: unsupported operand type(s) for *: 'int' and 'interp1d'"
     ]
    }
   ],
   "source": [
    "b.pdf"
   ]
  },
  {
   "cell_type": "code",
   "execution_count": 161,
   "metadata": {
    "collapsed": false
   },
   "outputs": [
    {
     "data": {
      "text/plain": [
       "[<matplotlib.lines.Line2D at 0x7f87107afed0>]"
      ]
     },
     "execution_count": 161,
     "metadata": {},
     "output_type": "execute_result"
    },
    {
     "data": {
      "image/png": "[encoded data removed]",
      "text/plain": [
       "<matplotlib.figure.Figure at 0x7f871081f6d0>"
      ]
     },
     "metadata": {},
     "output_type": "display_data"
    }
   ],
   "source": [
    "x = np.linspace(0.1,9.9,100)\n",
    "y = b.pdf(x)\n",
    "\n",
    "plt.plot(x,y)"
   ]
  },
  {
   "cell_type": "code",
   "execution_count": 162,
   "metadata": {
    "collapsed": false
   },
   "outputs": [
    {
     "data": {
      "text/plain": [
       "(0.99905596151431, 3.540214509389905e-05)"
      ]
     },
     "execution_count": 162,
     "metadata": {},
     "output_type": "execute_result"
    }
   ],
   "source": [
    "sp.integrate.quad(b.pdf,b.minlim,b.maxlim)"
   ]
  },
  {
   "cell_type": "code",
   "execution_count": null,
   "metadata": {
    "collapsed": true
   },
   "outputs": [],
   "source": []
  }
 ],
 "metadata": {
  "anaconda-cloud": {},
  "kernelspec": {
   "display_name": "Python [conda root]",
   "language": "python",
   "name": "conda-root-py"
  },
  "language_info": {
   "codemirror_mode": {
    "name": "ipython",
    "version": 2
   },
   "file_extension": ".py",
   "mimetype": "text/x-python",
   "name": "python",
   "nbconvert_exporter": "python",
   "pygments_lexer": "ipython2",
   "version": "2.7.12"
  }
 },
 "nbformat": 4,
 "nbformat_minor": 1
}
