{
 "cells": [
  {
   "cell_type": "code",
   "execution_count": 2,
   "metadata": {
    "collapsed": true
   },
   "outputs": [],
   "source": [
    "import scipy as sp"
   ]
  },
  {
   "cell_type": "code",
   "execution_count": 1,
   "metadata": {
    "collapsed": true,
    "slideshow": {
     "slide_type": "-"
    }
   },
   "outputs": [],
   "source": [
    "# %load ../Tools/Histogram.py\n",
    "import numpy as np\n",
    "\n",
    "\n",
    "class Histogram():\n",
    "    '''\n",
    "    Class to storage histograms\n",
    "    '''\n",
    "\n",
    "    def __init__ (self,data=[], nbin = 'nada', minlim = 'nada',maxlim = 'nada'):\n",
    "        '''\n",
    "        Crea un histograma a partir de una lista (por defecto vacía), \n",
    "        con limites inferior y superior, que por defecto seran el \n",
    "        maximo y el minimo de los datos y un numero de bines, que \n",
    "        por defecto sera la raiz del numero de datos\n",
    "        '''  \n",
    "        \n",
    "        N = len(data)\n",
    "        if N == 0:\n",
    "            if minlim=='nada' or maxlim=='nada' or nbin=='nada':\n",
    "                auxs = 'In order to build an empty histogram it '\n",
    "                auxs += 'is needed a minlim, maxlim and nbin'\n",
    "                    \n",
    "                print auxs\n",
    "                return\n",
    "            else:   \n",
    "                self.minlim = minlim\n",
    "                self.maxlim = maxlim\n",
    "                self.nbin = nbin\n",
    "            \n",
    "        else:\n",
    "            if minlim=='nada':\n",
    "                self.minlim = min(data)\n",
    "            else:\n",
    "                self.minlim =minlim\n",
    "            if maxlim=='nada':\n",
    "                self.maxlim = max(data)\n",
    "            else:\n",
    "                self.maxlim = maxlim \n",
    "            if nbin=='nada':\n",
    "                self.nbin = int(N**0.5)\n",
    "            else:\n",
    "                self.nbin = nbin\n",
    "\n",
    "        self.binsize = float(self.maxlim-self.minlim)/float(self.nbin)\n",
    "        self.hist = np.array([])\n",
    "        self.bins = np.array([])\n",
    "        \n",
    "        self.Build_hist(data)\n",
    "\n",
    "    def __add__(self,hist):\n",
    "        '''\n",
    "        Suming histograms\n",
    "        '''  \n",
    "        \n",
    "        if not self.minlim==hist.minlim and self.maxlim==hist.maxlim and self.nbin==hist.nbin:\n",
    "            raise InputError('Histograms no compatible')\n",
    "        else:\n",
    "            auxhist = Histogram([],self.minlim, self.maxlim, self.nbin)\n",
    "            auxhist.hist = self.hist + hist.hist\n",
    "        return auxhist\n",
    "        \n",
    "        \n",
    "    def Build_hist(self, data):\n",
    "        '''\n",
    "        Creating histogram using numpy ones but with bin centers instead\n",
    "        '''\n",
    "        auxhist,auxbins = np.histogram(np.array(data),self.nbin,[self.minlim,self.maxlim])\n",
    "        auxbins = auxbins[:-1] + np.diff(auxbins)/2.\n",
    "        self.hist = auxhist\n",
    "        self.bins = auxbins\n",
    "     \n",
    "    def Fill_hist(self, data):\n",
    "        '''\n",
    "        Filling histogram\n",
    "        '''\n",
    "        data = np.array(data)\n",
    "        self.hist += np.histogram(np.array(data),self.nbin,[self.minlim,self.maxlim])[0]\n",
    "    \n",
    "    \n",
    "    \n",
    "    def Scale(self,factor):\n",
    "        '''\n",
    "        Explicit __rmul__, scales the histogram by a factor\n",
    "        '''\n"
   ]
  },
  {
   "cell_type": "code",
   "execution_count": null,
   "metadata": {
    "collapsed": false
   },
   "outputs": [],
   "source": [
    "class PDF()\n",
    "    '''\n",
    "    \n",
    "    '''\n",
    "    "
   ]
  },
  {
   "cell_type": "code",
   "execution_count": null,
   "metadata": {
    "collapsed": true
   },
   "outputs": [],
   "source": []
  }
 ],
 "metadata": {
  "anaconda-cloud": {},
  "kernelspec": {
   "display_name": "Python [conda root]",
   "language": "python",
   "name": "conda-root-py"
  },
  "language_info": {
   "codemirror_mode": {
    "name": "ipython",
    "version": 2
   },
   "file_extension": ".py",
   "mimetype": "text/x-python",
   "name": "python",
   "nbconvert_exporter": "python",
   "pygments_lexer": "ipython2",
   "version": "2.7.12"
  }
 },
 "nbformat": 4,
 "nbformat_minor": 1
}
