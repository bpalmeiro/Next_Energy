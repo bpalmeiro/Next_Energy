{
 "cells": [
  {
   "cell_type": "code",
   "execution_count": 1,
   "metadata": {
    "collapsed": false
   },
   "outputs": [],
   "source": [
    "import scipy as sp\n",
    "import scipy.interpolate as spip\n",
    "import scipy.integrate as spin\n",
    "import matplotlib.pylab as plt\n",
    "%matplotlib inline"
   ]
  },
  {
   "cell_type": "code",
   "execution_count": 2,
   "metadata": {
    "collapsed": true,
    "slideshow": {
     "slide_type": "-"
    }
   },
   "outputs": [],
   "source": [
    "# %load ../Tools/Histogram.py\n",
    "import numpy as np\n",
    "\n",
    "\n",
    "class Histogram():\n",
    "    '''\n",
    "    Class to storage histograms\n",
    "    '''\n",
    "    def __init__(self, data=[], nbin=None, minlim=None, maxlim=None,\n",
    "                 name='default', isotope='default', volume='default',\n",
    "                 material='default'):\n",
    "        '''\n",
    "        Creates an histogram from a given a list (empty by defoult),\n",
    "        with low and high limits, by defoult are the minimum and\n",
    "        maximum of de data sample and the bin number, by default\n",
    "        the number of data squareroot\n",
    "        '''\n",
    "\n",
    "        if len(data) == 0:\n",
    "            if minlim == 'nada' or maxlim == 'nada' or nbin == 'nada':\n",
    "                auxs = 'In order to build an empty histogram it '\n",
    "                auxs += 'is needed a minlim, maxlim and nbin'\n",
    "                raise ValueError(auxs)\n",
    "                return\n",
    "            else:\n",
    "                self.minlim = minlim\n",
    "                self.maxlim = maxlim\n",
    "                self.nbin = nbin\n",
    "\n",
    "        else:\n",
    "            if minlim is None:\n",
    "                self.minlim = min(data)\n",
    "            else:\n",
    "                self.minlim = minlim\n",
    "            if maxlim is None:\n",
    "                self.maxlim = max(data)\n",
    "            else:\n",
    "                self.maxlim = maxlim\n",
    "            if nbin is None:\n",
    "                self.nbin = int(len(data)**0.5)\n",
    "            else:\n",
    "                self.nbin = nbin\n",
    "\n",
    "        self.binsize = float(self.maxlim-self.minlim)/float(self.nbin)\n",
    "        self.hist = np.array([])\n",
    "        self.bins = np.array([])\n",
    "\n",
    "        self.Build_hist(data)\n",
    "\n",
    "        self.name = name\n",
    "        self.isotope = isotope\n",
    "        self.volume = volume\n",
    "        self.material = material\n",
    "\n",
    "    def __add__(self, hist):\n",
    "        '''\n",
    "        Suming histograms\n",
    "        '''\n",
    "\n",
    "        if not self.minlim == hist.minlim or not self.maxlim == hist.maxlim\\\n",
    "                or not self.nbin == hist.nbin:\n",
    "            raise ValueError('Histograms are not compatible')\n",
    "        else:\n",
    "            auxhist = Histogram([], self.nbin, self.minlim, self.maxlim)\n",
    "            auxhist.hist = self.hist + hist.hist\n",
    "        return auxhist\n",
    "\n",
    "    def Build_hist(self, data):\n",
    "        '''\n",
    "        Creating histogram using numpy ones but with bin centers instead\n",
    "        '''\n",
    "        auxhist, auxbins = np.histogram(np.array(data), self.nbin,\n",
    "                                        [self.minlim, self.maxlim])\n",
    "        auxbins = auxbins[:-1] + np.diff(auxbins)/2.\n",
    "        self.hist = auxhist\n",
    "        self.bins = auxbins\n",
    "\n",
    "    def Fill_hist(self, data):\n",
    "        '''\n",
    "        Filling histogram\n",
    "        '''\n",
    "        data = np.array(data)\n",
    "        self.hist += np.histogram(np.array(data), self.nbin, [self.minlim,\n",
    "                                                              self.maxlim])[0]\n",
    "\n",
    "    def Scale(self, factor):\n",
    "        '''\n",
    "        Explicit __rmul__, scales the histogram by a factor\n",
    "        '''\n",
    "        self.hist = factor*self.hist\n",
    "        return self\n"
   ]
  },
  {
   "cell_type": "code",
   "execution_count": 3,
   "metadata": {
    "collapsed": false
   },
   "outputs": [],
   "source": [
    "# %load ../Tools/PDF.py\n",
    "import scipy.interpolate as spip\n",
    "\n",
    "\n",
    "class PDF():\n",
    "    '''\n",
    "    Class to deal with spectrum and build a PDF interpolating an histogram\n",
    "    '''\n",
    "\n",
    "    def __init__(self, histogram=[], factor=1., name='default',\n",
    "                 isotope='default', volume='default', material='default',\n",
    "                 interpolation='linear', labelcopy=False):\n",
    "\n",
    "        if not labelcopy:\n",
    "            self.name = name\n",
    "            self.isotope = isotope\n",
    "            self.volume = volume\n",
    "            self.material = material\n",
    "        else:\n",
    "            self.name = histogram.name\n",
    "            self.isotope = histogram.isotope\n",
    "            self.volume = histogram.volume\n",
    "            self.material = histogram.material\n",
    "\n",
    "        self.Int = factor\n",
    "        self.minlim = 0\n",
    "        self.maxlim = 0\n",
    "        self.pdf = spip.interp1d\n",
    "        self.interpolation = interpolation\n",
    "        if histogram:\n",
    "            self.Build_PDF(histogram, factor)\n",
    "\n",
    "    def Build_PDF(self, hist, factor):\n",
    "        '''\n",
    "        It builds the pdf from the histogram normalazing\n",
    "        that is that the integral (number of events) is\n",
    "        one\n",
    "        '''\n",
    "\n",
    "        hist.Scale(float(factor)/(hist.hist.sum()*hist.binsize))\n",
    "        self.pdf = spip.interp1d(hist.bins, hist.hist,\n",
    "                                 kind=self.interpolation, bounds_error=False)\n",
    "        self.minlim = hist.bins[0]\n",
    "        self.maxlim = hist.bins[-1]\n",
    "        self.Int = self.pdf.y.sum()*(self.pdf.x[1]-self.pdf.x[0])\n",
    "\n",
    "        return\n",
    "\n",
    "    def Scale(self, factor):\n",
    "        '''\n",
    "        Method to scale the pdf. It also refresh the integral\n",
    "        counter\n",
    "        '''\n",
    "        x = self.pdf.x\n",
    "        y = factor*self.pdf.y\n",
    "        self.pdf = spip.interp1d(x, y, kind=self.interpolation,\n",
    "                                 bounds_error=False)\n",
    "        self.Int *= factor\n",
    "        return self\n"
   ]
  },
  {
   "cell_type": "code",
   "execution_count": 4,
   "metadata": {
    "collapsed": false
   },
   "outputs": [
    {
     "data": {
      "text/plain": [
       "array([  9508,  10598,  11876,  13354,  15095,  16872,  18624,  20802,\n",
       "        23503,  25464,  28584,  31349,  34267,  37977,  41037,  44638,\n",
       "        48897,  53419,  57634,  62138,  67040,  72210,  77013,  83077,\n",
       "        88882,  94029, 100117, 106055, 111819, 118331, 123893, 130156,\n",
       "       135983, 142244, 147459, 152844, 159737, 163889, 170016, 173446,\n",
       "       178511, 181694, 185496, 189241, 192383, 195153, 196575, 197860,\n",
       "       198716, 199183, 199200, 198315, 197665, 196618, 194420, 191924,\n",
       "       189290, 185889, 181756, 177800, 174725, 169116, 163849, 158525,\n",
       "       153466, 147329, 142120, 135825, 129741, 124194, 118456, 111746,\n",
       "       106368,  99574,  94356,  88453,  83305,  77287,  72404,  66918,\n",
       "        62524,  57369,  53210,  48645,  45257,  41228,  37680,  34612,\n",
       "        31171,  28163,  25795,  23245,  20828,  18887,  16828,  15331,\n",
       "        13277,  11920,  10502,   9383])"
      ]
     },
     "execution_count": 4,
     "metadata": {},
     "output_type": "execute_result"
    }
   ],
   "source": [
    "auxlist = np.random.normal(5,2,10000000)\n",
    "a = Histogram(auxlist,100,0,10)\n",
    "a.hist\n"
   ]
  },
  {
   "cell_type": "code",
   "execution_count": 5,
   "metadata": {
    "collapsed": false
   },
   "outputs": [],
   "source": [
    "b = PDF(a,interpolation='linear')"
   ]
  },
  {
   "cell_type": "code",
   "execution_count": 6,
   "metadata": {
    "collapsed": false
   },
   "outputs": [
    {
     "data": {
      "text/plain": [
       "array([ 0.00962818,  0.01073196,  0.01202611,  0.0135228 ,  0.0152858 ,\n",
       "        0.01708526,  0.01885941,  0.02106494,  0.02380008,  0.02578587,\n",
       "        0.0289453 ,  0.03174525,  0.03470014,  0.03845703,  0.04155571,\n",
       "        0.04520223,  0.04951506,  0.05409422,  0.0583625 ,  0.06292343,\n",
       "        0.06788739,  0.07312274,  0.07798645,  0.0841271 ,  0.09000548,\n",
       "        0.09521753,  0.10138249,  0.10739554,  0.1132324 ,  0.11982671,\n",
       "        0.12545902,  0.13180118,  0.13770184,  0.14404198,  0.14932289,\n",
       "        0.15477596,  0.16175609,  0.16596057,  0.17216502,  0.17563837,\n",
       "        0.18076739,  0.18399063,  0.18784068,  0.19163302,  0.19481474,\n",
       "        0.19761975,  0.19905972,  0.20036097,  0.20122779,  0.20170069,\n",
       "        0.2017179 ,  0.20082172,  0.2001635 ,  0.19910327,  0.19687748,\n",
       "        0.19434993,  0.19168264,  0.18823865,  0.18405341,  0.18004741,\n",
       "        0.17693354,  0.17125364,  0.16592006,  0.16052877,  0.15540582,\n",
       "        0.14919125,  0.14391641,  0.13754184,  0.13138094,  0.12576382,\n",
       "        0.11995329,  0.11315848,  0.1077125 ,  0.10083262,  0.09554867,\n",
       "        0.08957105,  0.08435798,  0.07826391,  0.07331919,  0.06776385,\n",
       "        0.06331431,  0.05809415,  0.05388258,  0.04925988,  0.04582905,\n",
       "        0.04174913,  0.03815628,  0.0350495 ,  0.031565  ,  0.02851898,\n",
       "        0.02612105,  0.02353882,  0.02109127,  0.01912573,  0.01704071,\n",
       "        0.01552479,  0.01344482,  0.01207067,  0.01063475,  0.0095016 ])"
      ]
     },
     "execution_count": 6,
     "metadata": {},
     "output_type": "execute_result"
    }
   ],
   "source": [
    "b.pdf.y"
   ]
  },
  {
   "cell_type": "code",
   "execution_count": 7,
   "metadata": {
    "collapsed": false
   },
   "outputs": [
    {
     "data": {
      "text/plain": [
       "[<matplotlib.lines.Line2D at 0x7ff9815d54e0>]"
      ]
     },
     "execution_count": 7,
     "metadata": {},
     "output_type": "execute_result"
    },
    {
     "data": {
      "image/png": "[encoded data removed]",
      "text/plain": [
       "<matplotlib.figure.Figure at 0x7ff97c044390>"
      ]
     },
     "metadata": {},
     "output_type": "display_data"
    }
   ],
   "source": [
    "import matplotlib.pylab as plt\n",
    "%matplotlib inline\n",
    "x = np.linspace(0.1,9.9,100)\n",
    "y = b.pdf(x)\n",
    "yp = (b.Scale(0.9)).pdf(x)\n",
    "ypp = (b.Scale(1.5)).pdf(x)\n",
    "plt.plot(x,y)\n",
    "plt.plot(x,yp)\n",
    "plt.plot(x,ypp)\n"
   ]
  },
  {
   "cell_type": "code",
   "execution_count": 8,
   "metadata": {
    "collapsed": false
   },
   "outputs": [
    {
     "name": "stderr",
     "output_type": "stream",
     "text": [
      "/home/brais/anaconda3/lib/python3.5/site-packages/scipy/integrate/quadpack.py:356: IntegrationWarning: The maximum number of subdivisions (50) has been achieved.\n",
      "  If increasing the limit yields no improvement it is advised to analyze \n",
      "  the integrand in order to determine the difficulties.  If the position of a \n",
      "  local difficulty can be determined (singularity, discontinuity) one will \n",
      "  probably gain from splitting up the interval and calling the integrator \n",
      "  on the subranges.  Perhaps a special-purpose integrator should be used.\n",
      "  warnings.warn(msg, IntegrationWarning)\n"
     ]
    },
    {
     "data": {
      "text/plain": [
       "(1.348709976646281, 0.00011790450591631085)"
      ]
     },
     "execution_count": 8,
     "metadata": {},
     "output_type": "execute_result"
    }
   ],
   "source": [
    "import scipy as sp\n",
    "sp.integrate.quad(b.pdf,b.minlim,b.maxlim)"
   ]
  },
  {
   "cell_type": "code",
   "execution_count": 9,
   "metadata": {
    "collapsed": false
   },
   "outputs": [
    {
     "data": {
      "text/plain": [
       "1.3499999999999999"
      ]
     },
     "execution_count": 9,
     "metadata": {},
     "output_type": "execute_result"
    }
   ],
   "source": [
    "b.Int"
   ]
  },
  {
   "cell_type": "code",
   "execution_count": 10,
   "metadata": {
    "collapsed": false
   },
   "outputs": [],
   "source": [
    "c = PDF(a,2.,'linear')"
   ]
  },
  {
   "cell_type": "code",
   "execution_count": 11,
   "metadata": {
    "collapsed": false
   },
   "outputs": [
    {
     "data": {
      "text/plain": [
       "2.0000000000000004"
      ]
     },
     "execution_count": 11,
     "metadata": {},
     "output_type": "execute_result"
    }
   ],
   "source": [
    "c.Int"
   ]
  },
  {
   "cell_type": "code",
   "execution_count": null,
   "metadata": {
    "collapsed": true
   },
   "outputs": [],
   "source": []
  }
 ],
 "metadata": {
  "anaconda-cloud": {},
  "kernelspec": {
   "display_name": "Python [conda root]",
   "language": "python",
   "name": "conda-root-py"
  },
  "language_info": {
   "codemirror_mode": {
    "name": "ipython",
    "version": 3
   },
   "file_extension": ".py",
   "mimetype": "text/x-python",
   "name": "python",
   "nbconvert_exporter": "python",
   "pygments_lexer": "ipython3",
   "version": "3.5.2"
  }
 },
 "nbformat": 4,
 "nbformat_minor": 1
}
