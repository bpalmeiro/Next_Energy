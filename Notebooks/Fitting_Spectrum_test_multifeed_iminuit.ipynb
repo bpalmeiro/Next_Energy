{
 "cells": [
  {
   "cell_type": "markdown",
   "metadata": {},
   "source": [
    "#  Fitting Spectrum\n",
    "\n",
    "This notebook shows the aplication of fitting code to a toy 6-component background model, eg 3 isotopes fimes 2 volumes. The fit is done simulaneously on E and Z 1D histograms, assuming the two to be uncorrelated. The fit is performed with iminuit. "
   ]
  },
  {
   "cell_type": "code",
   "execution_count": null,
   "metadata": {},
   "outputs": [],
   "source": [
    "import matplotlib.pylab as plt\n",
    "#import scipy.optimize as sop\n",
    "from iminuit import Minuit\n",
    "import tables as tb\n",
    "import pandas as pd\n",
    "from Histogram import Histogram as hist\n",
    "from PDF import PDF\n",
    "import numpy as np\n",
    "from Fits import Fit\n",
    "from pprint import pprint # we use this to pretty print some stuff later\n",
    "%matplotlib inline\n",
    "%load_ext autoreload\n",
    "%autoreload 2\n",
    "\n",
    "np.warnings.filterwarnings('ignore')\n",
    "\n",
    "plt.rcParams[\"figure.figsize\"]          = 32, 24\n",
    "plt.rcParams[\"font.size\"]               = 15\n",
    "plt.rcParams[\"figure.max_open_warning\"] = 100"
   ]
  },
  {
   "cell_type": "code",
   "execution_count": null,
   "metadata": {},
   "outputs": [],
   "source": [
    "# Number of event per background component. First index is isotope type, second index is volume type. \n",
    "# This will be used as MC truth sample.\n",
    "N_0_0 = 150000\n",
    "N_0_1 = 350000\n",
    "N_1_0 = 130000\n",
    "N_1_1 = 270000\n",
    "N_2_0 = 200000\n",
    "N_2_1 = 300000\n",
    "\n",
    "# Poisson smearing of number of events. This will be used as DATA-like sample.\n",
    "N_0_0p = np.random.poisson(N_0_0)\n",
    "N_0_1p = np.random.poisson(N_0_1)\n",
    "N_1_0p = np.random.poisson(N_1_0)\n",
    "N_1_1p = np.random.poisson(N_1_1)\n",
    "N_2_0p = np.random.poisson(N_2_0)\n",
    "N_2_1p = np.random.poisson(N_2_1)"
   ]
  },
  {
   "cell_type": "code",
   "execution_count": null,
   "metadata": {},
   "outputs": [],
   "source": [
    "# PDF for each background component drawn from some functions. Both for E and Z 1D histos. Draw Nsim events for each MC truth PDF\n",
    "Nsim = int(1.e6)\n",
    "\n",
    "# \n",
    "D_0_0_e_pdf = np.random.exponential(200,   Nsim)\n",
    "D_0_0_z_pdf = np.random.normal     (30, 9, Nsim)\n",
    "\n",
    "D_0_1_e_pdf = np.random.exponential(200,    Nsim)\n",
    "D_0_1_z_pdf = np.random.normal     (90, 25, Nsim)\n",
    "\n",
    "D_1_0_e_pdf = np.random.rayleigh   (500,    Nsim)\n",
    "D_1_0_z_pdf = np.random.normal     (30, 9,  Nsim)\n",
    "\n",
    "D_1_1_e_pdf = np.random.rayleigh   (500,    Nsim)\n",
    "D_1_1_z_pdf = np.random.normal     (90, 25, Nsim)\n",
    "\n",
    "D_2_0_e_pdf = np.random.chisquare  (1500,   Nsim)\n",
    "D_2_0_z_pdf = np.random.normal     (30, 9,  Nsim)\n",
    "\n",
    "D_2_1_e_pdf = np.random.chisquare  (1500,   Nsim)\n",
    "D_2_1_z_pdf = np.random.normal     (90, 25, Nsim)"
   ]
  },
  {
   "cell_type": "code",
   "execution_count": null,
   "metadata": {},
   "outputs": [],
   "source": [
    "# This how DATA-like events are distributed in E and Z. \n",
    "# The PDFs arew the same as the MC truth ones, but number of events match DATA-like samples.\n",
    "D_0_0_e = np.random.exponential(200,   N_0_0p)\n",
    "D_0_0_z = np.random.normal     (30, 9, N_0_0p)\n",
    "\n",
    "D_0_1_e = np.random.exponential(200,    N_0_1p)\n",
    "D_0_1_z = np.random.normal     (90, 25, N_0_1p)\n",
    "\n",
    "D_1_0_e = np.random.rayleigh   (500,    N_1_0p)\n",
    "D_1_0_z = np.random.normal     (30, 9,  N_1_0p)\n",
    "\n",
    "D_1_1_e = np.random.rayleigh   (500,    N_1_1p)\n",
    "D_1_1_z = np.random.normal     (90, 25, N_1_1p)\n",
    "\n",
    "D_2_0_e = np.random.chisquare  (1500,   N_2_0p)\n",
    "D_2_0_z = np.random.normal     (30, 9,  N_2_0p)\n",
    "\n",
    "D_2_1_e = np.random.chisquare  (1500,   N_2_1p)\n",
    "D_2_1_z = np.random.normal     (90, 25, N_2_1p)\n"
   ]
  },
  {
   "cell_type": "code",
   "execution_count": null,
   "metadata": {},
   "outputs": [],
   "source": [
    "# The MC and DATA-like events are histogrammed in E and Z, assuming some number of bins, and histogram ranges.\n",
    "nbin = 150\n",
    "minE, maxE = 0, 2000\n",
    "minZ, maxZ = 0, 150\n",
    "\n",
    "# DATA-like\n",
    "h_0_0_e = hist(D_0_0_e, nbin, minE, maxE)\n",
    "h_0_0_z = hist(D_0_0_z, nbin, minZ, maxZ)\n",
    "h_0_1_e = hist(D_0_1_e, nbin, minE, maxE)\n",
    "h_0_1_z = hist(D_0_1_z, nbin, minZ, maxZ)\n",
    "h_1_0_e = hist(D_1_0_e, nbin, minE, maxE)\n",
    "h_1_0_z = hist(D_1_0_z, nbin, minZ, maxZ)\n",
    "h_1_1_e = hist(D_1_1_e, nbin, minE, maxE)\n",
    "h_1_1_z = hist(D_1_1_z, nbin, minZ, maxZ)\n",
    "h_2_0_e = hist(D_2_0_e, nbin, minE, maxE)\n",
    "h_2_0_z = hist(D_2_0_z, nbin, minZ, maxZ)\n",
    "h_2_1_e = hist(D_2_1_e, nbin, minE, maxE)\n",
    "h_2_1_z = hist(D_2_1_z, nbin, minZ, maxZ)\n",
    "\n",
    "# MC\n",
    "h_0_0_e_pdf = hist(D_0_0_e_pdf, nbin, minE, maxE)\n",
    "h_0_0_z_pdf = hist(D_0_0_z_pdf, nbin, minZ, maxZ)\n",
    "h_0_1_e_pdf = hist(D_0_1_e_pdf, nbin, minE, maxE)\n",
    "h_0_1_z_pdf = hist(D_0_1_z_pdf, nbin, minZ, maxZ)\n",
    "h_1_0_e_pdf = hist(D_1_0_e_pdf, nbin, minE, maxE)\n",
    "h_1_0_z_pdf = hist(D_1_0_z_pdf, nbin, minZ, maxZ)\n",
    "h_1_1_e_pdf = hist(D_1_1_e_pdf, nbin, minE, maxE)\n",
    "h_1_1_z_pdf = hist(D_1_1_z_pdf, nbin, minZ, maxZ)\n",
    "h_2_0_e_pdf = hist(D_2_0_e_pdf, nbin, minE, maxE)\n",
    "h_2_0_z_pdf = hist(D_2_0_z_pdf, nbin, minZ, maxZ)\n",
    "h_2_1_e_pdf = hist(D_2_1_e_pdf, nbin, minE, maxE)\n",
    "h_2_1_z_pdf = hist(D_2_1_z_pdf, nbin, minZ, maxZ)\n",
    "\n",
    "# In DATA-like, only know the sum of all background components\n",
    "h_total_e = hist(np.concatenate([D_0_0_e, D_0_1_e, D_1_0_e, D_1_1_e, D_2_0_e, D_2_1_e]), nbin, minE, maxE)\n",
    "h_total_z = hist(np.concatenate([D_0_0_z, D_0_1_z, D_1_0_z, D_1_1_z, D_2_0_z, D_2_1_z]), nbin, minZ, maxZ)"
   ]
  },
  {
   "cell_type": "code",
   "execution_count": null,
   "metadata": {},
   "outputs": [],
   "source": [
    "# MC truth energy histograms\n",
    "plt.figure()\n",
    "plt.plot(h_0_0_e.bins, h_0_0_e_pdf.hist)\n",
    "plt.plot(h_1_0_e.bins, h_1_0_e_pdf.hist)\n",
    "plt.plot(h_2_0_e.bins, h_2_0_e_pdf.hist)\n",
    "\n",
    "# DATA-like energy histograms\n",
    "plt.figure()\n",
    "plt.errorbar(h_0_1_e.bins, h_0_1_e.hist, yerr=np.sqrt(h_0_1_e.hist), \n",
    "         marker='.', elinewidth=1, linewidth=0)\n",
    "plt.errorbar(h_1_1_e.bins, h_1_1_e.hist, yerr=np.sqrt(h_1_1_e.hist),\n",
    "             marker='.', elinewidth=1, linewidth=0)\n",
    "plt.errorbar(h_2_1_e.bins, h_2_1_e.hist, yerr=np.sqrt(h_2_1_e.hist),\n",
    "             marker='.', elinewidth=1, linewidth=0)"
   ]
  },
  {
   "cell_type": "code",
   "execution_count": null,
   "metadata": {},
   "outputs": [],
   "source": [
    "# MC truth Z histograms\n",
    "plt.figure()\n",
    "plt.plot(h_0_0_z.bins, h_0_0_z_pdf.hist)\n",
    "plt.plot(h_0_1_z.bins, h_1_1_z_pdf.hist)\n",
    "\n",
    "# DATA-like Z histograms\n",
    "plt.figure()\n",
    "plt.errorbar(h_0_0_z.bins, h_0_0_z.hist, yerr=np.sqrt(h_0_0_z.hist), \n",
    "         marker='.', elinewidth=1, linewidth=0)\n",
    "plt.errorbar(h_0_1_z.bins, h_0_1_z.hist, yerr=np.sqrt(h_0_1_z.hist), \n",
    "         marker='.', elinewidth=1, linewidth=0)\n"
   ]
  },
  {
   "cell_type": "code",
   "execution_count": null,
   "metadata": {},
   "outputs": [],
   "source": [
    "# Make PDFs out of MC truth histograms. These are normalized to unity.\n",
    "interpol = 'cubic'\n",
    "\n",
    "pdf_0_0_e  = PDF(h_0_0_e_pdf, interpolation=interpol)\n",
    "pdf_0_0_z  = PDF(h_0_0_z_pdf, interpolation=interpol)\n",
    "pdf_0_1_e  = PDF(h_0_1_e_pdf, interpolation=interpol)\n",
    "pdf_0_1_z  = PDF(h_0_1_z_pdf, interpolation=interpol)\n",
    "pdf_1_0_e  = PDF(h_1_0_e_pdf, interpolation=interpol)\n",
    "pdf_1_0_z  = PDF(h_1_0_z_pdf, interpolation=interpol)\n",
    "pdf_1_1_e  = PDF(h_1_1_e_pdf, interpolation=interpol)\n",
    "pdf_1_1_z  = PDF(h_1_1_z_pdf, interpolation=interpol)\n",
    "pdf_2_0_e  = PDF(h_2_0_e_pdf, interpolation=interpol)\n",
    "pdf_2_0_z  = PDF(h_2_0_z_pdf, interpolation=interpol)\n",
    "pdf_2_1_e  = PDF(h_2_1_e_pdf, interpolation=interpol)\n",
    "pdf_2_1_z  = PDF(h_2_1_z_pdf, interpolation=interpol)\n",
    "\n",
    "\n",
    "pdf_list_e = [pdf_0_0_e, pdf_0_1_e, pdf_1_0_e, pdf_1_1_e, pdf_2_0_e, pdf_2_1_e]\n",
    "pdf_list_z = [pdf_0_0_z, pdf_0_1_z, pdf_1_0_z, pdf_1_1_z, pdf_2_0_z, pdf_2_1_z]"
   ]
  },
  {
   "cell_type": "code",
   "execution_count": null,
   "metadata": {},
   "outputs": [],
   "source": [
    "# Build dictionaries\n",
    "x_dict = {'E': h_0_0_e.bins , 'z': h_0_0_z.bins}\n",
    "totals = {'E': h_total_e    , 'z': h_total_z   }\n",
    "pdfs   = {'E': pdf_list_e   , 'z': pdf_list_z  }\n",
    "N_0s   = np.array([N_0_0, N_0_1, N_1_0, N_1_1, N_2_0, N_2_1])\n",
    "pprint(totals)\n",
    "pprint(list(x_dict.keys()))\n",
    "pprint(N_0s)\n",
    "pprint(N_0s.reshape(len(N_0s), 1))"
   ]
  },
  {
   "cell_type": "markdown",
   "metadata": {},
   "source": [
    "## Fit initialization"
   ]
  },
  {
   "cell_type": "code",
   "execution_count": null,
   "metadata": {
    "scrolled": true
   },
   "outputs": [],
   "source": [
    "#Fit initialization\n",
    "fit = Fit(x_dict, totals, pdfs, N_0s)\n",
    "m = Minuit.from_array_func(fit.GetIminuitChi2, (1.,1.,1.,1.,1.,1.), error=0.1, limit=(0.1,10), errordef=1)\n",
    "m.print_param()"
   ]
  },
  {
   "cell_type": "markdown",
   "metadata": {},
   "source": [
    "## Migrad minimization"
   ]
  },
  {
   "cell_type": "code",
   "execution_count": null,
   "metadata": {},
   "outputs": [],
   "source": [
    "fmin, param = m.migrad()"
   ]
  },
  {
   "cell_type": "code",
   "execution_count": null,
   "metadata": {},
   "outputs": [],
   "source": [
    "# Note that m.values returns a dictionary of {'name',value} pairs. \n",
    "# By asking for m.values.values(), we only return the values\n",
    "result = np.array(m.values.values())\n",
    "pprint(result)"
   ]
  },
  {
   "cell_type": "code",
   "execution_count": null,
   "metadata": {},
   "outputs": [],
   "source": [
    "factors = result * N_0s\n",
    "\n",
    "interpol = 'nearest'\n",
    "\n",
    "pdf_0_0_ep  = PDF(h_0_0_e_pdf, factor=factors[0]  ,interpolation=interpol)\n",
    "pdf_0_1_ep  = PDF(h_0_1_e_pdf, factor=factors[1]  ,interpolation=interpol)\n",
    "pdf_1_0_ep  = PDF(h_1_0_e_pdf, factor=factors[2]  ,interpolation=interpol)\n",
    "pdf_1_1_ep  = PDF(h_1_1_e_pdf, factor=factors[3]  ,interpolation=interpol)\n",
    "pdf_2_0_ep  = PDF(h_2_0_e_pdf, factor=factors[4]  ,interpolation=interpol)\n",
    "pdf_2_1_ep  = PDF(h_2_1_e_pdf, factor=factors[5]  ,interpolation=interpol)\n",
    "\n",
    "pdf_0_0_zp  = PDF(h_0_0_z_pdf, factor=factors[0]  ,interpolation=interpol)\n",
    "pdf_0_1_zp  = PDF(h_0_1_z_pdf, factor=factors[1]  ,interpolation=interpol)\n",
    "pdf_1_0_zp  = PDF(h_1_0_z_pdf, factor=factors[2]  ,interpolation=interpol)\n",
    "pdf_1_1_zp  = PDF(h_1_1_z_pdf, factor=factors[3]  ,interpolation=interpol)\n",
    "pdf_2_0_zp  = PDF(h_2_0_z_pdf, factor=factors[4]  ,interpolation=interpol)\n",
    "pdf_2_1_zp  = PDF(h_2_1_z_pdf, factor=factors[5]  ,interpolation=interpol)\n",
    "\n",
    "pprint(pdf_0_0_ep)\n",
    "pprint(result)\n",
    "pprint(N_0s)\n",
    "pprint(factors)"
   ]
  },
  {
   "cell_type": "code",
   "execution_count": null,
   "metadata": {},
   "outputs": [],
   "source": [
    "# h_0_0_e.bins[0] and h_0_0_e.bins[-1] are bin central values of first and last bin, respectively. Same for z\n",
    "# Ep and Zp return 1000 evenly-spaced numbers over this interval\n",
    "Ep = np.linspace(h_0_0_e.bins[0],h_0_0_e.bins[-1],1000)\n",
    "Zp = np.linspace(h_0_0_z.bins[0],h_0_0_z.bins[-1],1000)\n",
    "\n",
    "y_0_0_e = pdf_0_0_ep.pdf(Ep)\n",
    "y_0_1_e = pdf_0_1_ep.pdf(Ep)\n",
    "y_1_0_e = pdf_1_0_ep.pdf(Ep)\n",
    "y_1_1_e = pdf_1_1_ep.pdf(Ep)\n",
    "y_2_0_e = pdf_2_0_ep.pdf(Ep)\n",
    "y_2_1_e = pdf_2_1_ep.pdf(Ep)\n",
    "\n",
    "y_0_0_z = pdf_0_0_zp.pdf(Zp)\n",
    "y_0_1_z = pdf_0_1_zp.pdf(Zp)\n",
    "y_1_0_z = pdf_1_0_zp.pdf(Zp)\n",
    "y_1_1_z = pdf_1_1_zp.pdf(Zp)\n",
    "y_2_0_z = pdf_2_0_zp.pdf(Zp)\n",
    "y_2_1_z = pdf_2_1_zp.pdf(Zp)\n",
    "\n",
    "\n",
    "fittotal_e = y_0_0_e + y_0_1_e + y_1_0_e + y_1_1_e + y_2_0_e + y_2_1_e\n",
    "fittotal_z = y_0_0_z + y_0_1_z + y_1_0_z + y_1_1_z + y_2_0_z + y_2_1_z\n",
    "\n",
    "fit_0_a_e = y_0_0_e + y_0_1_e \n",
    "fit_1_a_e = y_1_0_e + y_1_1_e \n",
    "fit_2_a_e = y_2_0_e + y_2_1_e \n",
    "\n",
    "fit_a_0_z = y_0_0_z + y_1_0_z + y_2_0_z \n",
    "fit_a_1_z = y_0_1_z + y_1_1_z + y_2_1_z \n"
   ]
  },
  {
   "cell_type": "code",
   "execution_count": null,
   "metadata": {},
   "outputs": [],
   "source": [
    "alfa= 0.5\n",
    "#plt.semilogy()\n",
    "#plt.ylim(1e-1,2e5)\n",
    "\n",
    "plt.figure()\n",
    "plt.errorbar(h_total_e.bins, h_total_e.hist, yerr=np.sqrt(h_total_e.hist),\n",
    "             marker='.', elinewidth=1, linewidth=0,label='data',color='black')\n",
    "\n",
    "plt.plot(Ep, fittotal_e,label='fit')\n",
    "\n",
    "plt.fill_between(Ep, 0 , fit_0_a_e, label='fit_e_0',alpha=alfa,color='r')\n",
    "plt.fill_between(Ep, 0 , fit_1_a_e, label='fit_e_1',alpha=alfa,color='b')\n",
    "plt.fill_between(Ep, 0 , fit_2_a_e, label='fit_e_2',alpha=alfa,color='g')\n",
    "\n",
    "plt.legend().get_frame().set_facecolor('0.95')\n",
    "\n",
    "\n",
    "plt.figure()\n",
    "plt.errorbar(h_total_z.bins, h_total_z.hist, yerr=np.sqrt(h_total_e.hist),\n",
    "             marker='.', elinewidth=1, linewidth=0,label='data',color='black')\n",
    "\n",
    "plt.plot(Zp, fittotal_z,label='fit')\n",
    "\n",
    "plt.fill_between(Zp, 0 , fit_a_0_z, label='fit_z_0',alpha=alfa,color='r')\n",
    "plt.fill_between(Zp, 0 , fit_a_1_z, label='fit_z_1',alpha=alfa,color='b')\n",
    "\n",
    "plt.legend().get_frame().set_facecolor('0.95')\n"
   ]
  },
  {
   "cell_type": "code",
   "execution_count": null,
   "metadata": {},
   "outputs": [],
   "source": [
    "plt.figure()\n",
    "\n",
    "plt.plot(Ep, fit_0_a_e,label='fit_e_0_all', color='black')\n",
    "plt.fill_between(Ep, 0 , y_0_0_e, label='fit_e_0_0',alpha=alfa,color='r')\n",
    "plt.fill_between(Ep, 0 , y_0_1_e, label='fit_e_0_1',alpha=alfa,color='b')\n",
    "plt.legend().get_frame().set_facecolor('0.95')\n",
    "\n",
    "plt.figure()\n",
    "\n",
    "plt.plot(Ep, fit_1_a_e,label='fit_e_1_all', color='black')\n",
    "plt.fill_between(Ep, 0 , y_1_0_e, label='fit_e_1_0',alpha=alfa,color='r')\n",
    "plt.fill_between(Ep, 0 , y_1_1_e, label='fit_e_1_1',alpha=alfa,color='b')\n",
    "plt.legend().get_frame().set_facecolor('0.95')\n",
    "\n",
    "plt.figure()\n",
    "\n",
    "plt.plot(Ep, fit_2_a_e,label='fit_e_2_all', color='black')\n",
    "plt.fill_between(Ep, 0 , y_2_0_e, label='fit_e_2_0',alpha=alfa,color='r')\n",
    "plt.fill_between(Ep, 0 , y_2_1_e, label='fit_e_2_1',alpha=alfa,color='b')\n",
    "plt.legend().get_frame().set_facecolor('0.95')\n"
   ]
  },
  {
   "cell_type": "code",
   "execution_count": null,
   "metadata": {},
   "outputs": [],
   "source": [
    "plt.figure()\n",
    "\n",
    "plt.plot(Zp, fit_a_0_z,label='fit_z_all_0', color='black')\n",
    "plt.fill_between(Zp, 0 , y_0_0_z, label='fit_z_0_0',alpha=alfa,color='r')\n",
    "plt.fill_between(Zp, 0 , y_1_0_z, label='fit_z_1_0',alpha=alfa,color='b')\n",
    "plt.fill_between(Zp, 0 , y_2_0_z, label='fit_z_2_0',alpha=alfa,color='g')\n",
    "plt.legend().get_frame().set_facecolor('0.95')\n",
    "\n",
    "plt.figure()\n",
    "\n",
    "plt.plot(Zp, fit_a_1_z,label='fit_z_all_1', color='black')\n",
    "plt.fill_between(Zp, 0 , y_0_1_z, label='fit_z_0_1',alpha=alfa,color='r')\n",
    "plt.fill_between(Zp, 0 , y_1_1_z, label='fit_z_1_1',alpha=alfa,color='b')\n",
    "plt.fill_between(Zp, 0 , y_2_1_z, label='fit_z_2_1',alpha=alfa,color='g')\n",
    "plt.legend().get_frame().set_facecolor('0.95')"
   ]
  },
  {
   "cell_type": "markdown",
   "metadata": {},
   "source": [
    "## Minos minimization"
   ]
  },
  {
   "cell_type": "code",
   "execution_count": null,
   "metadata": {},
   "outputs": [],
   "source": [
    "param = m.minos()"
   ]
  },
  {
   "cell_type": "markdown",
   "metadata": {},
   "source": [
    "## Parameter uncertainties, covariances, and confidence intervals"
   ]
  },
  {
   "cell_type": "code",
   "execution_count": null,
   "metadata": {},
   "outputs": [],
   "source": [
    "param = m.hesse()"
   ]
  },
  {
   "cell_type": "code",
   "execution_count": null,
   "metadata": {},
   "outputs": [],
   "source": [
    "pprint('Covariance mattrix as numpy array:')\n",
    "pprint(m.np_matrix())\n",
    "\n",
    "pprint('Correlation matrix as numpy array:')\n",
    "pprint(m.np_matrix(correlation=True))"
   ]
  },
  {
   "cell_type": "code",
   "execution_count": null,
   "metadata": {},
   "outputs": [],
   "source": [
    "# Parameter scans around chi2 minimum\n",
    "x0, fx0 = m.profile('x0', subtract_min=True)\n",
    "plot(x0, fx0);"
   ]
  },
  {
   "cell_type": "code",
   "execution_count": null,
   "metadata": {},
   "outputs": [],
   "source": [
    "#m.draw_contour('x0','x1');\n",
    "x,y,z = m.contour('x0', 'x1', subtract_min=True)\n",
    "cs = contour(x,y,z, (1, 2, 3, 4))\n",
    "clabel(cs);"
   ]
  },
  {
   "cell_type": "code",
   "execution_count": null,
   "metadata": {
    "scrolled": false
   },
   "outputs": [],
   "source": [
    "plt.figure()\n",
    "m.draw_mncontour('x0','x1', nsigma=1);  # nsigma=1 says: draw one contour for sigma=1\n",
    "plt.figure()\n",
    "m.draw_mncontour('x0','x2', nsigma=1); \n",
    "\n",
    "\n",
    "plt.figure()\n",
    "m.draw_mncontour('x1','x2', nsigma=1); \n",
    "plt.figure()\n",
    "m.draw_mncontour('x1','x3', nsigma=1); \n",
    "\n",
    "plt.figure()\n",
    "m.draw_mncontour('x2','x3', nsigma=1); \n",
    "plt.figure()\n",
    "m.draw_mncontour('x2','x4', nsigma=1); \n",
    "\n",
    "\n",
    "plt.figure()\n",
    "m.draw_mncontour('x3','x4', nsigma=1); \n",
    "\n",
    "plt.figure()\n",
    "m.draw_mncontour('x4','x5', nsigma=1); "
   ]
  },
  {
   "cell_type": "code",
   "execution_count": null,
   "metadata": {},
   "outputs": [],
   "source": []
  }
 ],
 "metadata": {
  "anaconda-cloud": {},
  "kernelspec": {
   "display_name": "Python 3",
   "language": "python",
   "name": "python3"
  },
  "language_info": {
   "codemirror_mode": {
    "name": "ipython",
    "version": 3
   },
   "file_extension": ".py",
   "mimetype": "text/x-python",
   "name": "python",
   "nbconvert_exporter": "python",
   "pygments_lexer": "ipython3",
   "version": "3.7.0"
  }
 },
 "nbformat": 4,
 "nbformat_minor": 1
}
