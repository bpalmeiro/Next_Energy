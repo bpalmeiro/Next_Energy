{
 "cells": [
  {
   "cell_type": "code",
   "execution_count": 1,
   "metadata": {
    "collapsed": false
   },
   "outputs": [],
   "source": [
    "import numpy as np\n",
    "import scipy as sp\n",
    "import matplotlib.pylab as plt"
   ]
  },
  {
   "cell_type": "code",
   "execution_count": 26,
   "metadata": {
    "collapsed": false
   },
   "outputs": [],
   "source": [
    "class Histogram():\n",
    "    \"\"\"\n",
    "    Class to storage histograms\n",
    "    \"\"\"\n",
    "    def __init__ (self,data=[], nbin = 'nada', minlim = 'nada',maxlim = 'nada'):\n",
    "        '''\n",
    "        Crea un histograma a partir de una lista (por defecto vacía), \n",
    "        con limites inferior y superior, que por defecto seran el \n",
    "        maximo y el minimo de los datos y un numero de bines, que \n",
    "        por defecto sera la raiz del numero de datos\n",
    "        '''  \n",
    "        \n",
    "        N = len(data)\n",
    "        if N == 0:\n",
    "            if minlim=='nada' or maxlim=='nada' or nbin=='nada':\n",
    "                auxs = 'In order to build an empty histogram it '\n",
    "                auxs += 'is needed a minlim, maxlim and nbin'\n",
    "                    \n",
    "                print auxs\n",
    "                return\n",
    "            else:   \n",
    "                self.minlim = minlim\n",
    "                self.maxlim = maxlim\n",
    "                self.nbin = nbin\n",
    "            \n",
    "        else:\n",
    "            if minlim=='nada':\n",
    "                self.minlim = min(data)\n",
    "            else:\n",
    "                self.minlim =minlim\n",
    "            if maxlim=='nada':\n",
    "                self.maxlim = max(data)\n",
    "            else:\n",
    "                self.maxlim = maxlim \n",
    "            if nbin=='nada':\n",
    "                self.nbin = int(N**0.5)\n",
    "            else:\n",
    "                self.nbin = nbin\n",
    "\n",
    "        self.binsize = float(self.maxlim-self.minlim)/float(self.nbin)\n",
    "        self.hist = np.array([])\n",
    "        self.bins = np.array([])\n",
    "        \n",
    "        self.Build_hist(data)\n",
    "\n",
    "    def __add__(self,hist):\n",
    "        '''\n",
    "        Suming histograms\n",
    "        '''  \n",
    "        \n",
    "        if not self.minlim==hist.minlim and self.maxlim==hist.maxlim and self.nbin==hist.nbin:\n",
    "            raise InputError('Histograms no compatible')\n",
    "        else:\n",
    "            auxhist = Histogram([],self.nbin, self.minlim, self.maxlim)\n",
    "            auxhist.hist = self.hist + hist.hist\n",
    "        return auxhist\n",
    "        \n",
    "        \n",
    "    def Build_hist(self, data):\n",
    "        '''\n",
    "        Creating histogram using numpy ones but with bin centers instead\n",
    "        '''\n",
    "        auxhist,auxbins = np.histogram(np.array(data),self.nbin,[self.minlim,self.maxlim])\n",
    "        auxbins = auxbins[:-1] + np.diff(auxbins)/2.\n",
    "        self.hist = auxhist\n",
    "        self.bins = auxbins\n",
    "     \n",
    "    def Fill_hist(self, data):\n",
    "        '''\n",
    "        Filling histogram\n",
    "        '''\n",
    "        data = np.array(data)\n",
    "        self.hist += np.histogram(np.array(data),self.nbin,[self.minlim,self.maxlim])[0]\n",
    "    \n",
    "    \n",
    "    \n",
    "    def Scale(self,factor):\n",
    "        '''\n",
    "        Explicit __rmul__, scales the histogram by a factor\n",
    "        '''\n",
    "        self.hist *= factor\n",
    "\n"
   ]
  },
  {
   "cell_type": "code",
   "execution_count": 17,
   "metadata": {
    "collapsed": false
   },
   "outputs": [
    {
     "name": "stdout",
     "output_type": "stream",
     "text": [
      "10000 loops, best of 3: 130 µs per loop\n",
      "[200 400 700] [ 0.  1.  2.] [0.5, 1.5, 2.5]\n",
      "The slowest run took 4.90 times longer than the fastest. This could mean that an intermediate result is being cached.\n",
      "10000 loops, best of 3: 152 µs per loop\n"
     ]
    }
   ],
   "source": [
    "auxlist = np.array([0,1,2,3,1,2,2,1,3,0,1,2,3]*100)\n",
    "auxhist,auxbins = np.histogram(auxlist,3,[0,3])\n",
    "%timeit auxhist,auxbins = np.histogram(auxlist,3,[0,3])\n",
    "auxbincenter = [(auxbins[i]+auxbins[i+1])/2. for i in np.arange(len(auxbins)-1)]\n",
    "print auxhist,auxbins[:-1],auxbincenter\n",
    "%timeit Histogram(auxlist,3,0,3)\n",
    "#print Build_hist(auxlist,3,0,3)"
   ]
  },
  {
   "cell_type": "code",
   "execution_count": 51,
   "metadata": {
    "collapsed": false
   },
   "outputs": [
    {
     "name": "stdout",
     "output_type": "stream",
     "text": [
      "[200 400 700]\n"
     ]
    }
   ],
   "source": [
    "a = Histogram(auxlist,3,0,3)\n",
    "print a.hist"
   ]
  },
  {
   "cell_type": "code",
   "execution_count": null,
   "metadata": {
    "collapsed": false
   },
   "outputs": [],
   "source": []
  },
  {
   "cell_type": "code",
   "execution_count": null,
   "metadata": {
    "collapsed": false
   },
   "outputs": [],
   "source": []
  },
  {
   "cell_type": "code",
   "execution_count": null,
   "metadata": {
    "collapsed": true
   },
   "outputs": [],
   "source": []
  }
 ],
 "metadata": {
  "anaconda-cloud": {},
  "kernelspec": {
   "display_name": "Python [default]",
   "language": "python",
   "name": "python2"
  },
  "language_info": {
   "codemirror_mode": {
    "name": "ipython",
    "version": 2
   },
   "file_extension": ".py",
   "mimetype": "text/x-python",
   "name": "python",
   "nbconvert_exporter": "python",
   "pygments_lexer": "ipython2",
   "version": "2.7.12"
  }
 },
 "nbformat": 4,
 "nbformat_minor": 1
}
