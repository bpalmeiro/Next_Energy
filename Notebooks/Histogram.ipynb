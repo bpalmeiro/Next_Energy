{
 "cells": [
  {
   "cell_type": "code",
   "execution_count": 1,
   "metadata": {
    "collapsed": false
   },
   "outputs": [],
   "source": [
    "import numpy as np\n",
    "import scipy as sp\n",
    "import matplotlib.pylab as plt"
   ]
  },
  {
   "cell_type": "code",
   "execution_count": 75,
   "metadata": {
    "collapsed": false
   },
   "outputs": [],
   "source": [
    "# %load ../Tools/Histogram.py\n",
    "# %load ../Tools/Histogram.py\n",
    "import numpy as np\n",
    "\n",
    "\n",
    "class Histogram():\n",
    "    '''\n",
    "    Class to storage histograms\n",
    "    '''\n",
    "    def __init__(self, data=[], nbin=None, minlim=None, maxlim=None):\n",
    "        '''\n",
    "        Creates an histogram from a given a list (empty by defoult),\n",
    "        with low and high limits, by defoult are the minimum and maximum\n",
    "        of de data sample and the bin number, by default the number of\n",
    "        data squareroot\n",
    "        '''\n",
    "\n",
    "        if len(data) == 0:\n",
    "            if minlim == 'nada' or maxlim == 'nada' or nbin == 'nada':\n",
    "                auxs = 'In order to build an empty histogram it '\n",
    "                auxs += 'is needed a minlim, maxlim and nbin'\n",
    "                raise ValueError(auxs)\n",
    "                return\n",
    "            else:\n",
    "                self.minlim = minlim\n",
    "                self.maxlim = maxlim\n",
    "                self.nbin = nbin\n",
    "\n",
    "        else:\n",
    "            if minlim is None:\n",
    "                self.minlim = min(data)\n",
    "            else:\n",
    "                self.minlim = minlim\n",
    "            if maxlim is None:\n",
    "                self.maxlim = max(data)\n",
    "            else:\n",
    "                self.maxlim = maxlim\n",
    "            if nbin is None:\n",
    "                self.nbin = int(len(data)**0.5)\n",
    "            else:\n",
    "                self.nbin = nbin\n",
    "\n",
    "        self.binsize = float(self.maxlim-self.minlim)/float(self.nbin)\n",
    "        self.hist = np.array([])\n",
    "        self.bins = np.array([])\n",
    "\n",
    "        self.Build_hist(data)\n",
    "\n",
    "    def __add__(self, hist):\n",
    "        '''\n",
    "        Suming histograms\n",
    "        '''\n",
    "\n",
    "        if not self.minlim == hist.minlim or not self.maxlim == hist.maxlim\\\n",
    "                or not self.nbin == hist.nbin:\n",
    "            raise ValueError('Histograms are not compatible')\n",
    "        else:\n",
    "            auxhist = Histogram([], self.nbin, self.minlim, self.maxlim)\n",
    "            auxhist.hist = self.hist + hist.hist\n",
    "        return auxhist\n",
    "\n",
    "    def Build_hist(self, data):\n",
    "        '''\n",
    "        Creating histogram using numpy ones but with bin centers instead\n",
    "        '''\n",
    "        auxhist, auxbins = np.histogram(np.array(data), self.nbin,\n",
    "                                        [self.minlim, self.maxlim])\n",
    "        auxbins = auxbins[:-1] + np.diff(auxbins)/2.\n",
    "        self.hist = auxhist\n",
    "        self.bins = auxbins\n",
    "\n",
    "    def Fill_hist(self, data):\n",
    "        '''\n",
    "        Filling histogram\n",
    "        '''\n",
    "        data = np.array(data)\n",
    "        self.hist += np.histogram(np.array(data), self.nbin, [self.minlim,\n",
    "                                                              self.maxlim])[0]\n",
    "\n",
    "    def Scale(self, factor):\n",
    "        '''\n",
    "        Explicit __rmul__, scales the histogram by a factor\n",
    "        '''\n",
    "        self.hist = factor*self.hist\n",
    "        return self\n"
   ]
  },
  {
   "cell_type": "code",
   "execution_count": 24,
   "metadata": {
    "collapsed": false
   },
   "outputs": [
    {
     "name": "stdout",
     "output_type": "stream",
     "text": [
      "1000 loops, best of 3: 145 µs per loop\n",
      "[200 400 700] [ 0.  1.  2.] [0.5, 1.5, 2.5]\n",
      "10000 loops, best of 3: 148 µs per loop\n"
     ]
    }
   ],
   "source": [
    "auxlist = np.array([0,1,2,3,1,2,2,1,3,0,1,2,3]*100)\n",
    "auxhist,auxbins = np.histogram(auxlist,3,[0,3])\n",
    "%timeit auxhist,auxbins = np.histogram(auxlist,3,[0,3])\n",
    "auxbincenter = [(auxbins[i]+auxbins[i+1])/2. for i in np.arange(len(auxbins)-1)]\n",
    "print auxhist,auxbins[:-1],auxbincenter\n",
    "%timeit Histogram(auxlist,3,0,3)\n",
    "#print Build_hist(auxlist,3,0,3)"
   ]
  },
  {
   "cell_type": "code",
   "execution_count": 76,
   "metadata": {
    "collapsed": false
   },
   "outputs": [
    {
     "name": "stdout",
     "output_type": "stream",
     "text": [
      "[200 400 700]\n"
     ]
    }
   ],
   "source": [
    "a = Histogram(auxlist,3,0,3)\n",
    "ap = Histogram(auxlist,3,1,3)\n",
    "print a.hist"
   ]
  },
  {
   "cell_type": "code",
   "execution_count": 77,
   "metadata": {
    "collapsed": false
   },
   "outputs": [
    {
     "name": "stdout",
     "output_type": "stream",
     "text": [
      "[  800.  1600.  2800.]\n"
     ]
    }
   ],
   "source": [
    "b = a+a.Scale(2.)\n",
    "print b.hist"
   ]
  },
  {
   "cell_type": "code",
   "execution_count": 78,
   "metadata": {
    "collapsed": false
   },
   "outputs": [
    {
     "name": "stdout",
     "output_type": "stream",
     "text": [
      "<type 'instance'> <type 'instance'>\n"
     ]
    }
   ],
   "source": [
    "print type(a),type(a.Scale(1))"
   ]
  },
  {
   "cell_type": "code",
   "execution_count": null,
   "metadata": {
    "collapsed": true
   },
   "outputs": [],
   "source": []
  }
 ],
 "metadata": {
  "anaconda-cloud": {},
  "kernelspec": {
   "display_name": "Python [default]",
   "language": "python",
   "name": "python2"
  },
  "language_info": {
   "codemirror_mode": {
    "name": "ipython",
    "version": 2
   },
   "file_extension": ".py",
   "mimetype": "text/x-python",
   "name": "python",
   "nbconvert_exporter": "python",
   "pygments_lexer": "ipython2",
   "version": "2.7.12"
  }
 },
 "nbformat": 4,
 "nbformat_minor": 1
}
