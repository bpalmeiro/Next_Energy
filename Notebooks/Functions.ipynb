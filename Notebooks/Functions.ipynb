{
 "cells": [
  {
   "cell_type": "code",
   "execution_count": 1,
   "metadata": {
    "collapsed": true
   },
   "outputs": [],
   "source": [
    "import numpy as np"
   ]
  },
  {
   "cell_type": "code",
   "execution_count": 3,
   "metadata": {
    "collapsed": true
   },
   "outputs": [],
   "source": [
    "def XeEstimation(mass = 5.81,purity = 0.91,trun = 100):\n",
    "\n",
    "\n",
    "\n",
    "    Nav = 6.022140857e23 #mol^-1\n",
    "    Mmol = 135.907214484 #gmol\n",
    "    ln2 = log(2)\n",
    "\n",
    "\n",
    "    trun *= 1./365.24\n",
    "\n",
    "    t12 = 2.165e21\n",
    "    et12 = 0.061e21\n",
    "\n",
    "    lamb = ln2/t12\n",
    "    slamb = ln2*et12/t12**2\n",
    "\n",
    "    N0 = Nav*mass*1000*purity/Mmol\n",
    "\n",
    "    Nfin = N0*lamb*trun\n",
    "\n",
    "    return Nfin"
   ]
  },
  {
   "cell_type": "code",
   "execution_count": null,
   "metadata": {
    "collapsed": true
   },
   "outputs": [],
   "source": []
  }
 ],
 "metadata": {
  "anaconda-cloud": {},
  "kernelspec": {
   "display_name": "Python [conda root]",
   "language": "python",
   "name": "conda-root-py"
  },
  "language_info": {
   "codemirror_mode": {
    "name": "ipython",
    "version": 3
   },
   "file_extension": ".py",
   "mimetype": "text/x-python",
   "name": "python",
   "nbconvert_exporter": "python",
   "pygments_lexer": "ipython3",
   "version": "3.5.2"
  }
 },
 "nbformat": 4,
 "nbformat_minor": 1
}
