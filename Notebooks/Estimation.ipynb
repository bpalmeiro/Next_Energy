{
 "cells": [
  {
   "cell_type": "code",
   "execution_count": 1,
   "metadata": {
    "collapsed": true
   },
   "outputs": [],
   "source": [
    "import numpy as np"
   ]
  },
  {
   "cell_type": "code",
   "execution_count": null,
   "metadata": {
    "collapsed": false
   },
   "outputs": [],
   "source": [
    "# %load ../Tools/Estimation.py\n",
    "import numpy as np\n",
    "\n",
    "def XeEstimation(mass = 5.81,purity = 0.91,trun = 100):\n",
    "\n",
    "\n",
    "\n",
    "    Nav = 6.022140857e23 #mol^-1\n",
    "    Mmol = 135.907214484 #gmol\n",
    "    ln2 = log(2)\n",
    "\n",
    "\n",
    "    trun *= 1./365.24\n",
    "\n",
    "    t12 = 2.165e21\n",
    "    et12 = 0.061e21\n",
    "\n",
    "    lamb = ln2/t12\n",
    "    slamb = ln2*et12/t12**2\n",
    "\n",
    "    N0 = Nav*mass*1000*purity/Mmol\n",
    "\n",
    "    Nfin = N0*lamb*trun\n",
    "\n",
    "    return Nfin\n",
    "\n",
    "def BkgExpectation(trun=1., BckRej=1.):\n",
    "    '''\n",
    "    Fuction meant to yield an dictionry with the expected number\n",
    "    of events for backgrounds for all the isotopes.\n",
    "\n",
    "    Input values:\n",
    "\n",
    "    trun is meant to be in years\n",
    "\n",
    "    BckRej is the fraction of Bck events rejected by topological\n",
    "    cuts (it is a toy cut). It goes from 0 (perfect rejection)\n",
    "    to 1 (no rejection)\n",
    "    '''\n",
    "\n",
    "    texp = trun * 24 * 3600  # s\n",
    "    Expected = {\n",
    "        60: {0 :  int(round(3.935333e-2 * 0       /1000.   *texp * BgrRej)),\n",
    "             1 :  int(round(1.781900e-2 * 2.32e-1 /1000.   *texp * BgrRej)),\n",
    "             2 :  int(round(2.663240e-3 * 8.82    /1000.   *texp * BgrRej)),\n",
    "             3 :  int(round(6.060000e-5 * 8.4e-1  /1000.   *texp * BgrRej)),\n",
    "             4 :  int(round(3.945800e-2 * 2.27e-1 /1000.   *texp * BgrRej)),\n",
    "             5 :  int(round(4.147233e-2 * 9.66e-1 /1000.   *texp * BgrRej)),\n",
    "             6 :  int(round(1.525725e-3 * 2.02    /1000.   *texp * BgrRej)),\n",
    "             7 :  int(round(1.616075e-2 * 0       /1000.   *texp * BgrRej)),\n",
    "             8 :  int(round(8.496444e-3 * 2.52e1  /1000.   *texp * BgrRej)),\n",
    "             9 :  int(round(1.553625e-2 * 1.16e-1 /1000.   *texp * BgrRej)),\n",
    "             10 : int(round(9.619500e-5 * 1.58e3  /1000.   *texp * BgrRej)),\n",
    "             11 : int(round(3.361000e-3 * 2.03e-1 /1000.   *texp * BgrRej)),\n",
    "             12 : int(round(6.919778e-3 * 4.56e1  /1000.   *texp * BgrRej)),\n",
    "             13 : int(round(1.182263e-5 * 1.25e3  /1000.   *texp * BgrRej)),\n",
    "             14 : int(round(3.444875e-6 * 1.00e2  /1000.   *texp * BgrRej)),\n",
    "             15 : int(round(5.184667e-3 * 1.24e1  /1000.   *texp * BgrRej)),\n",
    "             16 : int(round(4.619750e-4 * 2.84e3  /1000.   *texp * BgrRej))\n",
    "             },\n",
    "        40: {0 :  int(round(4.262175e-3 * 1.03    /1000.   *texp * BgrRej)),\n",
    "             1 :  int(round(1.038175e-3 * 1.38e1  /1000.   *texp * BgrRej)),\n",
    "             2 :  int(round(1.676425e-4 * 1.33e1  /1000.   *texp * BgrRej)),\n",
    "             3 :  int(round(4.483846e-6 * 9.52e1  /1000.   *texp * BgrRej)),\n",
    "             4 :  int(round(2.201075e-3 * 4.07e2  /1000.   *texp * BgrRej)),\n",
    "             5 :  int(round(2.358350e-3 * 5.79e1  /1000.   *texp * BgrRej)),\n",
    "             6 :  int(round(9.838308e-5 * 3.05    /1000.   *texp * BgrRej)),\n",
    "             7 :  int(round(9.100154e-4 * 3.4e-1  /1000.   *texp * BgrRej)),\n",
    "             8 :  int(round(5.244000e-4 * 3.81e1  /1000.   *texp * BgrRej)),\n",
    "             9 :  int(round(8.711692e-4 * 4.44    /1000.   *texp * BgrRej)),\n",
    "             10 : int(round(0           * 5.76e1  /1000.   *texp * BgrRej)),\n",
    "             11 : int(round(2.022533e-4 * 2.55e1  /1000.   *texp * BgrRej)),\n",
    "             12 : int(round(4.074067e-4 * 1.45e2  /1000.   *texp * BgrRej)),\n",
    "             13 : int(round(0           * 1.87e3  /1000.   *texp * BgrRej)),\n",
    "             14 : int(round(0           * 3.7e5   /1000.   *texp * BgrRej)),\n",
    "             15 : int(round(3.162600e-4 * 1.88e1  /1000.   *texp * BgrRej)),\n",
    "             16 : int(round(3.100538e-5 * 1.03e2  /1000.   *texp * BgrRej))\n",
    "             },\n",
    "        214:{0 :  int(round(3.188567e-2 * 3.34e-1 /1000.   *texp * BgrRej)),\n",
    "             1 :  int(round(9.943231e-3 * 2.05e-1 /1000.   *texp * BgrRej)),\n",
    "             2 :  int(round(1.409567e-3 * 2.58    /1000.   *texp * BgrRej)),\n",
    "             3 :  int(round(3.629250e-5 * 1.79e2  /1000.   *texp * BgrRej)),\n",
    "             4 :  int(round(2.299831e-2 * 2.12    /1000.   *texp * BgrRej)),\n",
    "             5 :  int(round(2.362262e-2 * 1.04    /1000.   *texp * BgrRej)),\n",
    "             6 :  int(round(8.227000e-4 * 5.9e-1  /1000.   *texp * BgrRej)),\n",
    "             7 :  int(round(9.060444e-3 * 5.05e-1 /1000.   *texp * BgrRej)),\n",
    "             8 :  int(round(4.535320e-3 * 7.38    /1000.   *texp * BgrRej)),\n",
    "             9 :  int(round(8.353222e-3 * 5.65e-1 /1000.   *texp * BgrRej)),\n",
    "             10 : int(round(6.012250e-5 * 1.66e2  /1000.   *texp * BgrRej)),\n",
    "             11 : int(round(1.818040e-3 * 7.03    /1000.   *texp * BgrRej)),\n",
    "             12 : int(round(3.713360e-3 * 4.2     /1000.   *texp * BgrRej)),\n",
    "             13 : int(round(7.966818e-6 * 5.45e3  /1000.   *texp * BgrRej)),\n",
    "             14 : int(round(2.331544e-6 * 1.05e5  /1000.   *texp * BgrRej)),\n",
    "             15 : int(round(2.742629e-3 * 3.64    /1000.   *texp * BgrRej)),\n",
    "             16 : int(round(2.630100e-4 * 2.97e2  /1000.   *texp * BgrRej))\n",
    "             },\n",
    "        208:{0 :  int(round(4.405350e-2 * 5.41e-2 /1000.   *texp * BgrRej)),\n",
    "             1 :  int(round(1.300250e-2 * 2.52e-2 /1000.   *texp * BgrRej)),\n",
    "             2 :  int(round(2.493200e-3 * 3.23e-1 /1000.   *texp * BgrRej)),\n",
    "             3 :  int(round(1.078600e-4 * 5.6e1   /1000.   *texp * BgrRej)),\n",
    "             4 :  int(round(3.341017e-2 * 3.3e-1  /1000.   *texp * BgrRej)),\n",
    "             5 :  int(round(3.065883e-2 * 1.72e-1 /1000.   *texp * BgrRej)),\n",
    "             6 :  int(round(1.416540e-3 * 7.13e-2 /1000.   *texp * BgrRej)),\n",
    "             7 :  int(round(1.044113e-2 * 7.13e-2 /1000.   *texp * BgrRej)),\n",
    "             9 :  int(round(7.782667e-4 * 9.23e-1 /1000.   *texp * BgrRej)),\n",
    "             8 :  int(round(1.053888e-2 * 1.67e-1 /1000.   *texp * BgrRej)),\n",
    "             10 : int(round(1.768800e-4 * 5.4e1   /1000.   *texp * BgrRej)),\n",
    "             11 : int(round(2.669667e-3 * 2.3     /1000.   *texp * BgrRej)),\n",
    "             12 : int(round(5.219333e-3 * 2.28    /1000.   *texp * BgrRej)),\n",
    "             13 : int(round(2.816600e-5 * 5.30e2  /1000.   *texp * BgrRej)),\n",
    "             14 : int(round(8.416333e-6 * 9.4e3   /1000.   *texp * BgrRej)),\n",
    "             15 : int(round(4.837350e-3 * 4.55e-1 /1000.   *texp * BgrRej)),\n",
    "             16 : int(round(7.067467e-4 * 9.68e1  /1000.   *texp * BgrRej))\n",
    "             }\n",
    "        }\n",
    "    return Expected\n"
   ]
  },
  {
   "cell_type": "code",
   "execution_count": null,
   "metadata": {
    "collapsed": true
   },
   "outputs": [],
   "source": []
  },
  {
   "cell_type": "code",
   "execution_count": null,
   "metadata": {
    "collapsed": false
   },
   "outputs": [],
   "source": []
  },
  {
   "cell_type": "code",
   "execution_count": null,
   "metadata": {
    "collapsed": false
   },
   "outputs": [],
   "source": []
  },
  {
   "cell_type": "code",
   "execution_count": null,
   "metadata": {
    "collapsed": true
   },
   "outputs": [],
   "source": []
  },
  {
   "cell_type": "code",
   "execution_count": null,
   "metadata": {
    "collapsed": true
   },
   "outputs": [],
   "source": []
  }
 ],
 "metadata": {
  "anaconda-cloud": {},
  "kernelspec": {
   "display_name": "Python [conda root]",
   "language": "python",
   "name": "conda-root-py"
  },
  "language_info": {
   "codemirror_mode": {
    "name": "ipython",
    "version": 3
   },
   "file_extension": ".py",
   "mimetype": "text/x-python",
   "name": "python",
   "nbconvert_exporter": "python",
   "pygments_lexer": "ipython3",
   "version": "3.5.2"
  }
 },
 "nbformat": 4,
 "nbformat_minor": 1
}
