{
 "cells": [
  {
   "cell_type": "markdown",
   "metadata": {},
   "source": [
    "This notebook shows the code and use of Estimation.py\n",
    "\n",
    "# Code\n",
    "\n"
   ]
  },
  {
   "cell_type": "code",
   "execution_count": 1,
   "metadata": {
    "collapsed": false
   },
   "outputs": [],
   "source": [
    "# %load ../Tools/Estimation.py\n",
    "import numpy as np\n",
    "\n",
    "\n",
    "def XeEstimation(mass=5.81, purity=0.91, trun=100, SigAcc=1.):\n",
    "    '''\n",
    "    Fuction meant to yield the expected number of events for 136Xe\n",
    "\n",
    "    Input values:\n",
    "        mass: Xe (all isotopes) mass in kg\n",
    "        putiry: 136Xe purity in isotopic abundance fraction\n",
    "        trun: run duration. It is meant to be in days\n",
    "        SigAcc: fraction of events accepted by topological\n",
    "            cuts (it is a toy cut). It goes from 0 (no event accepted)\n",
    "            to 1 (all the events accepted)\n",
    "    '''\n",
    "\n",
    "    Nav = 6.022140857e23  # mol^-1\n",
    "    Mmol = 135.907214484  # gmol\n",
    "    ln2 = np.log(2)\n",
    "\n",
    "    trun *= 1./365.24\n",
    "\n",
    "    t12 = 2.165e21\n",
    "    et12 = 0.061e21\n",
    "\n",
    "    lamb = ln2/t12\n",
    "    slamb = ln2*et12/t12**2\n",
    "\n",
    "    N0 = Nav*mass*1000*purity/Mmol\n",
    "\n",
    "    Nfin = N0*lamb*trun*SigAcc\n",
    "\n",
    "    return Nfin\n",
    "\n",
    "\n",
    "def BkgExpectation(trun=100., BkgRej=0.):\n",
    "    '''\n",
    "    Fuction meant to yield an dictionry with the expected number\n",
    "    of events for backgrounds for all the isotopes.\n",
    "\n",
    "    Input values:\n",
    "        trun: run duration. It is meant to be in days\n",
    "        BckRej: fraction of Bck events rejected by topological\n",
    "            cuts (it is a toy cut). It goes from 0 (perfect rejection)\n",
    "            to 1 (no rejection)\n",
    "    '''\n",
    "\n",
    "    texp = trun * 24 * 3600  # s\n",
    "    BkgRej = 1. - BkgRej #Bkg acceptance\n",
    "    Expected = {\n",
    "        60: {0 :  3.935333e-2 * 0       / 1000. * texp * BkgRej,\n",
    "             1 :  1.781900e-2 * 2.32e-1 / 1000. * texp * BkgRej,\n",
    "             2 :  2.663240e-3 * 8.82    / 1000. * texp * BkgRej,\n",
    "             3 :  6.060000e-5 * 8.4e-1  / 1000. * texp * BkgRej,\n",
    "             4 :  3.945800e-2 * 2.27e-1 / 1000. * texp * BkgRej,\n",
    "             5 :  4.147233e-2 * 9.66e-1 / 1000. * texp * BkgRej,\n",
    "             6 :  1.525725e-3 * 2.02    / 1000. * texp * BkgRej,\n",
    "             7 :  1.616075e-2 * 0       / 1000. * texp * BkgRej,\n",
    "             8 :  8.496444e-3 * 2.52e1  / 1000. * texp * BkgRej,\n",
    "             9 :  1.553625e-2 * 1.16e-1 / 1000. * texp * BkgRej,\n",
    "             10 : 9.619500e-5 * 1.58e3  / 1000. * texp * BkgRej,\n",
    "             11 : 3.361000e-3 * 2.03e-1 / 1000. * texp * BkgRej,\n",
    "             12 : 6.919778e-3 * 4.56e1  / 1000. * texp * BkgRej,\n",
    "             13 : 1.182263e-5 * 1.25e3  / 1000. * texp * BkgRej,\n",
    "             14 : 3.444875e-6 * 8.19e2  / 1000. * texp * BkgRej,\n",
    "             15 : 5.184667e-3 * 1.24e1  / 1000. * texp * BkgRej,\n",
    "             16 : 4.619750e-4 * 2.84e3  / 1000. * texp * BkgRej\n",
    "             },\n",
    "        40: {0 :  4.262175e-3 * 1.03    / 1000. * texp * BkgRej,\n",
    "             1 :  1.038175e-3 * 1.38e1  / 1000. * texp * BkgRej,\n",
    "             2 :  1.676425e-4 * 1.33e1  / 1000. * texp * BkgRej,\n",
    "             3 :  4.483846e-6 * 9.52e1  / 1000. * texp * BkgRej,\n",
    "             4 :  2.201075e-3 * 4.07e2  / 1000. * texp * BkgRej,\n",
    "             5 :  2.358350e-3 * 5.82e1  / 1000. * texp * BkgRej,\n",
    "             6 :  9.838308e-5 * 3.05    / 1000. * texp * BkgRej,\n",
    "             7 :  9.100154e-4 * 3.4e-1  / 1000. * texp * BkgRej,\n",
    "             8 :  5.244000e-4 * 3.81e1  / 1000. * texp * BkgRej,\n",
    "             9 :  8.711692e-4 * 4.44    / 1000. * texp * BkgRej,\n",
    "             10 : 7.260000e-6 * 5.76e1  / 1000. * texp * BkgRej,\n",
    "             11 : 2.022533e-4 * 2.55e1  / 1000. * texp * BkgRej,\n",
    "             12 : 4.074067e-4 * 1.45e2  / 1000. * texp * BkgRej,\n",
    "             13 : 9.930000e-7 * 1.87e3  / 1000. * texp * BkgRej,\n",
    "             14 : 2.870000e-7 * 2.41e5  / 1000. * texp * BkgRej,\n",
    "             15 : 3.162600e-4 * 1.88e1  / 1000. * texp * BkgRej,\n",
    "             16 : 3.100538e-5 * 1.03e2  / 1000. * texp * BkgRej\n",
    "             },\n",
    "        214:{0 :  3.188567e-2 * 3.34e-1 / 1000. * texp * BkgRej,\n",
    "             1 :  9.943231e-3 * 2.05e-1 / 1000. * texp * BkgRej,\n",
    "             2 :  1.409567e-3 * 2.58    / 1000. * texp * BkgRej,\n",
    "             3 :  3.629250e-5 * 1.79e2  / 1000. * texp * BkgRej,\n",
    "             4 :  2.299831e-2 * 2.12    / 1000. * texp * BkgRej,\n",
    "             5 :  2.362262e-2 * 1.05    / 1000. * texp * BkgRej,\n",
    "             6 :  8.227000e-4 * 5.9e-1  / 1000. * texp * BkgRej,\n",
    "             7 :  9.060444e-3 * 5.02e-1 / 1000. * texp * BkgRej,\n",
    "             8 :  4.535320e-3 * 7.38    / 1000. * texp * BkgRej,\n",
    "             9 :  8.353222e-3 * 5.65e-1 / 1000. * texp * BkgRej,\n",
    "             10 : 6.012250e-5 * 1.66e2  / 1000. * texp * BkgRej,\n",
    "             11 : 1.818040e-3 * 7.03    / 1000. * texp * BkgRej,\n",
    "             12 : 3.713360e-3 * 4.2     / 1000. * texp * BkgRej,\n",
    "             13 : 7.966818e-6 * 5.46e3  / 1000. * texp * BkgRej,\n",
    "             14 : 2.331544e-6 * 6.83e4  / 1000. * texp * BkgRej,\n",
    "             15 : 2.742629e-3 * 3.64    / 1000. * texp * BkgRej,\n",
    "             16 : 2.630100e-4 * 2.97e2  / 1000. * texp * BkgRej\n",
    "             },\n",
    "        208:{0 :  4.405350e-2 * 5.41e-2 / 1000. * texp * BkgRej,\n",
    "             1 :  1.300250e-2 * 2.52e-2 / 1000. * texp * BkgRej,\n",
    "             2 :  2.493200e-3 * 3.23e-1 / 1000. * texp * BkgRej,\n",
    "             3 :  1.078600e-4 * 5.6e1   / 1000. * texp * BkgRej,\n",
    "             4 :  3.341017e-2 * 3.3e-1  / 1000. * texp * BkgRej,\n",
    "             5 :  3.065883e-2 * 1.72e-1 / 1000. * texp * BkgRej,\n",
    "             6 :  1.416540e-3 * 7.38e-2 / 1000. * texp * BkgRej,\n",
    "             7 :  1.044113e-2 * 7.13e-2 / 1000. * texp * BkgRej,\n",
    "             8 :  7.782667e-4 * 9.23e-1 / 1000. * texp * BkgRej,\n",
    "             9 :  1.053888e-2 * 1.67e-1 / 1000. * texp * BkgRej,\n",
    "             10 : 1.768800e-4 * 5.4e1   / 1000. * texp * BkgRej,\n",
    "             11 : 2.669667e-3 * 1.9     / 1000. * texp * BkgRej,\n",
    "             12 : 5.219333e-3 * 2.28    / 1000. * texp * BkgRej,\n",
    "             13 : 2.816600e-5 * 5.30e2  / 1000. * texp * BkgRej,\n",
    "             14 : 8.416333e-6 * 6.77e3  / 1000. * texp * BkgRej,\n",
    "             15 : 4.837350e-3 * 4.55e-1 / 1000. * texp * BkgRej,\n",
    "             16 : 7.067467e-4 * 9.68e1  / 1000. * texp * BkgRej,\n",
    "             }\n",
    "        }\n",
    "    return Expected\n"
   ]
  },
  {
   "cell_type": "code",
   "execution_count": null,
   "metadata": {
    "collapsed": false
   },
   "outputs": [],
   "source": []
  },
  {
   "cell_type": "markdown",
   "metadata": {},
   "source": [
    "# Some examples"
   ]
  },
  {
   "cell_type": "code",
   "execution_count": 2,
   "metadata": {
    "collapsed": false
   },
   "outputs": [
    {
     "data": {
      "text/plain": [
       "2053.5966582589053"
      ]
     },
     "execution_count": 2,
     "metadata": {},
     "output_type": "execute_result"
    }
   ],
   "source": [
    "XeEstimation(mass=5.81, purity=0.91, trun=100, SigAcc=1.) #default values"
   ]
  },
  {
   "cell_type": "code",
   "execution_count": 3,
   "metadata": {
    "collapsed": false
   },
   "outputs": [
    {
     "data": {
      "text/plain": [
       "2464.3159899106868"
      ]
     },
     "execution_count": 3,
     "metadata": {},
     "output_type": "execute_result"
    }
   ],
   "source": [
    "XeEstimation(mass=5.81, purity=0.91, trun=300, SigAcc=0.4) # 300 days and signal efficiencie of 0.4"
   ]
  },
  {
   "cell_type": "code",
   "execution_count": 4,
   "metadata": {
    "collapsed": false
   },
   "outputs": [
    {
     "data": {
      "text/plain": [
       "{40: {0: 37.929947760000005,\n",
       "  1: 123.7836816,\n",
       "  2: 19.26413496,\n",
       "  3: 3.688088882688,\n",
       "  4: 7740.036215999999,\n",
       "  5: 1185.8915808,\n",
       "  6: 2.59259092416,\n",
       "  7: 2.6732612390400003,\n",
       "  8: 172.6240896,\n",
       "  9: 33.41944438272,\n",
       "  10: 3.6130406400000004,\n",
       "  11: 44.560447055999994,\n",
       "  12: 510.39911376,\n",
       "  13: 16.0437024,\n",
       "  14: 597.6028800000001,\n",
       "  15: 51.37074432,\n",
       "  16: 27.592307769599998},\n",
       " 60: {0: 0.0,\n",
       "  1: 35.717829120000005,\n",
       "  2: 202.951671552,\n",
       "  3: 0.43981055999999996,\n",
       "  4: 77.38818624,\n",
       "  5: 346.1380195392,\n",
       "  6: 26.62817328,\n",
       "  7: 0.0,\n",
       "  8: 1849.913759232,\n",
       "  9: 15.5710512,\n",
       "  10: 1313.177184,\n",
       "  11: 5.89492512,\n",
       "  12: 2726.2818155520004,\n",
       "  13: 127.684404,\n",
       "  14: 24.376486680000003,\n",
       "  15: 555.464483712,\n",
       "  16: 11335.75776},\n",
       " 208: {0: 20.591663184,\n",
       "  1: 2.83100832,\n",
       "  2: 6.957823104000001,\n",
       "  3: 52.1869824,\n",
       "  4: 95.25907670400001,\n",
       "  5: 45.5614740864,\n",
       "  6: 0.90323123328,\n",
       "  7: 6.432070196160001,\n",
       "  8: 6.206459017824001,\n",
       "  9: 15.206339174400002,\n",
       "  10: 82.52513280000001,\n",
       "  11: 43.825253472,\n",
       "  12: 102.81668463359999,\n",
       "  13: 128.9777472,\n",
       "  14: 492.29488290239993,\n",
       "  15: 19.01659032,\n",
       "  16: 591.0890160383999},\n",
       " 214: {0: 92.0143910592,\n",
       "  1: 17.611450747200003,\n",
       "  2: 31.420939910399998,\n",
       "  3: 56.1285288,\n",
       "  4: 421.255444608,\n",
       "  5: 214.30440864000005,\n",
       "  6: 4.193795519999999,\n",
       "  7: 39.29768255232,\n",
       "  8: 289.186516224,\n",
       "  9: 40.7770885152,\n",
       "  10: 86.23009440000001,\n",
       "  11: 110.42629516800001,\n",
       "  12: 134.75040768,\n",
       "  13: 375.82985905920003,\n",
       "  14: 1375.8720929279998,\n",
       "  15: 86.2545849984,\n",
       "  16: 674.9047007999999}}"
      ]
     },
     "execution_count": 4,
     "metadata": {},
     "output_type": "execute_result"
    }
   ],
   "source": [
    "BkgExpectation(trun=100., BkgRej=0.) #default values"
   ]
  },
  {
   "cell_type": "code",
   "execution_count": 5,
   "metadata": {
    "collapsed": false
   },
   "outputs": [
    {
     "data": {
      "text/plain": [
       "{40: {0: 7.585989551999999,\n",
       "  1: 24.756736319999995,\n",
       "  2: 3.852826991999999,\n",
       "  3: 0.7376177765375999,\n",
       "  4: 1548.0072431999993,\n",
       "  5: 237.17831615999992,\n",
       "  6: 0.5185181848319999,\n",
       "  7: 0.5346522478079999,\n",
       "  8: 34.52481791999999,\n",
       "  9: 6.683888876543999,\n",
       "  10: 0.722608128,\n",
       "  11: 8.912089411199997,\n",
       "  12: 102.07982275199997,\n",
       "  13: 3.2087404799999995,\n",
       "  14: 119.520576,\n",
       "  15: 10.274148863999997,\n",
       "  16: 5.518461553919998},\n",
       " 60: {0: 0.0,\n",
       "  1: 7.1435658239999995,\n",
       "  2: 40.59033431039999,\n",
       "  3: 0.08796211199999997,\n",
       "  4: 15.477637247999995,\n",
       "  5: 69.22760390783999,\n",
       "  6: 5.325634655999998,\n",
       "  7: 0.0,\n",
       "  8: 369.98275184639994,\n",
       "  9: 3.1142102399999994,\n",
       "  10: 262.6354367999999,\n",
       "  11: 1.1789850239999997,\n",
       "  12: 545.2563631104,\n",
       "  13: 25.536880799999995,\n",
       "  14: 4.875297335999999,\n",
       "  15: 111.09289674239996,\n",
       "  16: 2267.1515519999994},\n",
       " 208: {0: 4.118332636799999,\n",
       "  1: 0.5662016639999998,\n",
       "  2: 1.3915646207999999,\n",
       "  3: 10.437396479999997,\n",
       "  4: 19.051815340799998,\n",
       "  5: 9.112294817279997,\n",
       "  6: 0.18064624665599996,\n",
       "  7: 1.2864140392319998,\n",
       "  8: 1.2412918035648,\n",
       "  9: 3.0412678348799997,\n",
       "  10: 16.505026559999997,\n",
       "  11: 8.765050694399998,\n",
       "  12: 20.563336926719995,\n",
       "  13: 25.795549439999995,\n",
       "  14: 98.45897658047997,\n",
       "  15: 3.803318063999999,\n",
       "  16: 118.21780320767995},\n",
       " 214: {0: 18.402878211839994,\n",
       "  1: 3.52229014944,\n",
       "  2: 6.284187982079998,\n",
       "  3: 11.225705759999997,\n",
       "  4: 84.25108892159999,\n",
       "  5: 42.860881728,\n",
       "  6: 0.8387591039999996,\n",
       "  7: 7.859536510463998,\n",
       "  8: 57.83730324479999,\n",
       "  9: 8.155417703039998,\n",
       "  10: 17.246018879999998,\n",
       "  11: 22.085259033599996,\n",
       "  12: 26.950081535999992,\n",
       "  13: 75.16597181184,\n",
       "  14: 275.1744185855999,\n",
       "  15: 17.250916999679998,\n",
       "  16: 134.98094015999996}}"
      ]
     },
     "execution_count": 5,
     "metadata": {},
     "output_type": "execute_result"
    }
   ],
   "source": [
    "BkgExpectation(trun=100., BkgRej=0.8) #d 300 days run with background rejection of 0.2"
   ]
  },
  {
   "cell_type": "code",
   "execution_count": null,
   "metadata": {
    "collapsed": true
   },
   "outputs": [],
   "source": []
  }
 ],
 "metadata": {
  "anaconda-cloud": {},
  "kernelspec": {
   "display_name": "Python [conda root]",
   "language": "python",
   "name": "conda-root-py"
  },
  "language_info": {
   "codemirror_mode": {
    "name": "ipython",
    "version": 3
   },
   "file_extension": ".py",
   "mimetype": "text/x-python",
   "name": "python",
   "nbconvert_exporter": "python",
   "pygments_lexer": "ipython3",
   "version": "3.5.2"
  }
 },
 "nbformat": 4,
 "nbformat_minor": 1
}
