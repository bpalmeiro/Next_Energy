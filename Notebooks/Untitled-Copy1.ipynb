{
 "cells": [
  {
   "cell_type": "code",
   "execution_count": 1,
   "metadata": {
    "collapsed": false,
    "nbpresent": {
     "id": "10507afc-4e0c-4486-acdd-ad90b81c7ecf"
    }
   },
   "outputs": [],
   "source": [
    "import matplotlib.pylab as plt\n",
    "import numba\n",
    "\n",
    "%matplotlib inline\n",
    "%load_ext autoreload\n",
    "%autoreload 2"
   ]
  },
  {
   "cell_type": "code",
   "execution_count": 2,
   "metadata": {
    "collapsed": false,
    "nbpresent": {
     "id": "cf484e15-de09-4ce4-8adf-ffb65d3b229c"
    }
   },
   "outputs": [],
   "source": [
    "import Estimation as st\n",
    "import tables as tb\n",
    "from Histogram import Histogram as hist\n",
    "from PDF import PDF\n",
    "from Utils import IsotopeDic, PartDic\n",
    "from scipy.stats import poisson\n",
    "import scipy.optimize as sop\n",
    "import numpy as np\n",
    "from scipy.special import gamma\n",
    "from copy import deepcopy\n",
    "#from Fits import Fi"
   ]
  },
  {
   "cell_type": "code",
   "execution_count": 45,
   "metadata": {
    "collapsed": false,
    "nbpresent": {
     "id": "eeae98e4-8b79-4246-a7ea-b4c9cf2b314a"
    }
   },
   "outputs": [],
   "source": [
    "# %load ../Code/Fits.py\n",
    "import Estimation as st\n",
    "from Histogram import Histogram as hist\n",
    "from PDF import PDF\n",
    "from Utils import IsotopeDic, PartDic\n",
    "from scipy.stats import poisson\n",
    "import matplotlib.pylab as plt\n",
    "import scipy.optimize as sop\n",
    "import numpy as np\n",
    "from scipy.special import gammaln\n",
    "from copy import copy\n",
    "\n",
    "def generalLogPoisson(x,mu):\n",
    "    #Çmu[mu<-2e-11] = np.nan\n",
    "    '''for i in mu:\n",
    "        if i<-2e-11:\n",
    "       \n",
    "       print(i)\n",
    "    '''\n",
    "    return (-mu+x*np.log(mu+0.00001)-gammaln(x+1))\n",
    "    \n",
    "class Fit():\n",
    "    '''\n",
    "    Class meant to perform the fit\n",
    "    '''\n",
    "    def __init__(self, E, spectrum, PDFs):\n",
    "        '''\n",
    "        E: x range (np array)\n",
    "        spectrum: experimental points\n",
    "        PDF: list of spectra PDFs\n",
    "        nevs: normalizations for the spectra (they are the\n",
    "            initial values for the fit)\n",
    "        '''\n",
    "        self.E = E[:]\n",
    "        self.spectrum = spectrum.hist[:]\n",
    "        self.PDFs = copy(PDFs)\n",
    "        self.PDF_Val = np.array([np.array(pdfi.pdf(E)) for pdfi in self.PDFs])\n",
    "        \n",
    "    def LogLikelihood(self, nevs):\n",
    "        '''\n",
    "        function meant to compute the LogLikelihood\n",
    "        '''\n",
    "        nevs = nevs.reshape(len(nevs),1)\n",
    "        ypdf = np.sum(nevs*self.PDF_Val,axis=0)\n",
    "        ydat = self.spectrum\n",
    "        lm = (np.array(generalLogPoisson(ydat,ypdf))).sum()\n",
    "        return -2*lm\n",
    "\n",
    "        \n",
    "        \n",
    "    def FitLLM(self,nevs,bounds=None, **kwargs):\n",
    "        nevs = nevs.reshape(len(np.array(nevs)),1)\n",
    "        fit = self.LogLikelihood\n",
    "        res = sop.minimize(fit,nevs,method='Nelder-Mead',**kwargs)\n",
    "        ypdf = np.sum(nevs*self.PDF_Val,axis=0)\n",
    "        ydat = self.spectrum\n",
    "        chi2 = -1\n",
    "        err = -1\n",
    "        if (res.success):\n",
    "            chi2 = np.sum((ypdf-ydat)**2/((ydat+0.0001)*(len(ypdf)-len(nevs))))\n",
    "            err = self.GetError(res.x)\n",
    "        res.chi2 = chi2\n",
    "        res.err = err\n",
    "        return res\n",
    "    \n",
    "    def FitLLMScan(self,nevs, fixn, npoint=100, **kwargs):\n",
    "        nevs = nevs.reshape(len(np.array(nevs)),1)\n",
    "        aux = nevs[fixn]\n",
    "        aux_evs = np.delete(nevs,fixn)\n",
    "        fun_aux = self.FitLLM(nevs, **kwargs).fun\n",
    "        res_list = []\n",
    "        for aux_s in np.linspace(0,2*aux,npoint):\n",
    "            fit = lambda x_nevs: self.LogLikelihood(np.insert(x_nevs,fixn,aux_s))\n",
    "            #res = sop.minimize(fit,nevs,method='L-BFGS-B',bounds = bounds,**kwargs)\n",
    "            res = sop.minimize(fit,aux_evs,method='Nelder-Mead',**kwargs)\n",
    "            res_list.append(res.fun-fun_aux)\n",
    "            #print(aux_s,res)\n",
    "            if not(res.success):\n",
    "                print('error')\n",
    "        return np.linspace(0,2*aux,npoint),res_list\n",
    "    \n",
    "    def GetError(self, nevsmin, **kwargs):\n",
    "        error = []\n",
    "        nevs = nevsmin.reshape(len(np.array(nevsmin)),1)\n",
    "        res_list = np.zeros(len(nevsmin))\n",
    "        ll_min = self.LogLikelihood(nevsmin)\n",
    "        for fixn in np.arange(len(nevsmin)):\n",
    "        \n",
    "            aux = nevs[fixn]\n",
    "            aux_evs = np.delete(nevs,fixn)          \n",
    "            fit = lambda aux_s:  (lambda x_nevs: self.LogLikelihood(np.insert(x_nevs,fixn,aux_s)) )\n",
    "            #res = sop.minimize(fit,nevs,method='L-BFGS-B',bounds = bounds,**kwargs)\n",
    "            res = lambda aux_ss: (sop.minimize(fit(aux_ss),aux_evs,method='Nelder-Mead',**kwargs)).fun-1-ll_min\n",
    "            res_list[fixn] = (sop.root(res,aux-aux**0.5).x)[0]          \n",
    "        return np.abs(nevsmin-res_list)\n",
    "       \n",
    "        \n",
    "    def GetSpectra(self,E,*nevs):\n",
    "        ypdf = np.array([sum([n*pdfi.pdf(Ei) for pdfi,n in zip(self.PDFs,nevs)]) for Ei in self.E])\n",
    "        #print ypdf\n",
    "        return ypdf\n",
    "\n",
    "    def FitLeastSQ(self,nevs,**kwargs):\n",
    "        nevs = np.array(nevs)\n",
    "        fit = self.GetSpectra\n",
    "        res = sop.curve_fit(fit,self.E,self.spectrum, nevs)\n",
    "        return res\n"
   ]
  },
  {
   "cell_type": "code",
   "execution_count": 4,
   "metadata": {
    "collapsed": false,
    "nbpresent": {
     "id": "c964641a-4fb8-47f9-9060-2b53a0305fbd"
    }
   },
   "outputs": [],
   "source": [
    "f = tb.open_file(\"../Data/data_spectrum.h5\", \"r\")"
   ]
  },
  {
   "cell_type": "code",
   "execution_count": 5,
   "metadata": {
    "collapsed": false,
    "nbpresent": {
     "id": "54d85cb4-be1e-45c4-96e8-63d9d8f76a59"
    }
   },
   "outputs": [
    {
     "data": {
      "text/plain": [
       "File(filename=../Data/data_spectrum.h5, title='', mode='r', root_uep='/', filters=Filters(complevel=0, shuffle=False, fletcher32=False, least_significant_digit=None))\n",
       "/ (RootGroup) ''\n",
       "/Bi (Array(125,)) ''\n",
       "  atom := Float64Atom(shape=(), dflt=0.0)\n",
       "  maindim := 0\n",
       "  flavor := 'numpy'\n",
       "  byteorder := 'little'\n",
       "  chunkshape := None\n",
       "/Co (Array(125,)) ''\n",
       "  atom := Float64Atom(shape=(), dflt=0.0)\n",
       "  maindim := 0\n",
       "  flavor := 'numpy'\n",
       "  byteorder := 'little'\n",
       "  chunkshape := None\n",
       "/E (Array(125,)) ''\n",
       "  atom := Float64Atom(shape=(), dflt=0.0)\n",
       "  maindim := 0\n",
       "  flavor := 'numpy'\n",
       "  byteorder := 'little'\n",
       "  chunkshape := None\n",
       "/K (Array(125,)) ''\n",
       "  atom := Float64Atom(shape=(), dflt=0.0)\n",
       "  maindim := 0\n",
       "  flavor := 'numpy'\n",
       "  byteorder := 'little'\n",
       "  chunkshape := None\n",
       "/Tl (Array(125,)) ''\n",
       "  atom := Float64Atom(shape=(), dflt=0.0)\n",
       "  maindim := 0\n",
       "  flavor := 'numpy'\n",
       "  byteorder := 'little'\n",
       "  chunkshape := None\n",
       "/bb2n (Array(125,)) ''\n",
       "  atom := Float64Atom(shape=(), dflt=0.0)\n",
       "  maindim := 0\n",
       "  flavor := 'numpy'\n",
       "  byteorder := 'little'\n",
       "  chunkshape := None\n",
       "/testnn (Array(125,)) ''\n",
       "  atom := Float64Atom(shape=(), dflt=0.0)\n",
       "  maindim := 0\n",
       "  flavor := 'numpy'\n",
       "  byteorder := 'little'\n",
       "  chunkshape := None\n",
       "/total (Array(125,)) ''\n",
       "  atom := Float64Atom(shape=(), dflt=0.0)\n",
       "  maindim := 0\n",
       "  flavor := 'numpy'\n",
       "  byteorder := 'little'\n",
       "  chunkshape := None"
      ]
     },
     "execution_count": 5,
     "metadata": {},
     "output_type": "execute_result"
    }
   ],
   "source": [
    "f"
   ]
  },
  {
   "cell_type": "code",
   "execution_count": 6,
   "metadata": {
    "collapsed": false,
    "nbpresent": {
     "id": "9926d179-7b19-46b2-8ed3-b87319560baa"
    }
   },
   "outputs": [],
   "source": [
    "minE,maxE,nbin = 0.6,3.,125\n",
    "E = f.root.E[:]\n",
    "Co = f.root.Co[:]\n",
    "K = f.root.K[:]\n",
    "Tl = f.root.Tl[:]\n",
    "Bi = f.root.Bi[:]\n",
    "bb2n = f.root.bb2n[:]\n",
    "testnn = f.root.testnn[:]\n",
    "total = f.root.total[:]"
   ]
  },
  {
   "cell_type": "code",
   "execution_count": 7,
   "metadata": {
    "collapsed": false,
    "nbpresent": {
     "id": "8c5c898e-06ea-4c82-91a1-a60a7d16c34d"
    }
   },
   "outputs": [],
   "source": [
    "h_Co = hist([],nbin,minE,maxE)\n",
    "h_Co.hist = Co\n",
    "h_Co.bins = E\n",
    "h_K = hist([], nbin,minE,maxE)\n",
    "h_K.hist = K\n",
    "h_K.bins = E\n",
    "h_Tl = hist([],nbin,minE,maxE)\n",
    "h_Tl.hist = Tl\n",
    "h_Tl.bins = E\n",
    "h_Bi = hist([],nbin,minE,maxE)\n",
    "h_Bi.hist = Bi\n",
    "h_Bi.bins = E\n",
    "h_bb2n = hist([],nbin,minE,maxE)\n",
    "h_bb2n.hist = bb2n\n",
    "h_bb2n.bins = E\n",
    "h_testnn = hist(testnn,nbin,minE,maxE)\n",
    "h_testnn.hist = testnn\n",
    "h_testnn.bins = E\n",
    "h_total = hist(total,nbin,minE,maxE)\n",
    "h_total.hist = total\n",
    "h_total.bins = E"
   ]
  },
  {
   "cell_type": "code",
   "execution_count": 8,
   "metadata": {
    "collapsed": false,
    "nbpresent": {
     "id": "cf668dc0-d488-47cb-bf3c-5b9ba0dc2fa5"
    }
   },
   "outputs": [],
   "source": [
    "interpol = 'cubic'\n",
    "pdf_Co = PDF(h_Co,interpolation=interpol)\n",
    "pdf_K = PDF(h_K,interpolation=interpol)\n",
    "pdf_Tl = PDF(h_Tl,interpolation=interpol)\n",
    "pdf_Bi = PDF(h_Bi,interpolation=interpol)\n",
    "pdf_bb2n = PDF(h_bb2n,interpolation=interpol)\n",
    "pdf_testnn = PDF(h_testnn,interpolation=interpol)\n",
    "pdf_total = PDF(h_total,interpolation=interpol)"
   ]
  },
  {
   "cell_type": "code",
   "execution_count": 9,
   "metadata": {
    "collapsed": false,
    "nbpresent": {
     "id": "f479410d-487c-43d2-a5e7-e9f6bba72497"
    }
   },
   "outputs": [],
   "source": [
    "pdflis = [pdf_Co,pdf_K,pdf_Tl,pdf_Bi,pdf_bb2n]\n",
    "nevslist = np.array([150000,80000,15000,40000,20000])/8."
   ]
  },
  {
   "cell_type": "code",
   "execution_count": 10,
   "metadata": {
    "collapsed": false,
    "nbpresent": {
     "id": "338246c8-befd-4639-8297-52cb062a2a88"
    }
   },
   "outputs": [],
   "source": [
    "fit = Fit(E,h_total,pdflis)"
   ]
  },
  {
   "cell_type": "code",
   "execution_count": 11,
   "metadata": {
    "collapsed": false,
    "nbpresent": {
     "id": "6728d595-e067-4294-a9b0-4f1321a46d6b"
    },
    "scrolled": false
   },
   "outputs": [
    {
     "name": "stdout",
     "output_type": "stream",
     "text": [
      "CPU times: user 2.68 s, sys: 0 ns, total: 2.68 s\n",
      "Wall time: 2.67 s\n"
     ]
    }
   ],
   "source": [
    "%time res_ll = fit.FitLLM(nevslist,tol=1e-10,options={\"maxiter\":100000,'ftol':1e-20})\n",
    "#\"gtol\":1e-12, ,'maxls':50"
   ]
  },
  {
   "cell_type": "code",
   "execution_count": 12,
   "metadata": {
    "collapsed": false
   },
   "outputs": [
    {
     "data": {
      "text/plain": [
       "          chi2: 1.7545517115556524\n",
       "           err: array([ 321.84053591,  268.4997368 ,  107.99618617,  485.68737027,\n",
       "        443.11965811])\n",
       " final_simplex: (array([[ 18395.0973629 ,  10041.57996118,   1992.7751794 ,   4838.85734773,\n",
       "          1384.68928794],\n",
       "       [ 18395.0973629 ,  10041.57996118,   1992.7751794 ,   4838.85734773,\n",
       "          1384.68928794],\n",
       "       [ 18395.0973629 ,  10041.57996118,   1992.7751794 ,   4838.85734773,\n",
       "          1384.68928794],\n",
       "       [ 18395.0973629 ,  10041.57996118,   1992.7751794 ,   4838.85734773,\n",
       "          1384.68928794],\n",
       "       [ 18395.0973629 ,  10041.57996118,   1992.7751794 ,   4838.85734773,\n",
       "          1384.68928794],\n",
       "       [ 18395.0973629 ,  10041.57996118,   1992.7751794 ,   4838.85734773,\n",
       "          1384.68928794]]), array([ 715.13490661,  715.13490661,  715.13490661,  715.13490661,\n",
       "        715.13490661,  715.13490661]))\n",
       "           fun: 715.134906606767\n",
       "       message: 'Optimization terminated successfully.'\n",
       "          nfev: 560\n",
       "           nit: 276\n",
       "        status: 0\n",
       "       success: True\n",
       "             x: array([ 18395.0973629 ,  10041.57996118,   1992.7751794 ,   4838.85734773,\n",
       "         1384.68928794])"
      ]
     },
     "execution_count": 12,
     "metadata": {},
     "output_type": "execute_result"
    }
   ],
   "source": [
    "res_ll"
   ]
  },
  {
   "cell_type": "code",
   "execution_count": 13,
   "metadata": {
    "collapsed": false
   },
   "outputs": [
    {
     "data": {
      "text/plain": [
       "array([ 18750.,  10000.,   1875.,   5000.,   2500.])"
      ]
     },
     "execution_count": 13,
     "metadata": {},
     "output_type": "execute_result"
    }
   ],
   "source": [
    "nevslist"
   ]
  },
  {
   "cell_type": "code",
   "execution_count": 14,
   "metadata": {
    "collapsed": false,
    "nbpresent": {
     "id": "6b3d0ec6-0ad6-4d29-aef6-7f6748bc8b10"
    }
   },
   "outputs": [
    {
     "name": "stdout",
     "output_type": "stream",
     "text": [
      "CPU times: user 1.21 s, sys: 32.5 ms, total: 1.24 s\n",
      "Wall time: 1.32 s\n"
     ]
    }
   ],
   "source": [
    "%time res_ls = fit.FitLeastSQ(nevslist,tol=1e-12,options={\"maxiter\":1000})"
   ]
  },
  {
   "cell_type": "code",
   "execution_count": 15,
   "metadata": {
    "collapsed": false,
    "nbpresent": {
     "id": "ec592521-b6fd-41d9-8f34-41d166f9802e"
    }
   },
   "outputs": [
    {
     "name": "stdout",
     "output_type": "stream",
     "text": [
      "18967.8383795  +-  297.667231852\n",
      "10149.6005837  +-  248.442467245\n",
      "2634.76085786  +-  397.014502889\n",
      "4478.6278918  +-  312.113365883\n",
      "540.682346863  +-  478.157932923\n"
     ]
    }
   ],
   "source": [
    "for i in range(len(res_ls[0])):\n",
    "    print(res_ls[0][i],' +- ', (res_ls[1][i,i])**0.5)"
   ]
  },
  {
   "cell_type": "markdown",
   "metadata": {
    "nbpresent": {
     "id": "9f0d607a-c2d4-430d-b4e7-d18858308803"
    }
   },
   "source": [
    "# Errors"
   ]
  },
  {
   "cell_type": "code",
   "execution_count": 16,
   "metadata": {
    "collapsed": false,
    "nbpresent": {
     "id": "47eaafd2-4d5f-4f81-a71a-99fe401717a9"
    }
   },
   "outputs": [
    {
     "name": "stderr",
     "output_type": "stream",
     "text": [
      "/home/brais/anaconda3/lib/python3.5/site-packages/ipykernel/__main__.py:20: RuntimeWarning: invalid value encountered in log\n"
     ]
    },
    {
     "data": {
      "text/plain": [
       "[<matplotlib.lines.Line2D at 0x7fce4cbcf668>]"
      ]
     },
     "execution_count": 16,
     "metadata": {},
     "output_type": "execute_result"
    },
    {
     "data": {
      "image/png": "[encoded data removed]",
      "text/plain": [
       "<matplotlib.figure.Figure at 0x7fce7d04e978>"
      ]
     },
     "metadata": {},
     "output_type": "display_data"
    }
   ],
   "source": [
    "scan = fit.FitLLMScan(np. array([ 18395.02927031,  10041.54032921,   1992.53167288,   4839.01680656,1384.77826122]),0,1000)\n",
    "plt.plot(scan[0],np.array(scan[1])-1)\n",
    "plt.plot([0,40000],[0,0])"
   ]
  },
  {
   "cell_type": "code",
   "execution_count": 17,
   "metadata": {
    "collapsed": false,
    "nbpresent": {
     "id": "33a9ad41-0de2-4dff-8e85-10d3c3edfc1f"
    }
   },
   "outputs": [
    {
     "data": {
      "text/plain": [
       "(-0.5, 0.5)"
      ]
     },
     "execution_count": 17,
     "metadata": {},
     "output_type": "execute_result"
    },
    {
     "data": {
      "image/png": "[encoded data removed]",
      "text/plain": [
       "<matplotlib.figure.Figure at 0x7fce4c8af2e8>"
      ]
     },
     "metadata": {},
     "output_type": "display_data"
    }
   ],
   "source": [
    "plt.plot(scan[0],np.array(scan[1])-1)\n",
    "plt.plot([0,40000],[0,0])\n",
    "plt.xlim(18050,18100)\n",
    "plt.ylim(-.5,.5)"
   ]
  },
  {
   "cell_type": "code",
   "execution_count": 18,
   "metadata": {
    "collapsed": false
   },
   "outputs": [
    {
     "name": "stdout",
     "output_type": "stream",
     "text": [
      "CPU times: user 2.04 s, sys: 4.01 ms, total: 2.04 s\n",
      "Wall time: 2.04 s\n"
     ]
    }
   ],
   "source": [
    "%time a = fit.GetError(np.array([ 18395.02927031,  10041.54032921,   1992.53167288,   4839.01680656,1384.77826122]))"
   ]
  },
  {
   "cell_type": "code",
   "execution_count": 19,
   "metadata": {
    "collapsed": false
   },
   "outputs": [
    {
     "data": {
      "text/plain": [
       "array([ 321.7733382 ,  268.46084757,  107.75297585,  485.84817231,\n",
       "        443.20986332])"
      ]
     },
     "execution_count": 19,
     "metadata": {},
     "output_type": "execute_result"
    }
   ],
   "source": [
    "a"
   ]
  },
  {
   "cell_type": "code",
   "execution_count": 20,
   "metadata": {
    "collapsed": false
   },
   "outputs": [
    {
     "data": {
      "text/plain": [
       "array([ 135.62827607,  100.20748639,   44.63778302,   69.56304196,\n",
       "         37.2126089 ])"
      ]
     },
     "execution_count": 20,
     "metadata": {},
     "output_type": "execute_result"
    }
   ],
   "source": [
    "np.array([ 18395.02927031,  10041.54032921,   1992.53167288,   4839.01680656,1384.77826122])**0.5"
   ]
  },
  {
   "cell_type": "code",
   "execution_count": 21,
   "metadata": {
    "collapsed": false,
    "nbpresent": {
     "id": "6338d924-9b4f-4e0c-826b-c91202f6705e"
    }
   },
   "outputs": [
    {
     "ename": "NameError",
     "evalue": "name 'result' is not defined",
     "output_type": "error",
     "traceback": [
      "\u001b[0;31m---------------------------------------------------------------------------\u001b[0m",
      "\u001b[0;31mNameError\u001b[0m                                 Traceback (most recent call last)",
      "\u001b[0;32m<ipython-input-21-e9149357e09e>\u001b[0m in \u001b[0;36m<module>\u001b[0;34m()\u001b[0m\n\u001b[1;32m      1\u001b[0m \u001b[0mN\u001b[0m \u001b[0;34m=\u001b[0m \u001b[0;36m100\u001b[0m\u001b[0;34m\u001b[0m\u001b[0m\n\u001b[0;32m----> 2\u001b[0;31m \u001b[0mnx\u001b[0m \u001b[0;34m=\u001b[0m \u001b[0mnp\u001b[0m\u001b[0;34m.\u001b[0m\u001b[0mlinspace\u001b[0m\u001b[0;34m(\u001b[0m\u001b[0;36m0\u001b[0m\u001b[0;34m,\u001b[0m\u001b[0mresult\u001b[0m\u001b[0;34m[\u001b[0m\u001b[0mi\u001b[0m\u001b[0;34m]\u001b[0m\u001b[0;34m*\u001b[0m\u001b[0;36m2\u001b[0m\u001b[0;34m,\u001b[0m\u001b[0mN\u001b[0m\u001b[0;34m)\u001b[0m\u001b[0;34m\u001b[0m\u001b[0m\n\u001b[0m\u001b[1;32m      3\u001b[0m \u001b[0mLL\u001b[0m \u001b[0;34m=\u001b[0m \u001b[0;34m[\u001b[0m\u001b[0;34m]\u001b[0m\u001b[0;34m\u001b[0m\u001b[0m\n\u001b[1;32m      4\u001b[0m \u001b[0mchi\u001b[0m \u001b[0;34m=\u001b[0m \u001b[0;34m[\u001b[0m\u001b[0;34m]\u001b[0m\u001b[0;34m\u001b[0m\u001b[0m\n\u001b[1;32m      5\u001b[0m \u001b[0;32mfor\u001b[0m \u001b[0mni\u001b[0m \u001b[0;32min\u001b[0m \u001b[0mnx\u001b[0m\u001b[0;34m:\u001b[0m\u001b[0;34m\u001b[0m\u001b[0m\n",
      "\u001b[0;31mNameError\u001b[0m: name 'result' is not defined"
     ]
    }
   ],
   "source": [
    "N = 100\n",
    "nx = np.linspace(0,result[i]*2,N)\n",
    "LL = []\n",
    "chi = []\n",
    "for ni in nx:\n",
    "    res = fit.FitLLMScan(nevslist,ni,tol=1e-8,options={\"maxiter\":1000})\n",
    "    LL.append(res.fun)\n",
    "    chi.append(res.chi2)\n",
    "    print(ni,'\\n',res,'\\n \\n')"
   ]
  },
  {
   "cell_type": "code",
   "execution_count": 22,
   "metadata": {
    "collapsed": false,
    "nbpresent": {
     "id": "c36ef985-fe8e-4cfa-aaa4-c288a78414ca"
    }
   },
   "outputs": [
    {
     "ename": "NameError",
     "evalue": "name 'nx' is not defined",
     "output_type": "error",
     "traceback": [
      "\u001b[0;31m---------------------------------------------------------------------------\u001b[0m",
      "\u001b[0;31mNameError\u001b[0m                                 Traceback (most recent call last)",
      "\u001b[0;32m<ipython-input-22-72596ffbc1e7>\u001b[0m in \u001b[0;36m<module>\u001b[0;34m()\u001b[0m\n\u001b[0;32m----> 1\u001b[0;31m \u001b[0mplt\u001b[0m\u001b[0;34m.\u001b[0m\u001b[0mplot\u001b[0m\u001b[0;34m(\u001b[0m\u001b[0mnx\u001b[0m\u001b[0;34m,\u001b[0m\u001b[0mLL\u001b[0m\u001b[0;34m)\u001b[0m\u001b[0;34m\u001b[0m\u001b[0m\n\u001b[0m\u001b[1;32m      2\u001b[0m \u001b[0;31m#plt.plot(nx,chi)\u001b[0m\u001b[0;34m\u001b[0m\u001b[0;34m\u001b[0m\u001b[0m\n",
      "\u001b[0;31mNameError\u001b[0m: name 'nx' is not defined"
     ]
    }
   ],
   "source": [
    "plt.plot(nx,LL)\n",
    "#plt.plot(nx,chi)\n"
   ]
  },
  {
   "cell_type": "code",
   "execution_count": 23,
   "metadata": {
    "collapsed": false,
    "nbpresent": {
     "id": "a55f9b06-b908-4e79-bb3b-728a3e18a4ae"
    }
   },
   "outputs": [
    {
     "ename": "NameError",
     "evalue": "name 'result' is not defined",
     "output_type": "error",
     "traceback": [
      "\u001b[0;31m---------------------------------------------------------------------------\u001b[0m",
      "\u001b[0;31mNameError\u001b[0m                                 Traceback (most recent call last)",
      "\u001b[0;32m<ipython-input-23-da32a08388c1>\u001b[0m in \u001b[0;36m<module>\u001b[0;34m()\u001b[0m\n\u001b[1;32m      1\u001b[0m \u001b[0mN\u001b[0m \u001b[0;34m=\u001b[0m \u001b[0;36m50\u001b[0m\u001b[0;34m\u001b[0m\u001b[0m\n\u001b[1;32m      2\u001b[0m \u001b[0;32mfor\u001b[0m \u001b[0mi\u001b[0m \u001b[0;32min\u001b[0m \u001b[0mrange\u001b[0m\u001b[0;34m(\u001b[0m\u001b[0;36m5\u001b[0m\u001b[0;34m)\u001b[0m\u001b[0;34m:\u001b[0m\u001b[0;34m\u001b[0m\u001b[0m\n\u001b[0;32m----> 3\u001b[0;31m     \u001b[0mnevs\u001b[0m \u001b[0;34m=\u001b[0m \u001b[0mnp\u001b[0m\u001b[0;34m.\u001b[0m\u001b[0mcopy\u001b[0m\u001b[0;34m(\u001b[0m\u001b[0mresult\u001b[0m\u001b[0;34m)\u001b[0m\u001b[0;34m\u001b[0m\u001b[0m\n\u001b[0m\u001b[1;32m      4\u001b[0m     \u001b[0mx\u001b[0m \u001b[0;34m=\u001b[0m \u001b[0mnp\u001b[0m\u001b[0;34m.\u001b[0m\u001b[0mlinspace\u001b[0m\u001b[0;34m(\u001b[0m\u001b[0;36m0\u001b[0m\u001b[0;34m,\u001b[0m\u001b[0mresult\u001b[0m\u001b[0;34m[\u001b[0m\u001b[0mi\u001b[0m\u001b[0;34m]\u001b[0m\u001b[0;34m*\u001b[0m\u001b[0;36m3\u001b[0m\u001b[0;34m,\u001b[0m\u001b[0mN\u001b[0m\u001b[0;34m)\u001b[0m\u001b[0;34m\u001b[0m\u001b[0m\n\u001b[1;32m      5\u001b[0m     \u001b[0my\u001b[0m \u001b[0;34m=\u001b[0m \u001b[0mnp\u001b[0m\u001b[0;34m.\u001b[0m\u001b[0mzeros\u001b[0m\u001b[0;34m(\u001b[0m\u001b[0;34m[\u001b[0m\u001b[0mN\u001b[0m\u001b[0;34m,\u001b[0m\u001b[0;36m1\u001b[0m\u001b[0;34m]\u001b[0m\u001b[0;34m)\u001b[0m\u001b[0;34m\u001b[0m\u001b[0m\n",
      "\u001b[0;31mNameError\u001b[0m: name 'result' is not defined"
     ]
    }
   ],
   "source": [
    "N = 50\n",
    "for i in range(5):\n",
    "    nevs = np.copy(result)\n",
    "    x = np.linspace(0,result[i]*3,N)\n",
    "    y = np.zeros([N,1])\n",
    "    for event in range(len(x)):\n",
    "        nevs[i] = x[event]\n",
    "        y[event] = fit.LogLikelihood(nevs)\n",
    "    plt.plot(x,y-357.46490713137422-2)\n",
    "    plt.plot(result[i],fit.LogLikelihood(result)-357.46490713137422-2,'o')\n",
    "plt.plot([0,60000],[0,0])"
   ]
  },
  {
   "cell_type": "code",
   "execution_count": 24,
   "metadata": {
    "collapsed": false,
    "nbpresent": {
     "id": "fa0475a3-1841-445e-8c99-83d70e9d52c1"
    }
   },
   "outputs": [
    {
     "ename": "NameError",
     "evalue": "name 'x' is not defined",
     "output_type": "error",
     "traceback": [
      "\u001b[0;31m---------------------------------------------------------------------------\u001b[0m",
      "\u001b[0;31mNameError\u001b[0m                                 Traceback (most recent call last)",
      "\u001b[0;32m<ipython-input-24-b3d864a62edf>\u001b[0m in \u001b[0;36m<module>\u001b[0;34m()\u001b[0m\n\u001b[0;32m----> 1\u001b[0;31m \u001b[0mplt\u001b[0m\u001b[0;34m.\u001b[0m\u001b[0mplot\u001b[0m\u001b[0;34m(\u001b[0m\u001b[0mx\u001b[0m\u001b[0;34m,\u001b[0m\u001b[0my\u001b[0m\u001b[0;34m-\u001b[0m\u001b[0;36m357.46490713137422\u001b[0m\u001b[0;34m-\u001b[0m\u001b[0;36m0.5\u001b[0m\u001b[0;34m)\u001b[0m\u001b[0;34m\u001b[0m\u001b[0m\n\u001b[0m\u001b[1;32m      2\u001b[0m \u001b[0mplt\u001b[0m\u001b[0;34m.\u001b[0m\u001b[0mplot\u001b[0m\u001b[0;34m(\u001b[0m\u001b[0mresult\u001b[0m\u001b[0;34m[\u001b[0m\u001b[0mi\u001b[0m\u001b[0;34m]\u001b[0m\u001b[0;34m,\u001b[0m\u001b[0mfit\u001b[0m\u001b[0;34m.\u001b[0m\u001b[0mLogLikelihood\u001b[0m\u001b[0;34m(\u001b[0m\u001b[0mresult\u001b[0m\u001b[0;34m)\u001b[0m\u001b[0;34m-\u001b[0m\u001b[0;36m357.46490713137422\u001b[0m\u001b[0;34m-\u001b[0m\u001b[0;36m0.5\u001b[0m\u001b[0;34m,\u001b[0m\u001b[0;34m'o'\u001b[0m\u001b[0;34m)\u001b[0m\u001b[0;34m\u001b[0m\u001b[0m\n\u001b[1;32m      3\u001b[0m \u001b[0mplt\u001b[0m\u001b[0;34m.\u001b[0m\u001b[0mplot\u001b[0m\u001b[0;34m(\u001b[0m\u001b[0;34m[\u001b[0m\u001b[0mx\u001b[0m\u001b[0;34m[\u001b[0m\u001b[0;36m0\u001b[0m\u001b[0;34m]\u001b[0m\u001b[0;34m,\u001b[0m\u001b[0mx\u001b[0m\u001b[0;34m[\u001b[0m\u001b[0;34m-\u001b[0m\u001b[0;36m1\u001b[0m\u001b[0;34m]\u001b[0m\u001b[0;34m]\u001b[0m\u001b[0;34m,\u001b[0m\u001b[0;34m[\u001b[0m\u001b[0;36m0\u001b[0m\u001b[0;34m,\u001b[0m\u001b[0;36m0\u001b[0m\u001b[0;34m]\u001b[0m\u001b[0;34m)\u001b[0m\u001b[0;34m\u001b[0m\u001b[0m\n\u001b[1;32m      4\u001b[0m \u001b[0mplt\u001b[0m\u001b[0;34m.\u001b[0m\u001b[0mxlim\u001b[0m\u001b[0;34m(\u001b[0m\u001b[0;36m1225\u001b[0m\u001b[0;34m,\u001b[0m\u001b[0;36m1226\u001b[0m\u001b[0;34m)\u001b[0m\u001b[0;34m\u001b[0m\u001b[0m\n\u001b[1;32m      5\u001b[0m \u001b[0mplt\u001b[0m\u001b[0;34m.\u001b[0m\u001b[0mylim\u001b[0m\u001b[0;34m(\u001b[0m\u001b[0;34m-\u001b[0m\u001b[0;36m0.005151\u001b[0m\u001b[0;34m,\u001b[0m\u001b[0;36m0.0051\u001b[0m\u001b[0;34m)\u001b[0m\u001b[0;34m\u001b[0m\u001b[0m\n",
      "\u001b[0;31mNameError\u001b[0m: name 'x' is not defined"
     ]
    }
   ],
   "source": [
    "plt.plot(x,y-357.46490713137422-0.5)\n",
    "plt.plot(result[i],fit.LogLikelihood(result)-357.46490713137422-0.5,'o')\n",
    "plt.plot([x[0],x[-1]],[0,0])\n",
    "plt.xlim(1225,1226)\n",
    "plt.ylim(-0.005151,0.0051)\n",
    "#for i in "
   ]
  },
  {
   "cell_type": "code",
   "execution_count": null,
   "metadata": {
    "collapsed": false,
    "nbpresent": {
     "id": "97e7ed72-aa0e-46fd-87b1-3a45eaceb34e"
    }
   },
   "outputs": [],
   "source": []
  },
  {
   "cell_type": "markdown",
   "metadata": {
    "collapsed": false
   },
   "source": [
    "# Pulls"
   ]
  },
  {
   "cell_type": "code",
   "execution_count": 25,
   "metadata": {
    "collapsed": false,
    "nbpresent": {
     "id": "f1c07dd3-5864-43c8-8165-a56d61a170f8"
    }
   },
   "outputs": [],
   "source": [
    "nevslist = np.array([150000,80000,15000,40000,20000])/8\n",
    "ne = np.array([0,0,0,0,0])\n",
    "h_Coaux = hist([],nbin,minE,maxE)\n",
    "h_Coaux.hist = Co/8.\n",
    "ne[0] = h_Coaux.hist.sum()\n",
    "h_Coaux.bins = E\n",
    "h_Kaux = hist([], nbin,minE,maxE)\n",
    "h_Kaux.hist = K/.8\n",
    "ne[1] = h_Kaux.hist.sum()\n",
    "h_Kaux.bins = E\n",
    "h_Tlaux = hist([],nbin,minE,maxE)\n",
    "h_Tlaux.hist = Tl/8.\n",
    "ne[2] = h_Tlaux.hist.sum()\n",
    "h_Tlaux.bins = E\n",
    "h_Biaux = hist([],nbin,minE,maxE)\n",
    "h_Biaux.hist = Bi/8.\n",
    "ne[3] = h_Biaux.hist.sum()\n",
    "h_Biaux.bins = E\n",
    "h_bb2naux = hist([],nbin,minE,maxE)\n",
    "h_bb2naux.hist = bb2n*2054/bb2n.sum()\n",
    "ne[4] = h_bb2naux.hist.sum()\n",
    "h_bb2naux.bins = E"
   ]
  },
  {
   "cell_type": "code",
   "execution_count": 26,
   "metadata": {
    "collapsed": false
   },
   "outputs": [
    {
     "name": "stdout",
     "output_type": "stream",
     "text": [
      "[ 18750.  10000.   1875.   5000.   2500.] [18622 99495  1902  4786  2054]\n"
     ]
    }
   ],
   "source": [
    "print(nevslist,ne)"
   ]
  },
  {
   "cell_type": "code",
   "execution_count": 59,
   "metadata": {
    "collapsed": false,
    "nbpresent": {
     "id": "e8525e26-c721-42c8-9f9a-2a1167b293a8"
    }
   },
   "outputs": [
    {
     "name": "stdout",
     "output_type": "stream",
     "text": [
      "0 \n",
      " [ 18504.88027903  99877.44102625   1604.37800181   5822.75643055\n",
      "   1280.54354033] \n",
      " [ 18898.  99568.   1849.   4719.   2056.] \n",
      " [ 575.91280312  627.78553821  104.36085604  654.16409778  598.66489069]\n",
      "1 \n",
      " [ 18457.14750228  99528.53352656   1810.94706061   4382.44581192\n",
      "   2078.92551824] \n",
      " [ 18567.  99252.   1835.   4636.   1968.] \n",
      " [ 573.19589002  627.12524066  107.27055976  629.38109756  583.3185856 ]\n",
      "2 \n",
      " [  18388.32926213  100031.24247509    2120.30833367    4205.56219616\n",
      "    1798.55665352] \n",
      " [ 18456.  99398.   1910.   4736.   2044.] \n",
      " [ 573.14536119  627.81288136  114.0369689   643.39699386  596.34112481]\n",
      "3 \n",
      " [ 18423.01437625  98876.2537937    1926.83384024   4231.89824107\n",
      "   2905.99844751] \n",
      " [ 18396.  99159.   1974.   4763.   2072.] \n",
      " [ 576.31286434  628.33353739  108.12782972  644.96120678  600.40635577]\n",
      "4 \n",
      " [  18281.04756785  100544.85915345    1915.43613751    5090.6982325\n",
      "    1400.95763243] \n",
      " [  18553.  100076.    1888.    4720.    1996.] \n",
      " [ 578.98152542  630.40867948  108.18320775  651.73577561  592.79059184]\n",
      "5 \n",
      " [ 19092.31268456  99742.64494429   1821.32445472   5240.26358177\n",
      "   1079.45361952] \n",
      " [ 18630.  99655.   1885.   4732.   2074.] \n",
      " [ 575.22562903  625.32786132  107.9938663   648.10142957  590.13852704]\n",
      "6 \n",
      " [  17853.47995058  100550.42903919    1744.79743686    6134.84322335\n",
      "     807.44964398] \n",
      " [ 18488.  99917.   1861.   4749.   2076.] \n",
      " [ 576.47071604  628.02541489  106.48480389  657.21395957  598.15559814]\n",
      "7 \n",
      " [  17752.13025073  100165.52528866    1835.18026386    4452.8328064\n",
      "    2716.33054712] \n",
      " [ 18515.  99662.   1920.   4773.   2052.] \n",
      " [ 575.04323386  631.83287287  106.87709689  634.58948917  598.8262088 ]\n",
      "8 \n",
      " [  18381.26648442  100043.70768025    1987.85040545    5766.35462885\n",
      "     647.81978471] \n",
      " [ 18488.  99647.   1942.   4680.   2070.] \n",
      " [ 575.66232978  628.15152945  110.49011503  646.47036928  593.52299921]\n",
      "9 \n",
      " [ 18717.74622258  98924.47691382   1911.98958846   5013.44363402\n",
      "   1866.34375983] \n",
      " [ 18477.  99081.   1964.   4764.   2148.] \n",
      " [ 573.33047524  628.02630138  110.08971209  638.54626341  596.09190834]\n",
      "10 \n",
      " [ 18580.59703643  99571.54697769   2046.92102318   4909.9856975\n",
      "   2178.94703188] \n",
      " [ 18822.  99554.   1984.   4903.   2025.] \n",
      " [ 578.58944192  632.3862832   113.54667069  654.40817941  609.69096233]\n",
      "11 \n",
      " [ 18738.01602404  99163.66115298   1818.31069187   4863.37979088\n",
      "   2058.63184833] \n",
      " [ 18517.  99453.   1879.   4756.   2037.] \n",
      " [ 577.2082218   629.78533951  107.3547195   645.77086372  596.37183954]\n",
      "12 \n",
      " [ 18306.36631003  99462.46938472   1894.29046289   4460.05668755\n",
      "   2700.81730752] \n",
      " [ 18652.  99458.   1904.   4766.   2044.] \n",
      " [ 576.02515245  631.06643087  108.52221725  630.96234137  595.48783023]\n",
      "13 \n",
      " [ 18341.79032472  98859.96081134   1838.59276184   5186.34565535\n",
      "   1974.30910247] \n",
      " [ 18515.  98966.   1910.   4742.   2068.] \n",
      " [ 572.43402562  627.48484151  108.36624178  633.95743715  594.22107976]\n",
      "14 \n",
      " [  17552.71928036  100608.128533      1980.63611399    5380.26184199\n",
      "    1576.25303055] \n",
      " [ 18535.  99773.   1940.   4819.   2031.] \n",
      " [ 578.97289467  633.52237999  110.28498449  650.39822614  604.56676138]\n",
      "15 \n",
      " [ 19491.83715322  99127.50690282   1978.79671557   4035.6390756\n",
      "   2544.21807793] \n",
      " [ 18636.  99805.   1916.   4833.   1988.] \n",
      " [ 576.23111308  628.00702515  110.80136992  640.27609614  595.70836443]\n",
      "16 \n",
      " [ 19342.22681098  98746.38106317   2005.27635879   4538.57746649\n",
      "   1899.53785435] \n",
      " [ 18716.  99126.   1871.   4765.   2054.] \n",
      " [ 577.61466959  626.15618012  110.72074817  646.64814474  593.09305943]\n",
      "17 \n",
      " [ 18547.16264797  99202.14332265   1871.03020921   5062.12057227\n",
      "   1819.54258496] \n",
      " [ 18514.  99182.   1824.   4888.   2094.] \n",
      " [ 578.27816755  628.54416676  108.17561017  651.75240553  597.26003349]\n",
      "18 \n",
      " [ 19574.42924786  99081.73224374   2012.86413001   3994.48345535\n",
      "   2149.48989281] \n",
      " [ 18491.  99644.   1889.   4745.   2044.] \n",
      " [ 572.7912637   628.62832147  110.49901454  627.12584129  593.07339051]\n",
      "19 \n",
      " [  18852.66623219  100171.02435297    2120.28725558    4241.77189634\n",
      "    2096.24895864] \n",
      " [  18693.  100137.    1926.    4747.    1979.] \n",
      " [ 572.57712409  629.52007251  114.00548576  621.70348756  588.6790666 ]\n",
      "20 \n",
      " [ 18446.71654842  99337.26562264   1874.79965415   5410.26580084\n",
      "   2138.95186607] \n",
      " [ 18684.  99576.   1983.   4905.   2060.] \n",
      " [ 578.4477828   631.41170994  109.22801044  641.64792664  597.65336767]\n",
      "21 \n",
      " [ 18752.3066736   99332.72401324   1906.56569684   3866.56332979\n",
      "   3170.83910315] \n",
      " [ 18562.  99710.   1927.   4786.   2044.] \n",
      " [ 577.72959746  630.89738232  109.91182046  625.86019476  587.04952605]\n",
      "22 \n",
      " [ 18925.33416964  99283.5721935    1869.32943406   4320.72975177\n",
      "   2349.03381733] \n",
      " [ 18665.  99396.   1851.   4740.   2096.] \n",
      " [ 575.73038151  628.0914821   108.33401314  641.22587473  592.40086217]\n",
      "23 \n",
      " [ 18398.87025708  99521.12386969   1752.91118465   6293.41612789\n",
      "    887.6770951 ] \n",
      " [ 18435.  99643.   1862.   4857.   2057.] \n",
      " [ 579.37225459  628.31148805  108.02290904  661.38320879  597.38107079]\n",
      "24 \n",
      " [  18022.59507632  100486.78582819    1932.01957497    4975.2919803\n",
      "    1489.30538762] \n",
      " [ 18523.  99722.   1886.   4718.   2057.] \n",
      " [ 575.2532415   629.02177672  109.97406925  637.93775654  588.17777297]\n",
      "25 \n",
      " [  18309.66776423  100338.10660808    1834.89546564    5064.24635391\n",
      "    1875.08309018] \n",
      " [  18692.  100052.    1892.    4832.    1954.] \n",
      " [ 574.91490764  631.05560634  106.1234179   625.20741575  587.43100013]\n",
      "26 \n",
      " [  18372.86880483  100153.90313223    1857.463709      5720.7915894\n",
      "    1342.97182595] \n",
      " [  18696.  100037.    1945.    4702.    2068.] \n",
      " [ 578.46081917  628.87342283  108.55705923  663.20695528  600.29803641]\n",
      "27 \n",
      " [ 18636.07083365  99468.98222296   1732.91878441   4991.89890805\n",
      "   1976.12837222] \n",
      " [ 18655.  99424.   1892.   4760.   2075.] \n",
      " [ 572.57871172  628.84468241  106.07113876  636.29543251  597.75259683]\n",
      "28 \n",
      " [  18182.40383243  100266.86036307    1904.60855466    4730.0125053\n",
      "    1933.10977388] \n",
      " [ 18645.  99607.   1962.   4785.   2018.] \n",
      " [ 574.91479582  630.70838487  107.95520271  634.81644513  591.01654127]\n",
      "29 \n",
      " [  18113.44186272  100012.91866315    2089.32159102    5192.97555817\n",
      "    1298.34030748] \n",
      " [ 18822.  99122.   1997.   4802.   1964.] \n",
      " [ 574.02471136  630.04128653  113.34962367  637.05038461  594.85373299]\n",
      "30 \n",
      " [  18278.44538185  100600.42625468    1919.43505111    4750.84709833\n",
      "    2018.84463066] \n",
      " [  18679.  100211.    1912.    4773.    1993.] \n",
      " [ 577.54698212  632.95590573  108.84535094  643.57034956  599.01648038]\n",
      "31 \n",
      " [ 17997.47115801  99121.34373822   1802.21721065   4981.39546866\n",
      "   2347.57016962] \n",
      " [ 18535.  98923.   1913.   4803.   2076.] \n",
      " [ 576.53371811  626.55417996  107.97830324  651.34332095  593.9102165 ]\n",
      "32 \n",
      " [  17300.70116763  100242.92086398    1918.60457109    4949.38487702\n",
      "    2120.38735201] \n",
      " [ 18703.  98998.   1919.   4791.   2121.] \n",
      " [ 577.08767577  630.75324084  109.18965556  643.58611223  595.95790881]\n",
      "33 \n",
      " [ 18217.06247437  99631.09192192   1875.14758134   5234.68687681\n",
      "   1688.00967817] \n",
      " [ 18580.  99260.   1915.   4747.   2144.] \n",
      " [ 577.06614322  629.36896631  109.81825669  655.29041781  603.26022133]\n",
      "34 \n",
      " [ 18624.21631245  99288.74010918   1779.69949688   4009.55339093\n",
      "   3176.79059062] \n",
      " [ 18883.  99243.   1870.   4807.   2076.] \n",
      " [ 576.16588635  630.51643742  107.52378856  636.98042477  596.72748409]\n",
      "35 \n",
      " [ 18736.79195161  98658.90970396   1862.53468029   5750.32847565\n",
      "   1969.43523246] \n",
      " [ 18722.  99369.   1949.   4874.   2064.] \n",
      " [ 579.9342648   629.34340269  110.27733184  660.56733542  606.83081862]\n",
      "36 \n",
      " [ 18354.8955309   99242.38221872   1683.63309385   4872.74373651\n",
      "   2290.3441101 ] \n",
      " [ 18622.  99155.   1853.   4760.   2054.] \n",
      " [ 575.74370113  626.53001344  105.34475257  645.55815071  593.30653147]\n",
      "37 \n",
      " [ 18713.15958732  98941.89898058   1886.47301947   5672.57406139\n",
      "   1169.89257168] \n",
      " [ 18484.  99322.   1870.   4691.   2017.] \n",
      " [ 577.35303118  625.56154486  110.22953193  657.49250034  594.81724188]\n",
      "38 \n",
      " [  17807.33093024  100752.23456525    1846.51853355    5130.50920302\n",
      "    2495.40508485] \n",
      " [  18858.  100254.    1980.    4800.    2140.] \n",
      " [ 581.75739335  634.71451956  107.40481711  652.92269295  605.14389226]\n",
      "39 \n",
      " [ 19039.77322321  99420.47734201   1919.8589644    5165.44060574\n",
      "   1617.44860085] \n",
      " [ 18562.  99747.   1895.   4870.   2089.] \n",
      " [ 576.69250005  631.46786732  107.77506377  638.73673206  597.56982268]\n",
      "40 \n",
      " [ 17989.76531509  99505.28987038   1918.10248029   4351.49975778\n",
      "   3103.34054492] \n",
      " [ 18392.  99689.   1964.   4734.   2089.] \n",
      " [ 575.91515522  632.20465338  108.48494071  644.29385318  609.94597272]\n",
      "41 \n",
      " [ 18423.55712723  99687.17265384   2001.67637181   4585.70740372\n",
      "   2055.88517097] \n",
      " [ 18677.  99360.   1851.   4798.   2068.] \n",
      " [ 578.80646874  631.21525415  111.28220861  656.48350331  603.65980577]\n",
      "42 \n",
      " [ 18390.27303742  99686.20585251   2012.43364426   4364.15605043\n",
      "   2245.93148412] \n",
      " [ 18330.  99667.   1891.   4753.   2058.] \n",
      " [ 574.92468544  631.13118066  112.00758657  632.23564407  593.71494597]\n",
      "43 \n",
      " [ 18794.66191717  99898.16778306   2061.16835308   4016.48206276\n",
      "   1999.51835457] \n",
      " [ 18702.  99354.   1888.   4745.   2081.] \n",
      " [ 572.97985726  628.482383    112.32482429  632.67194223  591.53937775]\n",
      "44 \n",
      " [ 18933.1930251   99644.79105037   1976.98583256   4559.14702074\n",
      "   2183.8829326 ] \n",
      " [ 18773.  99604.   1900.   4886.   2135.] \n",
      " [ 577.67857186  631.35997719  110.36782432  643.34970571  600.88515024]\n",
      "45 \n",
      " [  18687.61061766  100035.17362346    2177.95349064    3673.87290672\n",
      "    2133.38898249] \n",
      " [ 18466.  99460.   1913.   4795.   2074.] \n",
      " [ 573.11745423  627.14941022  112.91246376  628.9409695   582.38742242]\n",
      "46 \n",
      " [ 18570.34596942  99874.22703725   1967.08594656   4841.51845059\n",
      "   1585.82298662] \n",
      " [ 18575.  99379.   1985.   4834.   2066.] \n",
      " [ 575.28047545  630.84467962  112.40842366  643.70066381  601.26810854]\n",
      "47 \n",
      " [ 17728.76175851  99731.71197172   1967.67143179   4692.37045098\n",
      "   2583.48384945] \n",
      " [ 18521.  99414.   1971.   4738.   2060.] \n",
      " [ 578.48118557  632.53251758  110.80627161  642.622527    599.32207635]\n",
      "48 \n",
      " [ 18633.32089493  99725.85961747   1945.72455163   5116.55994795\n",
      "   1547.53274826] \n",
      " [ 18685.  99531.   1912.   4774.   2067.] \n",
      " [ 574.16658045  627.14343121  109.01130399  636.59303129  589.96537446]\n",
      "49 \n",
      " [ 18495.19715     99865.11410739   1969.33865283   4877.28314531\n",
      "   1740.06734661] \n",
      " [ 18680.  99636.   1808.   4756.   2067.] \n",
      " [ 577.0567153   628.72161982  111.32382628  652.51462216  595.17604997]\n",
      "50 \n",
      " [ 19051.61578777  99050.41318254   1757.26541651   5193.06444185\n",
      "   1485.64043862] \n",
      " [ 18527.  99437.   1809.   4688.   2077.] \n",
      " [ 573.95269358  629.14270232  107.35332521  630.86305952  592.12674039]\n",
      "51 \n",
      " [ 19157.12742317  99411.49256751   2088.71236987   3159.51303314\n",
      "   2914.15415631] \n",
      " [ 18582.  99542.   1883.   4709.   2015.] \n",
      " [ 574.56902259  629.55909482  113.47020245  611.33516318  577.78989625]\n",
      "52 \n",
      " [ 19349.92391176  98680.79445274   1967.06040548   4546.36570712\n",
      "   2142.8539468 ] \n",
      " [ 18698.  99322.   1895.   4771.   2001.] \n",
      " [ 579.40357837  628.55293043  109.41044073  642.33127366  591.51961255]\n",
      "53 \n",
      " [ 19390.875568    98835.73596665   2076.32381814   3653.58960719\n",
      "   2186.4743403 ] \n",
      " [ 18555.  98977.   1881.   4672.   2058.] \n",
      " [ 573.26851806  626.702567    111.75644809  627.50591819  588.13576841]\n",
      "54 \n",
      " [ 19492.23567457  99008.96027395   2060.3903892    5267.3069521\n",
      "   1007.10727345] \n",
      " [ 18623.  99313.   1918.   4871.   2111.] \n",
      " [ 576.26858024  628.78283796  113.3134341   636.08948955  588.89716384]\n",
      "55 \n",
      " [ 19590.08038514  98127.20792325   1755.65243931   5203.84687078\n",
      "   1954.21096146] \n",
      " [ 18685.  99121.   1840.   4950.   2035.] \n",
      " [ 579.00078292  629.60247373  106.85398569  660.11024475  604.71817273]\n",
      "56 \n",
      " [ 18558.07315104  99421.75358263   1693.54485913   5173.28347715\n",
      "   2251.34405625] \n",
      " [ 18790.  99675.   1871.   4713.   2049.] \n",
      " [ 576.6998821   628.86606942  105.61535888  646.72010325  595.18503342]\n",
      "57 \n",
      " [ 18556.71989481  99022.12603088   1790.65110444   5050.92396258\n",
      "   2579.57809747] \n",
      " [ 18540.  99533.   1976.   4808.   2143.] \n",
      " [ 577.00569711  631.80723721  106.36991659  647.93433505  607.94619332]\n",
      "58 \n",
      " [  18573.6443625   100552.64593988    2091.23761054    4165.22738087\n",
      "    2221.24373207] \n",
      " [ 18887.  99837.   1964.   4860.   2056.] \n",
      " [ 577.13487265  632.93971747  112.75476396  636.05491017  595.36648404]\n",
      "59 \n",
      " [ 18964.42984965  99301.8754188    2038.31032316   4866.19522604\n",
      "   1630.18864059] \n",
      " [ 18698.  99524.   1927.   4744.   1908.] \n",
      " [ 574.90826973  629.11512116  112.72407066  630.22721457  588.98549819]\n",
      "60 \n",
      " [ 18955.69341795  98787.49376462   2091.56419108   5047.45946618\n",
      "   1204.78786559] \n",
      " [ 18583.  98769.   1959.   4749.   2027.] \n",
      " [ 572.32661954  624.78880058  113.88082172  641.92527093  592.42061407]\n",
      "61 \n",
      " [ 18276.26205408  99470.89358481   2061.92188769   5647.29634504\n",
      "   1012.62536496] \n",
      " [ 18606.  99159.   1951.   4654.   2099.] \n",
      " [ 576.30414081  628.51408763  114.77530844  651.11867631  597.37095092]\n",
      "62 \n",
      " [ 18680.33574812  99098.83284037   1903.25217605   5120.21062997\n",
      "   2288.3679539 ] \n",
      " [ 18656.  99582.   1884.   4887.   2082.] \n",
      " [ 577.16755827  630.17511294  110.13295924  651.13005627  604.35540362]\n",
      "63 \n",
      " [ 18298.62241905  99580.29811669   1954.70489427   3273.69564373\n",
      "   3286.67755746] \n",
      " [ 18574.  99176.   1923.   4722.   1999.] \n",
      " [ 574.90806839  630.4753726   108.79405066  632.51974978  593.16998206]\n",
      "64 \n",
      " [ 18697.1973839   99549.22333486   2023.71874427   5366.03494185\n",
      "   1114.82355612] \n",
      " [ 18499.  99504.   1902.   4786.   2060.] \n",
      " [ 579.25657172  627.45264457  113.38976289  676.0017374   611.59062176]\n",
      "65 \n",
      " [ 18811.54043099  98426.48620225   1765.02274286   4841.93712833\n",
      "   2664.01273924] \n",
      " [ 18479.  99268.   1890.   4808.   2064.] \n",
      " [ 576.54586694  626.60664061  106.98544918  649.00373946  598.15262792]\n",
      "66 \n",
      " [  18145.6635285   100515.41128695    2055.14969463    5036.56840753\n",
      "    1615.20680557] \n",
      " [ 18579.  99924.   1928.   4883.   2054.] \n",
      " [ 574.42454623  631.12194341  112.10689596  634.66627391  597.57181703]\n",
      "67 \n",
      " [  17775.79788352  100473.71314874    1913.65134721    4875.96693962\n",
      "    2107.86915861] \n",
      " [ 18579.  99858.   1902.   4808.   2000.] \n",
      " [ 575.79743197  631.89588302  109.25296789  637.67808646  597.1570116 ]\n",
      "68 \n",
      " [ 18849.0095606   99380.79410247   1892.86724738   4673.82132817\n",
      "   2069.5066507 ] \n",
      " [ 18549.  99806.   1822.   4585.   2104.] \n",
      " [ 576.77131544  630.22000254  108.54744413  647.52282765  599.45475043]\n",
      "69 \n",
      " [ 19605.72861678  98421.77789359   1947.81325246   4335.91268146\n",
      "   2415.76571499] \n",
      " [ 18423.  99550.   1881.   4850.   2023.] \n",
      " [ 577.783346    628.86342068  112.23137654  648.11246706  600.67250015]\n",
      "70 \n",
      " [  17734.65796015  100177.56889199    1722.75832441    4699.30548365\n",
      "    2417.7096872 ] \n",
      " [ 18752.  99164.   1924.   4815.   2097.] \n",
      " [ 573.86911425  630.92967397  105.03754506  629.36993066  589.40502148]\n",
      "71 \n",
      " [ 18853.12692056  99099.56543845   1963.3817242    5057.25444645\n",
      "   1669.67015807] \n",
      " [ 18774.  99066.   1948.   4784.   2071.] \n",
      " [ 577.24934525  628.06691195  110.30057179  651.25248988  599.76914017]\n",
      "72 \n",
      " [ 19251.24071541  98634.83363317   1757.54766925   5938.26092815\n",
      "    940.11597477] \n",
      " [ 18791.  99075.   1849.   4763.   2044.] \n",
      " [ 582.88157576  630.13195809  107.02429259  674.65738513  608.65460733]\n",
      "73 \n",
      " [ 18806.34449638  99829.65287508   1847.23026987   4418.29651689\n",
      "   2421.47566943] \n",
      " [ 18719.  99760.   1930.   4780.   2134.] \n",
      " [ 578.35045155  631.41840654  107.16425773  635.5033736   588.84583456]\n",
      "74 \n",
      " [ 18901.86762958  99200.52835347   1931.97522181   5899.59038732\n",
      "    820.03629431] \n",
      " [ 18512.  99532.   2004.   4634.   2072.] \n",
      " [ 580.24169684  628.97322657  112.12843565  658.26702059  598.69342683]\n",
      "75 \n",
      " [ 17664.98730126  99850.30623161   1882.60772241   4792.54589162\n",
      "   2400.55263274] \n",
      " [ 18614.  99177.   2014.   4702.   2084.] \n",
      " [ 574.79337971  630.32756755  109.19546201  641.50546157  599.3260573 ]\n",
      "76 \n",
      " [  18348.59885089  100269.77624878    1876.44425034    5782.80325291\n",
      "     608.37680374] \n",
      " [ 18632.  99635.   1856.   4705.   2058.] \n",
      " [ 581.54141659  630.23877002  109.54223764  660.21583113  592.45751725]\n",
      "77 \n",
      " [ 18858.55880777  99143.94075576   2019.67200668   5533.4532277\n",
      "    843.37473704] \n",
      " [ 18648.  99003.   1884.   4859.   2005.] \n",
      " [ 574.26338071  626.37190744  111.12723095  649.9868361   597.32253787]\n",
      "78 \n",
      " [ 18133.87009822  99364.47004758   1831.27328996   4601.19668221\n",
      "   2131.18841565] \n",
      " [ 18562.  98832.   1950.   4685.   2033.] \n",
      " [ 573.11213083  626.0858444   107.74181559  633.72220512  585.10496188]\n",
      "79 \n",
      " [ 18419.05620172  99222.25286711   1925.52987832   4532.93988928\n",
      "   2521.22076838] \n",
      " [ 18504.  99496.   1926.   4717.   1978.] \n",
      " [ 577.57288062  632.24390915  109.62119374  641.98216568  602.17633904]\n",
      "80 \n",
      " [ 18612.15142222  99341.80775439   2004.96560018   4506.86443842\n",
      "   2265.21055827] \n",
      " [ 18409.  99640.   1874.   4750.   2058.] \n",
      " [ 576.38452215  630.43651375  112.35621728  648.35622498  599.7837231 ]\n",
      "81 \n",
      " [  17768.69003339  100010.39999231    1757.58393971    5544.24939889\n",
      "    1597.0755194 ] \n",
      " [ 18574.  99359.   1858.   4806.   2081.] \n",
      " [ 577.23354509  631.50314897  106.16721116  651.36203257  604.52395524]\n",
      "82 \n",
      " [ 19396.13487689  99801.46249925   2015.00234195   4179.20888139\n",
      "   2225.19095347] \n",
      " [  18703.  100076.    1892.    4836.    2110.] \n",
      " [ 578.06394839  630.02775387  111.03126286  639.67460465  590.96104218]\n",
      "83 \n",
      " [ 19058.2031454   97767.52897118   1811.87978153   5598.0653518\n",
      "   1914.31994135] \n",
      " [ 18608.  98878.   1873.   4803.   1988.] \n",
      " [ 575.76119351  627.01578639  109.70207574  642.0418303   597.34808666]\n",
      "84 \n",
      " [  18463.57788802  100763.59808042    1936.25784399    3545.72235987\n",
      "    2934.8424199 ] \n",
      " [  18527.  100458.    1896.    4681.    2082.] \n",
      " [ 574.02745973  629.83463761  110.55693784  625.64361739  583.43407619]\n",
      "85 \n",
      " [ 19217.27860789  99808.98457887   1916.30968213   4629.92884603\n",
      "   1661.4975571 ] \n",
      " [ 18585.  99848.   1908.   4886.   2007.] \n",
      " [ 576.08461976  628.8641503   108.60445868  631.97306693  586.43636852]\n",
      "86 \n",
      " [ 18791.39057812  99360.95763331   1990.18478023   4646.04720064\n",
      "   1877.41887809] \n",
      " [ 18559.  99382.   1913.   4737.   2075.] \n",
      " [ 574.87637206  629.24123483  109.93864769  637.43831905  593.67115181]\n",
      "87 \n",
      " [ 18271.5569737   99863.2915246    1914.59700891   4988.24923944\n",
      "   1909.30246867] \n",
      " [ 18454.  99645.   1948.   4831.   2069.] \n",
      " [ 577.26431127  631.55499255  109.9895042   632.78176654  587.88612837]\n",
      "88 \n",
      " [ 19175.37784651  98776.75842202   1787.67662511   4203.60328307\n",
      "   2700.58308463] \n",
      " [ 18361.  99474.   1882.   4826.   2101.] \n",
      " [ 572.89295374  628.07410519  106.38290045  629.22371627  592.4888692 ]\n",
      "89 \n",
      " [ 19085.34544773  98988.87767639   2207.83608245   4441.25948574\n",
      "   1879.68021621] \n",
      " [ 18774.  99051.   1898.   4826.   2054.] \n",
      " [ 574.11161206  626.75305469  115.9496453   640.87086118  595.69858318]\n",
      "90 \n",
      " [ 18620.58282226  98504.36425594   1918.38298636   4889.77145256\n",
      "   2350.89724261] \n",
      " [ 18418.  99171.   1898.   4774.   2023.] \n",
      " [ 576.03274172  628.44504919  110.61757552  645.67230269  601.58465703]\n",
      "91 \n",
      " [ 18287.90393924  99687.29141633   1945.07019496   4902.53342196\n",
      "   1830.20025373] \n",
      " [ 18469.  99523.   1928.   4720.   2013.] \n",
      " [ 576.05303575  632.52584253  109.2431467   635.11981642  600.94827597]\n",
      "92 \n",
      " [ 19232.93837545  98713.72054473   1857.47454321   4941.5298073\n",
      "   1924.33535535] \n",
      " [ 18526.  99388.   1830.   4865.   2061.] \n",
      " [ 574.75784452  626.75844085  109.97897569  648.44389651  596.34395484]\n",
      "93 \n",
      " [  17284.47458642  100498.06827546    1996.46634776    5618.28390298\n",
      "    1023.70508145] \n",
      " [ 18610.  98898.   1970.   4821.   2122.] \n",
      " [ 576.33920088  628.97477941  112.52615396  651.1448422   595.26081403]\n",
      "94 \n",
      " [ 18859.83262833  98765.16629881   1827.68315052   4877.84219594\n",
      "   2071.47503716] \n",
      " [ 18697.  98985.   1914.   4773.   2033.] \n",
      " [ 575.84384037  627.92167185  108.4969917   643.0568425   598.13995222]\n",
      "95 \n",
      " [ 17539.89828642  99844.41583042   1816.81107123   5699.2665202\n",
      "   1508.60781242] \n",
      " [ 18560.  99044.   1901.   4835.   2069.] \n",
      " [ 578.03004732  629.45006119  107.50831269  657.69995259  604.53300578]\n",
      "96 \n",
      " [  17773.74467008  100402.93030274    1990.53207964    5576.11558402\n",
      "     888.67736559] \n",
      " [ 18486.  99295.   1960.   4756.   2135.] \n",
      " [ 575.66424721  629.73840272  110.87213495  648.80591171  597.25440668]\n",
      "97 \n",
      " [ 18062.46924429  99552.39460331   1671.21247805   6094.8210033\n",
      "   1449.10188615] \n",
      " [ 18740.  99507.   1828.   4775.   1980.] \n",
      " [ 577.37199018  629.76997733  103.61679708  652.94462973  604.0699119 ]\n",
      "98 \n",
      " [ 19095.90021382  99138.46445499   1855.56351136   4558.37020942\n",
      "   2157.69897276] \n",
      " [ 18730.  99282.   1949.   4832.   2013.] \n",
      " [ 573.96200427  627.69249266  107.89316753  636.73848951  593.70519274]\n",
      "99 \n",
      " [ 19688.01008203  98527.0592707    1907.54059911   4047.44447013\n",
      "   2389.94628655] \n",
      " [ 18475.  99195.   1909.   4874.   2107.] \n",
      " [ 573.56654942  627.91531163  109.98538183  633.09331889  593.78704623]\n"
     ]
    }
   ],
   "source": [
    "haux =  hist([], nbin,minE,maxE)\n",
    "nevslist = np.array([150000,80000,15000,40000,20000])/8.\n",
    "N_pull = 100\n",
    "pull_list = np.zeros([N_pull])\n",
    "ne_poiss = np.zeros([5])\n",
    "for i in np.arange(N_pull):\n",
    "    aux = np.random.poisson(h_Coaux.hist)\n",
    "    ne_poiss[0] = aux.sum()\n",
    "    haux.hist = aux\n",
    "    aux = np.random.poisson(h_Kaux.hist)\n",
    "    ne_poiss[1] = aux.sum()\n",
    "    haux.hist += aux\n",
    "    aux = np.random.poisson(h_Tlaux.hist)\n",
    "    ne_poiss[2] = aux.sum()\n",
    "    haux.hist += aux\n",
    "    aux = np.random.poisson(h_Biaux.hist)\n",
    "    ne_poiss[3] = aux.sum()\n",
    "    haux.hist += aux\n",
    "    aux = np.random.poisson(h_bb2naux.hist)\n",
    "    ne_poiss[4] = aux.sum()\n",
    "    haux.hist += aux\n",
    "\n",
    "    fit = Fit(E,haux,pdflis)\n",
    "    res = fit.FitLLM(ne)\n",
    "    print(i,\"\\n\",res.x,\"\\n\",ne_poiss,\"\\n\",res.err)"
   ]
  },
  {
   "cell_type": "code",
   "execution_count": 50,
   "metadata": {
    "collapsed": false,
    "nbpresent": {
     "id": "ea2710f6-33f6-4c44-8dbf-556a8becebb6"
    }
   },
   "outputs": [
    {
     "data": {
      "text/plain": [
       "(array([ 1.,  0.,  0.,  0.,  0.,  0.,  0.,  0.,  0.,  0.,  0.,  0.,  0.,\n",
       "         0.,  0.,  0.,  0.,  0.,  0.,  0.,  0.,  0.,  0.,  0.,  0.,  0.,\n",
       "         0.,  0.,  0.,  0.,  0.,  0.,  0.,  0.,  0.,  0.,  0.,  0.,  0.,\n",
       "         0.,  0.,  0.,  0.,  0.,  0.,  0.,  0.,  0.,  0.,  0.,  0.,  0.,\n",
       "         0.,  0.,  0.,  0.,  0.,  0.,  0.,  0.,  0.,  0.,  0.,  0.,  0.,\n",
       "         0.,  0.,  0.,  0.,  0.,  0.,  0.,  0.,  0.,  0.,  0.,  0.,  0.,\n",
       "         0.,  0.,  0.,  0.,  0.,  0.,  0.,  0.,  0.,  0.,  0.,  0.,  0.,\n",
       "         0.,  0.,  0.,  0.,  0.,  0.,  0.,  0.,  0.,  0.,  0.,  0.,  0.,\n",
       "         0.,  0.,  0.,  0.,  0.,  0.,  0.,  0.,  0.,  0.,  0.,  0.,  0.,\n",
       "         0.,  0.,  0.,  0.,  0.,  0.,  0.,  0.,  0.,  0.,  0.,  0.,  0.,\n",
       "         0.,  0.,  0.,  0.,  0.,  0.,  0.,  0.,  0.,  0.,  0.,  0.,  0.,\n",
       "         0.,  0.,  0.,  0.,  0.,  0.,  0.,  0.,  0.,  0.,  0.,  0.,  0.,\n",
       "         0.,  0.,  0.,  0.,  0.,  0.,  0.,  0.,  0.,  0.,  0.,  0.,  0.,\n",
       "         0.,  0.,  0.,  0.,  0.,  0.,  0.,  0.,  0.,  0.,  0.,  0.,  0.,\n",
       "         0.,  0.,  0.,  0.,  0.,  0.,  0.,  0.,  0.,  0.,  0.,  0.,  0.,\n",
       "         0.,  0.,  0.,  0.,  0.,  0.,  0.,  0.,  0.,  0.,  0.,  0.,  0.,\n",
       "         0.,  0.,  0.,  0.,  0.,  0.,  0.,  0.,  0.,  0.,  0.,  0.,  0.,\n",
       "         0.,  0.,  0.,  0.,  0.,  0.,  0.,  0.,  0.,  0.,  0.,  0.,  0.,\n",
       "         0.,  0.,  0.,  0.,  0.,  0.,  0.,  0.,  0.,  0.,  0.,  0.,  0.,\n",
       "         0.,  0.,  0.,  0.,  0.,  0.,  0.,  0.,  0.,  0.,  0.,  0.,  0.,\n",
       "         0.,  0.,  0.,  0.,  0.,  0.,  0.,  0.,  0.,  0.,  0.,  0.,  0.,\n",
       "         0.,  0.,  0.,  0.,  0.,  0.,  0.,  0.,  0.,  0.,  0.,  0.,  0.,\n",
       "         0.,  0.,  0.,  0.,  0.,  0.,  0.,  0.,  0.,  0.,  0.,  0.,  0.,\n",
       "         0.,  0.,  0.,  0.,  0.,  0.,  0.,  0.,  0.,  0.,  0.,  0.,  0.,\n",
       "         0.,  0.,  0.,  0.,  0.,  0.,  0.,  0.,  0.,  0.,  0.,  0.,  0.,\n",
       "         0.,  0.,  0.,  0.,  0.,  0.,  0.,  0.,  0.,  0.,  0.,  0.,  0.,\n",
       "         0.,  0.,  0.,  0.,  0.,  0.,  0.,  0.,  0.,  0.,  0.,  0.,  0.,\n",
       "         0.,  0.,  0.,  0.,  0.,  0.,  0.,  0.,  0.,  0.,  0.,  0.,  0.,\n",
       "         0.,  0.,  0.,  0.,  0.,  0.,  0.,  0.,  0.,  0.,  0.,  0.,  0.,\n",
       "         0.,  0.,  0.,  0.,  0.,  0.,  0.,  0.,  0.,  0.,  0.,  0.,  0.,\n",
       "         0.,  0.,  0.,  0.,  0.,  0.,  0.,  0.,  0.,  0.,  0.,  0.,  0.,\n",
       "         0.,  0.,  0.,  0.,  0.,  0.,  0.,  0.,  0.,  0.,  0.,  0.,  0.,\n",
       "         0.,  0.,  0.,  0.,  0.,  0.,  0.,  0.,  0.,  0.,  0.,  0.,  0.,\n",
       "         0.,  0.,  0.,  0.,  0.,  0.,  0.,  0.,  0.,  0.,  0.,  0.,  0.,\n",
       "         0.,  0.,  0.,  0.,  0.,  0.,  0.,  0.,  0.,  0.,  0.,  0.,  0.,\n",
       "         0.,  0.,  0.,  0.,  0.,  0.,  0.,  0.,  0.,  0.,  0.,  0.,  0.,\n",
       "         0.,  0.,  0.,  0.,  0.,  0.,  0.,  0.,  0.,  0.,  0.,  0.,  0.,\n",
       "         0.,  0.,  0.,  0.,  0.,  0.,  0.,  0.,  0.,  0.,  0.,  0.,  0.,\n",
       "         0.,  0.,  0.,  0.,  0.,  0.,  0.,  0.,  0.,  0.,  0.,  0.,  0.,\n",
       "         0.,  0.,  0.,  0.,  0.,  0.,  0.,  0.,  0.,  0.,  0.,  0.,  0.,\n",
       "         0.,  0.,  0.,  0.,  0.,  0.,  0.,  0.,  0.,  0.,  0.,  0.,  0.,\n",
       "         0.,  0.,  0.,  0.,  0.,  0.,  0.,  0.,  0.,  0.,  0.,  0.,  0.,\n",
       "         0.,  0.,  0.,  0.,  0.,  0.,  0.,  0.,  0.,  0.,  0.,  0.,  0.,\n",
       "         0.,  0.,  0.,  0.,  0.,  0.,  0.,  0.,  0.,  0.,  0.,  0.,  0.,\n",
       "         0.,  0.,  0.,  0.,  0.,  0.,  0.,  0.,  0.,  0.,  0.,  0.,  0.,\n",
       "         0.,  0.,  0.,  0.,  0.,  0.,  0.,  0.,  0.,  0.,  0.,  0.,  0.,\n",
       "         0.,  0.,  0.,  0.,  0.,  0.,  0.,  0.,  0.,  0.,  0.,  0.,  0.,\n",
       "         0.,  0.,  0.,  0.,  0.,  0.,  0.,  0.,  0.,  0.,  0.,  0.,  0.,\n",
       "         0.,  0.,  0.,  0.,  0.,  0.,  0.,  0.,  0.,  0.,  0.,  0.,  0.,\n",
       "         0.,  0.,  0.,  0.,  0.,  0.,  0.,  0.,  0.,  0.,  0.,  0.,  0.,\n",
       "         0.,  0.,  0.,  0.,  0.,  0.,  0.,  0.,  0.,  0.,  0.,  0.,  0.,\n",
       "         0.,  0.,  0.,  0.,  0.,  0.,  0.,  0.,  0.,  0.,  0.,  0.,  0.,\n",
       "         0.,  0.,  0.,  0.,  0.,  0.,  0.,  0.,  0.,  0.,  0.,  0.,  0.,\n",
       "         0.,  0.,  0.,  0.,  0.,  0.,  0.,  0.,  0.,  0.,  0.,  0.,  0.,\n",
       "         0.,  0.,  0.,  0.,  0.,  0.,  0.,  0.,  0.,  0.,  0.,  0.,  0.,\n",
       "         0.,  0.,  0.,  0.,  0.,  0.,  0.,  0.,  0.,  0.,  0.,  0.,  0.,\n",
       "         0.,  0.,  0.,  0.,  0.,  0.,  0.,  0.,  0.,  0.,  0.,  0.,  0.,\n",
       "         0.,  0.,  0.,  0.,  0.,  0.,  0.,  0.,  0.,  0.,  0.,  0.,  0.,\n",
       "         0.,  0.,  0.,  0.,  0.,  0.,  0.,  0.,  0.,  0.,  0.,  0.,  0.,\n",
       "         0.,  0.,  0.,  0.,  0.,  0.,  0.,  0.,  0.,  0.,  0.,  0.,  0.,\n",
       "         0.,  0.,  0.,  0.,  0.,  0.,  0.,  0.,  0.,  0.,  0.,  0.,  0.,\n",
       "         0.,  0.,  0.,  0.,  0.,  0.,  0.,  0.,  0.,  0.,  0.,  0.,  0.,\n",
       "         0.,  0.,  0.,  0.,  0.,  0.,  0.,  0.,  0.,  0.,  0.,  0.,  0.,\n",
       "         0.,  0.,  0.,  0.,  0.,  0.,  0.,  0.,  0.,  0.,  0.,  0.,  0.,\n",
       "         0.,  0.,  0.,  0.,  0.,  0.,  0.,  0.,  0.,  0.,  0.,  0.,  0.,\n",
       "         0.,  0.,  0.,  0.,  0.,  0.,  0.,  0.,  0.,  0.,  0.,  0.,  0.,\n",
       "         0.,  0.,  0.,  0.,  0.,  0.,  0.,  0.,  0.,  0.,  0.,  0.,  0.,\n",
       "         0.,  0.,  0.,  0.,  0.,  0.,  0.,  0.,  0.,  0.,  0.,  0.,  0.,\n",
       "         0.,  0.,  0.,  0.,  0.,  0.,  0.,  0.,  0.,  0.,  0.,  0.,  0.,\n",
       "         0.,  0.,  0.,  0.,  0.,  0.,  0.,  0.,  0.,  0.,  0.,  0.,  0.,\n",
       "         0.,  0.,  0.,  0.,  0.,  0.,  0.,  0.,  0.,  0.,  0.,  0.,  0.,\n",
       "         0.,  0.,  0.,  0.,  0.,  0.,  0.,  0.,  0.,  0.,  0.,  0.,  0.,\n",
       "         0.,  0.,  0.,  0.,  1.,  2.,  1.,  2.,  1.,  0.,  1.,  1.,  0.,\n",
       "         1.,  0.,  2.,  3.,  1.,  2.,  4.,  3.,  3.,  1.,  1.,  3.,  4.,\n",
       "         4.,  5.,  3.,  4.,  5.,  4.,  2.,  3.,  3.,  1.,  4.,  1.,  0.,\n",
       "         3.,  1.,  3.,  3.,  0.,  0.,  1.,  1.,  3.,  2.,  0.,  0.,  1.,\n",
       "         0.,  1.,  1.,  1.,  1.,  0.,  0.,  0.,  0.,  0.,  0.,  1.]),\n",
       " array([-75.34975622, -75.27184428, -75.19393235, ...,   2.40635512,\n",
       "          2.48426705,   2.56217899]),\n",
       " <a list of 1000 Patch objects>)"
      ]
     },
     "execution_count": 50,
     "metadata": {},
     "output_type": "execute_result"
    },
    {
     "data": {
      "image/png": "[encoded data removed]",
      "text/plain": [
       "<matplotlib.figure.Figure at 0x7fce434e8780>"
      ]
     },
     "metadata": {},
     "output_type": "display_data"
    }
   ],
   "source": [
    "plt.hist(pull_list[:,4],bins = 1000)"
   ]
  },
  {
   "cell_type": "code",
   "execution_count": 48,
   "metadata": {
    "collapsed": false,
    "nbpresent": {
     "id": "f018bbae-9b63-4e46-9d50-06c64aa42e26"
    }
   },
   "outputs": [
    {
     "data": {
      "text/plain": [
       "-0.86691857044792353"
      ]
     },
     "execution_count": 48,
     "metadata": {},
     "output_type": "execute_result"
    }
   ],
   "source": [
    "np.mean(pull_list[:,4])"
   ]
  },
  {
   "cell_type": "code",
   "execution_count": 116,
   "metadata": {
    "collapsed": false,
    "nbpresent": {
     "id": "8e5dae7f-6a27-4883-be89-e3e13c16b29c"
    }
   },
   "outputs": [
    {
     "name": "stdout",
     "output_type": "stream",
     "text": [
      "[ 0.  0.  0.  0.  0.]\n"
     ]
    }
   ],
   "source": [
    "print(ne_poiss)"
   ]
  },
  {
   "cell_type": "code",
   "execution_count": 30,
   "metadata": {
    "collapsed": false,
    "nbpresent": {
     "id": "8e3b0213-e2cc-4468-9c38-c3b35f7e39a9"
    }
   },
   "outputs": [
    {
     "data": {
      "text/plain": [
       "array([ 0.7745864 ,  0.16113402, -1.26400546,  0.62567355,  0.82198558,\n",
       "        0.12768594, -2.26215798,  0.90540747, -0.17587497,  0.32103691,\n",
       "        0.27305863, -0.18377074,  1.15098343,  0.38271187, -1.78523931,\n",
       "       -0.77421255, -0.84876089,  0.07665809,  1.43761751,  1.07145009,\n",
       "        0.14012544, -0.42914055,  0.27045366,  1.27402826,  0.47026773,\n",
       "        0.2411996 ,  0.85228809, -0.20766696,  0.04607264,  0.08207128,\n",
       "        2.20028887,  0.67213155,  2.29087097, -0.51628877,  1.59079347,\n",
       "        0.15899259,  0.05959463, -0.03899149,  0.74056403, -0.28999704,\n",
       "       -0.98897814,  0.51998174,  1.01365508,  0.58263626,  1.29851988,\n",
       "        0.28112019, -0.447634  ,  0.26676989, -0.63212137,  1.40190262,\n",
       "       -0.71428155, -1.01359082,  1.75336855,  0.55753255,  0.40650953,\n",
       "       -1.57411584, -1.21024924, -0.7392018 ,  0.35500622, -1.21753132,\n",
       "        0.65550086,  1.47972578, -0.77480968,  0.44594448,  0.58087772,\n",
       "       -0.70937425, -1.96490591,  1.12179841,  0.36284198, -1.32524434,\n",
       "        0.5146836 ,  0.4587124 ,  1.24043771, -1.5937989 , -1.25953501,\n",
       "        3.0462231 ,  1.91434836,  1.67318907, -0.45588487,  1.22203263,\n",
       "       -0.33848853, -0.07105416,  1.28718904, -0.59388012,  0.84710153,\n",
       "        0.14696371,  0.71739291,  0.77779062,  0.32633077, -0.93314759,\n",
       "        0.64610851,  0.10839303, -0.60291092, -1.54609764, -1.35646868,\n",
       "       -0.49560343, -0.74224505,  1.65412135, -0.04425212, -0.64709333])"
      ]
     },
     "execution_count": 30,
     "metadata": {},
     "output_type": "execute_result"
    }
   ],
   "source": [
    "pull_list[:,0]"
   ]
  },
  {
   "cell_type": "markdown",
   "metadata": {
    "nbpresent": {
     "id": "af4266ed-e511-46ea-a903-3e96a0102a0c"
    }
   },
   "source": [
    "# Plot"
   ]
  },
  {
   "cell_type": "code",
   "execution_count": null,
   "metadata": {
    "collapsed": true,
    "nbpresent": {
     "id": "bdc42851-7f99-421b-9a3c-d69ba58d86f9"
    }
   },
   "outputs": [],
   "source": [
    "result = np.array([18395.02975447, 10041.5398816, 1992.53178756, 4839.01641257, 1384.7787113])"
   ]
  },
  {
   "cell_type": "code",
   "execution_count": null,
   "metadata": {
    "collapsed": true,
    "nbpresent": {
     "id": "21ae10b7-e21b-4fb3-bd97-8fa7e731e881"
    }
   },
   "outputs": [],
   "source": [
    "interpol = 'nearest'\n",
    "pdf_CoP = PDF(h_Co,factor=result[0],interpolation=interpol)\n",
    "pdf_KP = PDF(h_K,factor=result[1],interpolation=interpol)\n",
    "pdf_TlP = PDF(h_Tl,factor=result[2],interpolation=interpol)\n",
    "pdf_BiP = PDF(h_Bi,factor=result[3],interpolation=interpol)\n",
    "pdf_bb2nP = PDF(h_bb2n,factor=result[4],interpolation=interpol)\n",
    "\n"
   ]
  },
  {
   "cell_type": "code",
   "execution_count": null,
   "metadata": {
    "collapsed": false,
    "nbpresent": {
     "id": "8d6bf69d-e20a-4e87-9ae3-ed2e63d8a361"
    }
   },
   "outputs": [],
   "source": [
    "Ep = np.linspace(0.6,2.8,1000)\n",
    "aux =(E>0.6)&(E<2.8)\n",
    "Ea = E[aux]\n",
    "totala = total[aux]\n",
    "testnna = testnn[aux]\n",
    "y_CoP = pdf_CoP.pdf(Ep)\n",
    "y_KP = pdf_KP.pdf(Ep)\n",
    "y_TlP = pdf_TlP.pdf(Ep)\n",
    "y_BiP = pdf_BiP.pdf(Ep)\n",
    "y_bb2nP = pdf_bb2nP.pdf(Ep)\n",
    "fittotal = y_CoP+y_KP+y_TlP+y_BiP+y_bb2nP\n",
    "y_CoP[0]=0.00001\n",
    "y_CoP[-1]=0.00001\n",
    "y_KP[0]=0.00001\n",
    "y_KP[-1]=0.00001\n",
    "y_BiP[0]=0.00001\n",
    "y_BiP[-1]=0.00001\n",
    "y_TlP[0]=0.00001\n",
    "y_TlP[-1]=0.00001\n"
   ]
  },
  {
   "cell_type": "code",
   "execution_count": null,
   "metadata": {
    "collapsed": false,
    "nbpresent": {
     "id": "853381a7-934b-45cc-a8d4-3dfd11ba6430"
    }
   },
   "outputs": [],
   "source": [
    "alfa= 0.2\n",
    "plt.semilogy()\n",
    "plt.ylim(0.5,3e3)\n",
    "plt.errorbar(Ea,totala,yerr=np.sqrt(totala),marker='.',elinewidth=1,\n",
    "             linewidth=0,label='data',color='black')\n",
    "plt.errorbar(Ea,testnna,yerr=np.sqrt(testnna),marker='.',elinewidth=1,\n",
    "             linewidth=0,label='bb2n_data',color='m')\n",
    "plt.plot(Ep,fittotal,label='fit')\n",
    "plt.plot(Ep,y_bb2nP,label='bb2n_fit')\n",
    "plt.fill_between(Ep,0,y_CoP,label='Co_fit',alpha=alfa,color='r')\n",
    "plt.fill_between(Ep,0,y_KP,label='K_fit',alpha=alfa,color='g')\n",
    "plt.fill_between(Ep,0,y_TlP,label='Tl_fit',alpha=alfa,color='y')\n",
    "plt.fill_between(Ep,0,y_BiP,label='Bi_fit',alpha=alfa,color='b')\n",
    "#plt.plot(E)\n",
    "plt.gcf().set_size_inches(12,9)\n",
    "plt.legend().get_frame().set_facecolor('0.95')\n",
    "plt.xlabel('Energy (MeV)',fontsize=16)\n",
    "plt.ylabel('Entries',fontsize=18)\n",
    "plt.savefig('fitspectrum.pdf')"
   ]
  },
  {
   "cell_type": "code",
   "execution_count": null,
   "metadata": {
    "collapsed": false
   },
   "outputs": [],
   "source": [
    "alfa= 0.2\n",
    "plt.semilogy()\n",
    "plt.ylim(0.5,3e3)\n",
    "plt.errorbar(Ea,totala,yerr=np.sqrt(totala),marker='.',elinewidth=1,\n",
    "             linewidth=0,label='data',color='black')\n",
    "plt.errorbar(Ea,testnna,yerr=np.sqrt(testnna),marker='.',elinewidth=1,\n",
    "             linewidth=0,label='bb2n_data',color='m')\n",
    "plt.plot(Ep,fittotal,label='fit')\n",
    "plt.plot(Ep,y_bb2nP,label='bb2n_fit')\n",
    "plt.fill_between(Ep,0,y_CoP,label='Co_fit',alpha=alfa,color='r')\n",
    "plt.fill_between(Ep,0,y_KP,label='K_fit',alpha=alfa,color='g')\n",
    "plt.fill_between(Ep,0,y_TlP,label='Tl_fit',alpha=alfa,color='y')\n",
    "plt.fill_between(Ep,0,y_BiP,label='Bi_fit',alpha=alfa,color='b')\n",
    "#plt.plot(E)\n",
    "\n",
    "plt.gcf().set_size_inches(12,9)\n",
    "plt.legend().get_frame().set_facecolor('0.95')\n",
    "plt.xlabel('Energy (MeV)',fontsize=16)\n",
    "plt.ylabel('Entries',fontsize=18)\n",
    "plt.savefig('fitspectrum.pdf')"
   ]
  },
  {
   "cell_type": "code",
   "execution_count": null,
   "metadata": {
    "collapsed": false,
    "nbpresent": {
     "id": "53845d1a-49e6-42d1-bc15-6d33657a35d8"
    }
   },
   "outputs": [],
   "source": [
    "alfa= 0.2\n",
    "#plt.semilogy()\n",
    "plt.ylim(0.5,3e3)\n",
    "plt.errorbar(Ea,totala,yerr=np.sqrt(totala),marker='.',elinewidth=1,\n",
    "             linewidth=0,label='data',color='black')\n",
    "plt.errorbar(Ea,testnna,yerr=np.sqrt(testnna),marker='.',elinewidth=1,\n",
    "             linewidth=0,label='bb2n_data',color='m')\n",
    "plt.plot(Ep,fittotal,label='fit')\n",
    "plt.plot(Ep,y_bb2nP,label='bb2n_fit')\n",
    "plt.fill_between(Ep,0,y_CoP,label='Co_fit',alpha=alfa,color='r')\n",
    "plt.fill_between(Ep,0,y_KP,label='K_fit',alpha=alfa,color='g')\n",
    "plt.fill_between(Ep,0,y_TlP,label='Tl_fit',alpha=alfa,color='y')\n",
    "plt.fill_between(Ep,0,y_BiP,label='Bi_fit',alpha=alfa,color='b')\n",
    "#plt.plot(E)\n",
    "plt.gcf().set_size_inches(12,9)\n",
    "plt.legend().get_frame().set_facecolor('0.95')\n",
    "plt.xlabel('Energy (MeV)',fontsize=16)\n",
    "plt.ylabel('Entries',fontsize=18)\n",
    "plt.savefig('fitspectrum.pdf')"
   ]
  },
  {
   "cell_type": "code",
   "execution_count": null,
   "metadata": {
    "collapsed": false,
    "nbpresent": {
     "id": "b48200ef-f4e4-474c-a337-08151eaf4a56"
    }
   },
   "outputs": [],
   "source": [
    "total.sum()"
   ]
  },
  {
   "cell_type": "code",
   "execution_count": null,
   "metadata": {
    "collapsed": false,
    "nbpresent": {
     "id": "ad5398ea-34f4-4b55-ae1f-697e5544c051"
    }
   },
   "outputs": [],
   "source": [
    "result.sum()"
   ]
  },
  {
   "cell_type": "code",
   "execution_count": null,
   "metadata": {
    "collapsed": true,
    "nbpresent": {
     "id": "7860921b-3450-4757-8341-9e65277e578e"
    }
   },
   "outputs": [],
   "source": []
  }
 ],
 "metadata": {
  "anaconda-cloud": {},
  "kernelspec": {
   "display_name": "Python [conda root]",
   "language": "python",
   "name": "conda-root-py"
  },
  "language_info": {
   "codemirror_mode": {
    "name": "ipython",
    "version": 3
   },
   "file_extension": ".py",
   "mimetype": "text/x-python",
   "name": "python",
   "nbconvert_exporter": "python",
   "pygments_lexer": "ipython3",
   "version": "3.5.2"
  }
 },
 "nbformat": 4,
 "nbformat_minor": 1
}
