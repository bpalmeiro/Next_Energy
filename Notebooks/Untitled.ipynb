{
 "cells": [
  {
   "cell_type": "code",
   "execution_count": 1,
   "metadata": {
    "collapsed": false
   },
   "outputs": [],
   "source": [
    "import matplotlib.pylab as plt\n",
    "%matplotlib inline\n",
    "%load_ext autoreload\n",
    "%autoreload 2"
   ]
  },
  {
   "cell_type": "code",
   "execution_count": 2,
   "metadata": {
    "collapsed": true
   },
   "outputs": [],
   "source": [
    "import Estimation as st\n",
    "import tables as tb\n",
    "from Histogram import Histogram as hist\n",
    "from PDF import PDF\n",
    "from Utils import IsotopeDic, PartDic\n",
    "from scipy.stats import poisson\n",
    "import scipy.optimize as sop\n",
    "import numpy as np\n",
    "from scipy.special import gamma\n",
    "#from Fits import Fit"
   ]
  },
  {
   "cell_type": "code",
   "execution_count": 167,
   "metadata": {
    "collapsed": false
   },
   "outputs": [],
   "source": [
    "# %load ../Code/Fits.py\n",
    "import Estimation as st\n",
    "from Histogram import Histogram as hist\n",
    "from PDF import PDF\n",
    "from Utils import IsotopeDic, PartDic\n",
    "from scipy.stats import poisson\n",
    "import scipy.optimize as sop\n",
    "import numpy as np\n",
    "from scipy.special import gamma\n",
    "from copy import copy\n",
    "\n",
    "def generalLogPoisson(x,mu):\n",
    "    return -mu+x*np.log(mu+0.001)-(x+1)*np.log((x+1))+(x+1)\n",
    "\n",
    "\n",
    "class Fit():\n",
    "    '''\n",
    "    Class meant to perform the fit\n",
    "    '''\n",
    "    def __init__(self, E, spectrum, PDFs):\n",
    "        '''\n",
    "        E: x range (np array)\n",
    "        spectrum: experimental points\n",
    "        PDF: list of spectra PDFs\n",
    "        nevs: normalizations for the spectra (they are the\n",
    "            initial values for the fit)\n",
    "        '''\n",
    "        self.E = E[:]\n",
    "        self.Ep = np.linspace(0.5,2.8,1000)\n",
    "        self.spectrum = spectrum.hist[:]\n",
    "        for i in PDFs:\n",
    "            print(i.Int)\n",
    "        self.PDFs = copy(PDFs)#[pdf.Scale(1./pdf.Int) for pdf in PDFs]\n",
    "        for i in PDFs:\n",
    "            print(i.Int)\n",
    "\n",
    "    def LogLikelihood(self, nevs):\n",
    "        '''\n",
    "        function meant to compute the LogLikelihood\n",
    "        '''\n",
    "        #print(self.PDFs,nevs)\n",
    "        for i in nevs:\n",
    "            if i<0.: return 1e12\n",
    "        ypdf = np.array([sum([n*pdfi.pdf(Ei) for pdfi,n in zip(self.PDFs,nevs)]) for Ei in self.E])\n",
    "        ydat = self.spectrum\n",
    "        #print(type(ydat))\n",
    "        #print(type(ypdf))\n",
    "        lm = (np.array(generalLogPoisson(ydat,ypdf))).sum()\n",
    "\n",
    "\n",
    "        return -lm\n",
    "\n",
    "    def FitLLM(self,nevs, **kwargs):\n",
    "        nevs = np.array(nevs)\n",
    "        fit = self.LogLikelihood\n",
    "        res = sop.minimize(fit,nevs,method='Nelder-Mead',**kwargs)\n",
    "        ypdf = np.array([sum([n*pdfi.pdf(Ei) for pdfi,n in zip(self.PDFs,res.x)]) for Ei in self.Ep])\n",
    "        \n",
    "        ydat = self.spectrum\n",
    "        \n",
    "        plt.plot(self.Ep,ypdf)\n",
    "        plt.plot(self.E,ydat,'+')\n",
    "        plt.semilogy()\n",
    "        plt.ylim([1e-1,3e3])\n",
    "        chi2 = -1\n",
    "        if (res.success):\n",
    "            chi2 = np.sum((ypdf-ydat)**2)/(1.*(len(ypdf)-len(nevs)))\n",
    "        res.chi2 = chi2\n",
    "        return res\n"
   ]
  },
  {
   "cell_type": "code",
   "execution_count": 4,
   "metadata": {
    "collapsed": false
   },
   "outputs": [],
   "source": [
    "f = tb.open_file(\"../Data/data_spectrum.h5\", \"r\")"
   ]
  },
  {
   "cell_type": "code",
   "execution_count": 5,
   "metadata": {
    "collapsed": false
   },
   "outputs": [
    {
     "data": {
      "text/plain": [
       "File(filename=../Data/data_spectrum.h5, title='', mode='r', root_uep='/', filters=Filters(complevel=0, shuffle=False, fletcher32=False, least_significant_digit=None))\n",
       "/ (RootGroup) ''\n",
       "/Bi (Array(125,)) ''\n",
       "  atom := Float64Atom(shape=(), dflt=0.0)\n",
       "  maindim := 0\n",
       "  flavor := 'numpy'\n",
       "  byteorder := 'little'\n",
       "  chunkshape := None\n",
       "/Co (Array(125,)) ''\n",
       "  atom := Float64Atom(shape=(), dflt=0.0)\n",
       "  maindim := 0\n",
       "  flavor := 'numpy'\n",
       "  byteorder := 'little'\n",
       "  chunkshape := None\n",
       "/E (Array(125,)) ''\n",
       "  atom := Float64Atom(shape=(), dflt=0.0)\n",
       "  maindim := 0\n",
       "  flavor := 'numpy'\n",
       "  byteorder := 'little'\n",
       "  chunkshape := None\n",
       "/K (Array(125,)) ''\n",
       "  atom := Float64Atom(shape=(), dflt=0.0)\n",
       "  maindim := 0\n",
       "  flavor := 'numpy'\n",
       "  byteorder := 'little'\n",
       "  chunkshape := None\n",
       "/Tl (Array(125,)) ''\n",
       "  atom := Float64Atom(shape=(), dflt=0.0)\n",
       "  maindim := 0\n",
       "  flavor := 'numpy'\n",
       "  byteorder := 'little'\n",
       "  chunkshape := None\n",
       "/bb2n (Array(125,)) ''\n",
       "  atom := Float64Atom(shape=(), dflt=0.0)\n",
       "  maindim := 0\n",
       "  flavor := 'numpy'\n",
       "  byteorder := 'little'\n",
       "  chunkshape := None\n",
       "/testnn (Array(125,)) ''\n",
       "  atom := Float64Atom(shape=(), dflt=0.0)\n",
       "  maindim := 0\n",
       "  flavor := 'numpy'\n",
       "  byteorder := 'little'\n",
       "  chunkshape := None\n",
       "/total (Array(125,)) ''\n",
       "  atom := Float64Atom(shape=(), dflt=0.0)\n",
       "  maindim := 0\n",
       "  flavor := 'numpy'\n",
       "  byteorder := 'little'\n",
       "  chunkshape := None"
      ]
     },
     "execution_count": 5,
     "metadata": {},
     "output_type": "execute_result"
    }
   ],
   "source": [
    "f"
   ]
  },
  {
   "cell_type": "code",
   "execution_count": 177,
   "metadata": {
    "collapsed": true
   },
   "outputs": [],
   "source": [
    "minE,maxE,nbin = 0.6,3.,125\n",
    "E = f.root.E[:]\n",
    "Co = f.root.Co[:]\n",
    "K = f.root.K[:]\n",
    "Tl = f.root.Tl[:]\n",
    "Bi = f.root.Bi[:]\n",
    "bb2n = f.root.bb2n[:]\n",
    "testnn = f.root.testnn[:]\n",
    "total = f.root.total[:]"
   ]
  },
  {
   "cell_type": "code",
   "execution_count": 178,
   "metadata": {
    "collapsed": false
   },
   "outputs": [],
   "source": [
    "h_Co = hist([],nbin,minE,maxE)\n",
    "h_Co.hist = Co\n",
    "h_Co.bins = E\n",
    "h_K = hist([], nbin,minE,maxE)\n",
    "h_K.hist = K\n",
    "h_K.bins = E\n",
    "h_Tl = hist([],nbin,minE,maxE)\n",
    "h_Tl.hist = Tl\n",
    "h_Tl.bins = E\n",
    "h_Bi = hist([],nbin,minE,maxE)\n",
    "h_Bi.hist = Bi\n",
    "h_Bi.bins = E\n",
    "h_bb2n = hist([],nbin,minE,maxE)\n",
    "h_bb2n.hist = bb2n\n",
    "h_bb2n.bins = E\n",
    "h_testnn = hist(testnn,nbin,minE,maxE)\n",
    "h_testnn.hist = testnn\n",
    "h_testnn.bins = E\n",
    "h_total = hist(total,nbin,minE,maxE)\n",
    "h_total.hist = total\n",
    "h_total.bins = E"
   ]
  },
  {
   "cell_type": "code",
   "execution_count": 179,
   "metadata": {
    "collapsed": false
   },
   "outputs": [],
   "source": [
    "pdf_Co = PDF(h_Co,interpolation='cubic')\n",
    "pdf_K = PDF(h_K,interpolation='cubic')\n",
    "pdf_Tl = PDF(h_Tl,interpolation='cubic')\n",
    "pdf_Bi = PDF(h_Bi,interpolation='cubic')\n",
    "pdf_bb2n = PDF(h_bb2n,interpolation='cubic')\n",
    "pdf_testnn = PDF(h_testnn,interpolation='cubic')\n",
    "pdf_total = PDF(h_total,interpolation='cubic')"
   ]
  },
  {
   "cell_type": "code",
   "execution_count": 180,
   "metadata": {
    "collapsed": false
   },
   "outputs": [],
   "source": [
    "pdflis = [pdf_Co,pdf_K,pdf_Tl,pdf_Bi,pdf_bb2n]\n",
    "nevslist = [150000,80000,1500,4000,2000]"
   ]
  },
  {
   "cell_type": "code",
   "execution_count": 181,
   "metadata": {
    "collapsed": false
   },
   "outputs": [
    {
     "name": "stdout",
     "output_type": "stream",
     "text": [
      "0.024\n",
      "0.024\n",
      "0.024\n",
      "0.024\n",
      "0.024\n",
      "0.024\n",
      "0.024\n",
      "0.024\n",
      "0.024\n",
      "0.024\n"
     ]
    }
   ],
   "source": [
    "fit = Fit(E,h_total,pdflis)"
   ]
  },
  {
   "cell_type": "code",
   "execution_count": 182,
   "metadata": {
    "collapsed": false,
    "scrolled": false
   },
   "outputs": [
    {
     "ename": "ValueError",
     "evalue": "operands could not be broadcast together with shapes (1000,) (125,) ",
     "output_type": "error",
     "traceback": [
      "\u001b[0;31m---------------------------------------------------------------------------\u001b[0m",
      "\u001b[0;31mValueError\u001b[0m                                Traceback (most recent call last)",
      "\u001b[0;32m<ipython-input-182-ef560d6a4ce1>\u001b[0m in \u001b[0;36m<module>\u001b[0;34m()\u001b[0m\n\u001b[0;32m----> 1\u001b[0;31m \u001b[0mfit\u001b[0m\u001b[0;34m.\u001b[0m\u001b[0mFitLLM\u001b[0m\u001b[0;34m(\u001b[0m\u001b[0mnevslist\u001b[0m\u001b[0;34m,\u001b[0m\u001b[0mtol\u001b[0m\u001b[0;34m=\u001b[0m\u001b[0;36m1e-8\u001b[0m\u001b[0;34m,\u001b[0m\u001b[0moptions\u001b[0m\u001b[0;34m=\u001b[0m\u001b[0;34m{\u001b[0m\u001b[0;34m\"maxiter\"\u001b[0m\u001b[0;34m:\u001b[0m\u001b[0;36m1000\u001b[0m\u001b[0;34m}\u001b[0m\u001b[0;34m)\u001b[0m\u001b[0;34m\u001b[0m\u001b[0m\n\u001b[0m",
      "\u001b[0;32m<ipython-input-167-d163b9f0f628>\u001b[0m in \u001b[0;36mFitLLM\u001b[0;34m(self, nevs, **kwargs)\u001b[0m\n\u001b[1;32m     65\u001b[0m         \u001b[0mchi2\u001b[0m \u001b[0;34m=\u001b[0m \u001b[0;34m-\u001b[0m\u001b[0;36m1\u001b[0m\u001b[0;34m\u001b[0m\u001b[0m\n\u001b[1;32m     66\u001b[0m         \u001b[0;32mif\u001b[0m \u001b[0;34m(\u001b[0m\u001b[0mres\u001b[0m\u001b[0;34m.\u001b[0m\u001b[0msuccess\u001b[0m\u001b[0;34m)\u001b[0m\u001b[0;34m:\u001b[0m\u001b[0;34m\u001b[0m\u001b[0m\n\u001b[0;32m---> 67\u001b[0;31m             \u001b[0mchi2\u001b[0m \u001b[0;34m=\u001b[0m \u001b[0mnp\u001b[0m\u001b[0;34m.\u001b[0m\u001b[0msum\u001b[0m\u001b[0;34m(\u001b[0m\u001b[0;34m(\u001b[0m\u001b[0mypdf\u001b[0m\u001b[0;34m-\u001b[0m\u001b[0mydat\u001b[0m\u001b[0;34m)\u001b[0m\u001b[0;34m**\u001b[0m\u001b[0;36m2\u001b[0m\u001b[0;34m)\u001b[0m\u001b[0;34m/\u001b[0m\u001b[0;34m(\u001b[0m\u001b[0;36m1.\u001b[0m\u001b[0;34m*\u001b[0m\u001b[0;34m(\u001b[0m\u001b[0mlen\u001b[0m\u001b[0;34m(\u001b[0m\u001b[0mypdf\u001b[0m\u001b[0;34m)\u001b[0m\u001b[0;34m-\u001b[0m\u001b[0mlen\u001b[0m\u001b[0;34m(\u001b[0m\u001b[0mnevs\u001b[0m\u001b[0;34m)\u001b[0m\u001b[0;34m)\u001b[0m\u001b[0;34m)\u001b[0m\u001b[0;34m\u001b[0m\u001b[0m\n\u001b[0m\u001b[1;32m     68\u001b[0m         \u001b[0mres\u001b[0m\u001b[0;34m.\u001b[0m\u001b[0mchi2\u001b[0m \u001b[0;34m=\u001b[0m \u001b[0mchi2\u001b[0m\u001b[0;34m\u001b[0m\u001b[0m\n\u001b[1;32m     69\u001b[0m         \u001b[0;32mreturn\u001b[0m \u001b[0mres\u001b[0m\u001b[0;34m\u001b[0m\u001b[0m\n",
      "\u001b[0;31mValueError\u001b[0m: operands could not be broadcast together with shapes (1000,) (125,) "
     ]
    },
    {
     "data": {
      "image/png": "[encoded data removed]",
      "text/plain": [
       "<matplotlib.figure.Figure at 0x7f484986a898>"
      ]
     },
     "metadata": {},
     "output_type": "display_data"
    }
   ],
   "source": [
    "fit.FitLLM(nevslist,tol=1e-8,options={\"maxiter\":1000})"
   ]
  },
  {
   "cell_type": "code",
   "execution_count": null,
   "metadata": {
    "collapsed": true
   },
   "outputs": [],
   "source": [
    "y_Co = pdf_Co.\n",
    "pdf_K = PDF(h_K,interpolation='linear')\n",
    "pdf_Tl = PDF(h_Tl,interpolation='linear')\n",
    "pdf_Bi = PDF(h_Bi,interpolation='linear')\n",
    "pdf_bb2n = PDF(h_bb2n,interpolation='linear')\n",
    "pdf_testnn = PDF(h_testnn,interpolation='linear')\n",
    "pdf_total = PDF(h_total,interpolation='linear')"
   ]
  },
  {
   "cell_type": "code",
   "execution_count": null,
   "metadata": {
    "collapsed": false
   },
   "outputs": [],
   "source": [
    "plt.plot(h_total.bins,h_total.hist)"
   ]
  },
  {
   "cell_type": "code",
   "execution_count": null,
   "metadata": {
    "collapsed": false
   },
   "outputs": [],
   "source": [
    "h_total.hist"
   ]
  },
  {
   "cell_type": "code",
   "execution_count": null,
   "metadata": {
    "collapsed": false
   },
   "outputs": [],
   "source": [
    "total.sum()"
   ]
  },
  {
   "cell_type": "code",
   "execution_count": null,
   "metadata": {
    "collapsed": false
   },
   "outputs": [],
   "source": [
    "plt.plot(E,pdf_Co.pdf(E))"
   ]
  },
  {
   "cell_type": "markdown",
   "metadata": {},
   "source": [
    "# "
   ]
  },
  {
   "cell_type": "code",
   "execution_count": 65,
   "metadata": {
    "collapsed": false
   },
   "outputs": [
    {
     "data": {
      "text/plain": [
       "     chi2: -1\n",
       "      fun: -214344.91651895808\n",
       " hess_inv: array([[ 83.04704792, -83.04704764,  31.94228893,  48.09766196,\n",
       "        -18.87290453],\n",
       "       [-83.04704764,  83.04704778, -31.94228874, -48.09766215,\n",
       "         18.87290419],\n",
       "       [ 31.94228893, -31.94228874,  33.9200712 ,  -0.5649148 ,\n",
       "        -32.25345539],\n",
       "       [ 48.09766196, -48.09766215,  -0.5649148 ,  46.28131089,  11.6714163 ],\n",
       "       [-18.87290453,  18.87290419, -32.25345539,  11.6714163 ,\n",
       "         35.07371931]])\n",
       "      jac: array([ 0.00195312,  0.        ,  0.00195312, -0.00390625,  0.00390625])\n",
       "  message: 'Desired error not necessarily achieved due to precision loss.'\n",
       "     nfev: 911\n",
       "      nit: 86\n",
       "     njev: 130\n",
       "   status: 2\n",
       "  success: False\n",
       "        x: array([ 18285.44450878,  19966.69298862,    766.95693493,  11352.40091477,\n",
       "       -13820.53778097])"
      ]
     },
     "execution_count": 65,
     "metadata": {},
     "output_type": "execute_result"
    }
   ],
   "source": [
    "z"
   ]
  },
  {
   "cell_type": "code",
   "execution_count": 44,
   "metadata": {
    "collapsed": false
   },
   "outputs": [
    {
     "name": "stdout",
     "output_type": "stream",
     "text": [
      "148976.0\n",
      "79596.0\n",
      "15221.0\n",
      "38295.0\n",
      "11421.0\n"
     ]
    }
   ],
   "source": [
    "q = [h_Co, h_K, h_Tl, h_Bi, h_bb2n]\n",
    "for i in q:\n",
    "    print(i.hist.sum())"
   ]
  },
  {
   "cell_type": "code",
   "execution_count": 47,
   "metadata": {
    "collapsed": false
   },
   "outputs": [
    {
     "data": {
      "text/plain": [
       "[18600, 10600, 1710, 4050, 2000]"
      ]
     },
     "execution_count": 47,
     "metadata": {},
     "output_type": "execute_result"
    }
   ],
   "source": [
    "([ 148975.94529534,   79595.96342355,   15220.7707166 ,\n",
    "         38295.14100178,   11421.07840777])"
   ]
  },
  {
   "cell_type": "code",
   "execution_count": null,
   "metadata": {
    "collapsed": true
   },
   "outputs": [],
   "source": []
  }
 ],
 "metadata": {
  "anaconda-cloud": {},
  "kernelspec": {
   "display_name": "Python [conda root]",
   "language": "python",
   "name": "conda-root-py"
  },
  "language_info": {
   "codemirror_mode": {
    "name": "ipython",
    "version": 3
   },
   "file_extension": ".py",
   "mimetype": "text/x-python",
   "name": "python",
   "nbconvert_exporter": "python",
   "pygments_lexer": "ipython3",
   "version": "3.5.2"
  }
 },
 "nbformat": 4,
 "nbformat_minor": 1
}
