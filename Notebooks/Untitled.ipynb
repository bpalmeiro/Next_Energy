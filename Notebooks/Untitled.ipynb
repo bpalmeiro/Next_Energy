{
 "cells": [
  {
   "cell_type": "code",
   "execution_count": 3,
   "metadata": {
    "collapsed": false,
    "nbpresent": {
     "id": "10507afc-4e0c-4486-acdd-ad90b81c7ecf"
    }
   },
   "outputs": [],
   "source": [
    "import matplotlib.pylab as plt\n",
    "import numba\n",
    "\n",
    "%matplotlib inline\n",
    "%load_ext autoreload\n",
    "%autoreload 2"
   ]
  },
  {
   "cell_type": "code",
   "execution_count": 4,
   "metadata": {
    "collapsed": false,
    "nbpresent": {
     "id": "cf484e15-de09-4ce4-8adf-ffb65d3b229c"
    }
   },
   "outputs": [],
   "source": [
    "import Estimation as st\n",
    "import tables as tb\n",
    "from Histogram import Histogram as hist\n",
    "from PDF import PDF\n",
    "from Utils import IsotopeDic, PartDic\n",
    "from scipy.stats import poisson\n",
    "import scipy.optimize as sop\n",
    "import numpy as np\n",
    "from scipy.special import gamma\n",
    "\n",
    "#from Fits import Fi"
   ]
  },
  {
   "cell_type": "code",
   "execution_count": 70,
   "metadata": {
    "collapsed": false,
    "nbpresent": {
     "id": "eeae98e4-8b79-4246-a7ea-b4c9cf2b314a"
    }
   },
   "outputs": [],
   "source": [
    "# %load ../Code/Fits.py\n",
    "import Estimation as st\n",
    "from Histogram import Histogram as hist\n",
    "from PDF import PDF\n",
    "from Utils import IsotopeDic, PartDic\n",
    "from scipy.stats import poisson\n",
    "import matplotlib.pylab as plt\n",
    "import scipy.optimize as sop\n",
    "import numpy as np\n",
    "from scipy.special import gammaln\n",
    "from copy import copy\n",
    "\n",
    "def generalLogPoisson(x,mu):\n",
    "    #Çmu[mu<-2e-11] = np.nan\n",
    "    '''for i in mu:\n",
    "        if i<-2e-11:\n",
    "       \n",
    "       print(i)\n",
    "    '''\n",
    "    return (-mu+x*np.log(mu+0.00001)-gammaln(x+1))\n",
    "    \n",
    "class Fit():\n",
    "    '''\n",
    "    Class meant to perform the fit\n",
    "    '''\n",
    "    def __init__(self, E, spectrum, PDFs):\n",
    "        '''\n",
    "        E: x range (np array)\n",
    "        spectrum: experimental points\n",
    "        PDF: list of spectra PDFs\n",
    "        nevs: normalizations for the spectra (they are the\n",
    "            initial values for the fit)\n",
    "        '''\n",
    "        self.E = E[:]\n",
    "        self.spectrum = spectrum.hist[:]\n",
    "        self.PDFs = copy(PDFs)\n",
    "        self.PDF_Val = np.array([np.array(pdfi.pdf(E)) for pdfi in self.PDFs])\n",
    "        \n",
    "    def LogLikelihood(self, nevs):\n",
    "        '''\n",
    "        function meant to compute the LogLikelihood\n",
    "        '''\n",
    "        nevs = nevs.reshape(len(nevs),1)\n",
    "        ypdf = np.sum(nevs*self.PDF_Val,axis=0)\n",
    "        ydat = self.spectrum\n",
    "        lm = (np.array(generalLogPoisson(ydat,ypdf))).sum()\n",
    "        return -2*lm\n",
    "\n",
    "        \n",
    "        \n",
    "    def FitLLM(self,nevs,bounds=None, **kwargs):\n",
    "        nevs = nevs.reshape(len(np.array(nevs)),1)\n",
    "        fit = self.LogLikelihood\n",
    "        res = sop.minimize(fit,nevs,method='Nelder-Mead',**kwargs)\n",
    "        ypdf = np.sum(nevs*self.PDF_Val,axis=0)\n",
    "        ydat = self.spectrum\n",
    "        chi2 = -1\n",
    "        err = -1\n",
    "        if (res.success):\n",
    "            chi2 = np.sum((ypdf-ydat)**2/((ydat+0.0001)*(len(ypdf)-len(nevs))))\n",
    "            err = self.GetError(res.x)\n",
    "        res.chi2 = chi2\n",
    "        res.err = err\n",
    "        return res\n",
    "    \n",
    "    def FitLLMScan(self,nevs, fixn, npoint=100, **kwargs):\n",
    "        nevs = nevs.reshape(len(np.array(nevs)),1)\n",
    "        aux = nevs[fixn]\n",
    "        aux_evs = np.delete(nevs,fixn)\n",
    "        fun_aux = self.FitLLM(nevs, **kwargs).fun\n",
    "        res_list = []\n",
    "        for aux_s in np.linspace(0,2*aux,npoint):\n",
    "            fit = lambda x_nevs: self.LogLikelihood(np.insert(x_nevs,fixn,aux_s))\n",
    "            #res = sop.minimize(fit,nevs,method='L-BFGS-B',bounds = bounds,**kwargs)\n",
    "            res = sop.minimize(fit,aux_evs,method='Nelder-Mead',**kwargs)\n",
    "            res_list.append(res.fun-fun_aux)\n",
    "            #print(aux_s,res)\n",
    "            if not(res.success):\n",
    "                print('error')\n",
    "        return np.linspace(0,2*aux,npoint),res_list\n",
    "    \n",
    "    def GetError(self, nevsmin, **kwargs):\n",
    "        error = []\n",
    "        nevs = nevsmin.reshape(len(np.array(nevsmin)),1)\n",
    "        res_list = np.zeros(len(nevsmin))\n",
    "        for fixn in range(len(nevsmin)):\n",
    "        \n",
    "            aux = nevs[fixn]\n",
    "            aux_evs = np.delete(nevs,fixn)          \n",
    "            fit = lambda aux_s:  (lambda x_nevs: self.LogLikelihood(np.insert(x_nevs,fixn,aux_s)) )\n",
    "            #res = sop.minimize(fit,nevs,method='L-BFGS-B',bounds = bounds,**kwargs)\n",
    "            res = lambda aux_ss: (sop.minimize(fit(aux_ss),aux_evs,method='Nelder-Mead',**kwargs)).fun-1-715.134906606767\n",
    "            res_list[fixn] = (sop.root(res,aux-aux**0.5).x)[0]          \n",
    "        return nevsmin-res_list\n",
    "       \n",
    "        \n",
    "    def GetSpectra(self,E,*nevs):\n",
    "        ypdf = np.array([sum([n*pdfi.pdf(Ei) for pdfi,n in zip(self.PDFs,nevs)]) for Ei in self.E])\n",
    "        #print ypdf\n",
    "        return ypdf\n",
    "\n",
    "    def FitLeastSQ(self,nevs,**kwargs):\n",
    "        nevs = np.array(nevs)\n",
    "        fit = self.GetSpectra\n",
    "        res = sop.curve_fit(fit,self.E,self.spectrum, nevs)\n",
    "        return res\n"
   ]
  },
  {
   "cell_type": "code",
   "execution_count": 6,
   "metadata": {
    "collapsed": false,
    "nbpresent": {
     "id": "c964641a-4fb8-47f9-9060-2b53a0305fbd"
    }
   },
   "outputs": [],
   "source": [
    "f = tb.open_file(\"../Data/data_spectrum.h5\", \"r\")"
   ]
  },
  {
   "cell_type": "code",
   "execution_count": 7,
   "metadata": {
    "collapsed": false,
    "nbpresent": {
     "id": "54d85cb4-be1e-45c4-96e8-63d9d8f76a59"
    }
   },
   "outputs": [
    {
     "data": {
      "text/plain": [
       "File(filename=../Data/data_spectrum.h5, title='', mode='r', root_uep='/', filters=Filters(complevel=0, shuffle=False, fletcher32=False, least_significant_digit=None))\n",
       "/ (RootGroup) ''\n",
       "/Bi (Array(125,)) ''\n",
       "  atom := Float64Atom(shape=(), dflt=0.0)\n",
       "  maindim := 0\n",
       "  flavor := 'numpy'\n",
       "  byteorder := 'little'\n",
       "  chunkshape := None\n",
       "/Co (Array(125,)) ''\n",
       "  atom := Float64Atom(shape=(), dflt=0.0)\n",
       "  maindim := 0\n",
       "  flavor := 'numpy'\n",
       "  byteorder := 'little'\n",
       "  chunkshape := None\n",
       "/E (Array(125,)) ''\n",
       "  atom := Float64Atom(shape=(), dflt=0.0)\n",
       "  maindim := 0\n",
       "  flavor := 'numpy'\n",
       "  byteorder := 'little'\n",
       "  chunkshape := None\n",
       "/K (Array(125,)) ''\n",
       "  atom := Float64Atom(shape=(), dflt=0.0)\n",
       "  maindim := 0\n",
       "  flavor := 'numpy'\n",
       "  byteorder := 'little'\n",
       "  chunkshape := None\n",
       "/Tl (Array(125,)) ''\n",
       "  atom := Float64Atom(shape=(), dflt=0.0)\n",
       "  maindim := 0\n",
       "  flavor := 'numpy'\n",
       "  byteorder := 'little'\n",
       "  chunkshape := None\n",
       "/bb2n (Array(125,)) ''\n",
       "  atom := Float64Atom(shape=(), dflt=0.0)\n",
       "  maindim := 0\n",
       "  flavor := 'numpy'\n",
       "  byteorder := 'little'\n",
       "  chunkshape := None\n",
       "/testnn (Array(125,)) ''\n",
       "  atom := Float64Atom(shape=(), dflt=0.0)\n",
       "  maindim := 0\n",
       "  flavor := 'numpy'\n",
       "  byteorder := 'little'\n",
       "  chunkshape := None\n",
       "/total (Array(125,)) ''\n",
       "  atom := Float64Atom(shape=(), dflt=0.0)\n",
       "  maindim := 0\n",
       "  flavor := 'numpy'\n",
       "  byteorder := 'little'\n",
       "  chunkshape := None"
      ]
     },
     "execution_count": 7,
     "metadata": {},
     "output_type": "execute_result"
    }
   ],
   "source": [
    "f"
   ]
  },
  {
   "cell_type": "code",
   "execution_count": 8,
   "metadata": {
    "collapsed": false,
    "nbpresent": {
     "id": "9926d179-7b19-46b2-8ed3-b87319560baa"
    }
   },
   "outputs": [],
   "source": [
    "minE,maxE,nbin = 0.6,3.,125\n",
    "E = f.root.E[:]\n",
    "Co = f.root.Co[:]\n",
    "K = f.root.K[:]\n",
    "Tl = f.root.Tl[:]\n",
    "Bi = f.root.Bi[:]\n",
    "bb2n = f.root.bb2n[:]\n",
    "testnn = f.root.testnn[:]\n",
    "total = f.root.total[:]"
   ]
  },
  {
   "cell_type": "code",
   "execution_count": 9,
   "metadata": {
    "collapsed": false,
    "nbpresent": {
     "id": "8c5c898e-06ea-4c82-91a1-a60a7d16c34d"
    }
   },
   "outputs": [],
   "source": [
    "h_Co = hist([],nbin,minE,maxE)\n",
    "h_Co.hist = Co\n",
    "h_Co.bins = E\n",
    "h_K = hist([], nbin,minE,maxE)\n",
    "h_K.hist = K\n",
    "h_K.bins = E\n",
    "h_Tl = hist([],nbin,minE,maxE)\n",
    "h_Tl.hist = Tl\n",
    "h_Tl.bins = E\n",
    "h_Bi = hist([],nbin,minE,maxE)\n",
    "h_Bi.hist = Bi\n",
    "h_Bi.bins = E\n",
    "h_bb2n = hist([],nbin,minE,maxE)\n",
    "h_bb2n.hist = bb2n\n",
    "h_bb2n.bins = E\n",
    "h_testnn = hist(testnn,nbin,minE,maxE)\n",
    "h_testnn.hist = testnn\n",
    "h_testnn.bins = E\n",
    "h_total = hist(total,nbin,minE,maxE)\n",
    "h_total.hist = total\n",
    "h_total.bins = E"
   ]
  },
  {
   "cell_type": "code",
   "execution_count": 10,
   "metadata": {
    "collapsed": false,
    "nbpresent": {
     "id": "cf668dc0-d488-47cb-bf3c-5b9ba0dc2fa5"
    }
   },
   "outputs": [],
   "source": [
    "interpol = 'cubic'\n",
    "pdf_Co = PDF(h_Co,interpolation=interpol)\n",
    "pdf_K = PDF(h_K,interpolation=interpol)\n",
    "pdf_Tl = PDF(h_Tl,interpolation=interpol)\n",
    "pdf_Bi = PDF(h_Bi,interpolation=interpol)\n",
    "pdf_bb2n = PDF(h_bb2n,interpolation=interpol)\n",
    "pdf_testnn = PDF(h_testnn,interpolation=interpol)\n",
    "pdf_total = PDF(h_total,interpolation=interpol)"
   ]
  },
  {
   "cell_type": "code",
   "execution_count": 11,
   "metadata": {
    "collapsed": false,
    "nbpresent": {
     "id": "f479410d-487c-43d2-a5e7-e9f6bba72497"
    }
   },
   "outputs": [],
   "source": [
    "pdflis = [pdf_Co,pdf_K,pdf_Tl,pdf_Bi,pdf_bb2n]\n",
    "nevslist = np.array([150000,80000,15000,40000,20000])/8."
   ]
  },
  {
   "cell_type": "code",
   "execution_count": 71,
   "metadata": {
    "collapsed": false,
    "nbpresent": {
     "id": "338246c8-befd-4639-8297-52cb062a2a88"
    }
   },
   "outputs": [],
   "source": [
    "fit = Fit(E,h_total,pdflis)"
   ]
  },
  {
   "cell_type": "code",
   "execution_count": 72,
   "metadata": {
    "collapsed": false,
    "nbpresent": {
     "id": "6728d595-e067-4294-a9b0-4f1321a46d6b"
    },
    "scrolled": false
   },
   "outputs": [
    {
     "name": "stdout",
     "output_type": "stream",
     "text": [
      "CPU times: user 1.91 s, sys: 0 ns, total: 1.91 s\n",
      "Wall time: 1.91 s\n"
     ]
    }
   ],
   "source": [
    "%time res_ll = fit.FitLLM(nevslist,tol=1e-10,options={\"maxiter\":100000,'ftol':1e-20})\n",
    "#\"gtol\":1e-12, ,'maxls':50"
   ]
  },
  {
   "cell_type": "code",
   "execution_count": 73,
   "metadata": {
    "collapsed": false
   },
   "outputs": [
    {
     "data": {
      "text/plain": [
       "          chi2: 1.7545517115556524\n",
       "           err: array([ 321.84053591,  268.4997368 ,  107.99618617,  485.68737027,\n",
       "        443.11965811])\n",
       " final_simplex: (array([[ 18395.0973629 ,  10041.57996118,   1992.7751794 ,   4838.85734773,\n",
       "          1384.68928794],\n",
       "       [ 18395.0973629 ,  10041.57996118,   1992.7751794 ,   4838.85734773,\n",
       "          1384.68928794],\n",
       "       [ 18395.0973629 ,  10041.57996118,   1992.7751794 ,   4838.85734773,\n",
       "          1384.68928794],\n",
       "       [ 18395.0973629 ,  10041.57996118,   1992.7751794 ,   4838.85734773,\n",
       "          1384.68928794],\n",
       "       [ 18395.0973629 ,  10041.57996118,   1992.7751794 ,   4838.85734773,\n",
       "          1384.68928794],\n",
       "       [ 18395.0973629 ,  10041.57996118,   1992.7751794 ,   4838.85734773,\n",
       "          1384.68928794]]), array([ 715.13490661,  715.13490661,  715.13490661,  715.13490661,\n",
       "        715.13490661,  715.13490661]))\n",
       "           fun: 715.134906606767\n",
       "       message: 'Optimization terminated successfully.'\n",
       "          nfev: 560\n",
       "           nit: 276\n",
       "        status: 0\n",
       "       success: True\n",
       "             x: array([ 18395.0973629 ,  10041.57996118,   1992.7751794 ,   4838.85734773,\n",
       "         1384.68928794])"
      ]
     },
     "execution_count": 73,
     "metadata": {},
     "output_type": "execute_result"
    }
   ],
   "source": [
    "res_ll"
   ]
  },
  {
   "cell_type": "code",
   "execution_count": 15,
   "metadata": {
    "collapsed": false
   },
   "outputs": [
    {
     "data": {
      "text/plain": [
       "array([ 18750.,  10000.,   1875.,   5000.,   2500.])"
      ]
     },
     "execution_count": 15,
     "metadata": {},
     "output_type": "execute_result"
    }
   ],
   "source": [
    "nevslist"
   ]
  },
  {
   "cell_type": "code",
   "execution_count": 16,
   "metadata": {
    "collapsed": false,
    "nbpresent": {
     "id": "6b3d0ec6-0ad6-4d29-aef6-7f6748bc8b10"
    }
   },
   "outputs": [
    {
     "name": "stdout",
     "output_type": "stream",
     "text": [
      "CPU times: user 1.2 s, sys: 64.6 ms, total: 1.26 s\n",
      "Wall time: 1.3 s\n"
     ]
    }
   ],
   "source": [
    "%time res_ls = fit.FitLeastSQ(nevslist,tol=1e-12,options={\"maxiter\":1000})"
   ]
  },
  {
   "cell_type": "code",
   "execution_count": 17,
   "metadata": {
    "collapsed": false,
    "nbpresent": {
     "id": "ec592521-b6fd-41d9-8f34-41d166f9802e"
    }
   },
   "outputs": [
    {
     "name": "stdout",
     "output_type": "stream",
     "text": [
      "18967.8383795  +-  297.667231852\n",
      "10149.6005837  +-  248.442467245\n",
      "2634.76085786  +-  397.014502889\n",
      "4478.6278918  +-  312.113365883\n",
      "540.682346863  +-  478.157932923\n"
     ]
    }
   ],
   "source": [
    "for i in range(len(res_ls[0])):\n",
    "    print(res_ls[0][i],' +- ', (res_ls[1][i,i])**0.5)"
   ]
  },
  {
   "cell_type": "markdown",
   "metadata": {
    "nbpresent": {
     "id": "9f0d607a-c2d4-430d-b4e7-d18858308803"
    }
   },
   "source": [
    "# Errors"
   ]
  },
  {
   "cell_type": "code",
   "execution_count": 18,
   "metadata": {
    "collapsed": false,
    "nbpresent": {
     "id": "47eaafd2-4d5f-4f81-a71a-99fe401717a9"
    }
   },
   "outputs": [
    {
     "name": "stderr",
     "output_type": "stream",
     "text": [
      "/home/brais/anaconda3/lib/python3.5/site-packages/ipykernel/__main__.py:20: RuntimeWarning: invalid value encountered in log\n"
     ]
    },
    {
     "data": {
      "text/plain": [
       "[<matplotlib.lines.Line2D at 0x7f64ac9630b8>]"
      ]
     },
     "execution_count": 18,
     "metadata": {},
     "output_type": "execute_result"
    },
    {
     "data": {
      "image/png": "[encoded data removed]",
      "text/plain": [
       "<matplotlib.figure.Figure at 0x7f64ac963048>"
      ]
     },
     "metadata": {},
     "output_type": "display_data"
    }
   ],
   "source": [
    "scan = fit.FitLLMScan(np. array([ 18395.02927031,  10041.54032921,   1992.53167288,   4839.01680656,1384.77826122]),0,1000)\n",
    "plt.plot(scan[0],np.array(scan[1])-1)\n",
    "plt.plot([0,40000],[0,0])"
   ]
  },
  {
   "cell_type": "code",
   "execution_count": 19,
   "metadata": {
    "collapsed": false,
    "nbpresent": {
     "id": "33a9ad41-0de2-4dff-8e85-10d3c3edfc1f"
    }
   },
   "outputs": [
    {
     "data": {
      "text/plain": [
       "(-0.5, 0.5)"
      ]
     },
     "execution_count": 19,
     "metadata": {},
     "output_type": "execute_result"
    },
    {
     "data": {
      "image/png": "[encoded data removed]",
      "text/plain": [
       "<matplotlib.figure.Figure at 0x7f64ac8fe0f0>"
      ]
     },
     "metadata": {},
     "output_type": "display_data"
    }
   ],
   "source": [
    "plt.plot(scan[0],np.array(scan[1])-1)\n",
    "plt.plot([0,40000],[0,0])\n",
    "plt.xlim(18050,18100)\n",
    "plt.ylim(-.5,.5)"
   ]
  },
  {
   "cell_type": "code",
   "execution_count": 65,
   "metadata": {
    "collapsed": false
   },
   "outputs": [
    {
     "name": "stdout",
     "output_type": "stream",
     "text": [
      "[ 18395.02927031  10041.54032921   1992.53167288   4839.01680656\n",
      "   1384.77826122] [ 0.  0.  0.  0.  0.]\n",
      "[ 18395.02927031  10041.54032921   1992.53167288   4839.01680656\n",
      "   1384.77826122] [ 18073.25682699   9773.08022438   1884.77899323   4353.16997746\n",
      "    941.56962983]\n",
      "CPU times: user 2.32 s, sys: 7 µs, total: 2.32 s\n",
      "Wall time: 2.32 s\n"
     ]
    }
   ],
   "source": [
    "%time a = fit.GetError(np.array([ 18395.02927031,  10041.54032921,   1992.53167288,   4839.01680656,1384.77826122]))"
   ]
  },
  {
   "cell_type": "code",
   "execution_count": 66,
   "metadata": {
    "collapsed": false
   },
   "outputs": [
    {
     "data": {
      "text/plain": [
       "array([ 321.77244332,  268.46010483,  107.75267965,  485.8468291 ,\n",
       "        443.20863139])"
      ]
     },
     "execution_count": 66,
     "metadata": {},
     "output_type": "execute_result"
    }
   ],
   "source": [
    "a"
   ]
  },
  {
   "cell_type": "code",
   "execution_count": 26,
   "metadata": {
    "collapsed": false
   },
   "outputs": [
    {
     "data": {
      "text/plain": [
       "array([ 135.62827607,  100.20748639,   44.63778302,   69.56304196,\n",
       "         37.2126089 ])"
      ]
     },
     "execution_count": 26,
     "metadata": {},
     "output_type": "execute_result"
    }
   ],
   "source": [
    "np.array([ 18395.02927031,  10041.54032921,   1992.53167288,   4839.01680656,1384.77826122])**0.5"
   ]
  },
  {
   "cell_type": "code",
   "execution_count": null,
   "metadata": {
    "collapsed": false,
    "nbpresent": {
     "id": "6338d924-9b4f-4e0c-826b-c91202f6705e"
    }
   },
   "outputs": [],
   "source": [
    "N = 100\n",
    "nx = np.linspace(0,result[i]*2,N)\n",
    "LL = []\n",
    "chi = []\n",
    "for ni in nx:\n",
    "    res = fit.FitLLMScan(nevslist,ni,tol=1e-8,options={\"maxiter\":1000})\n",
    "    LL.append(res.fun)\n",
    "    chi.append(res.chi2)\n",
    "    print(ni,'\\n',res,'\\n \\n')"
   ]
  },
  {
   "cell_type": "code",
   "execution_count": null,
   "metadata": {
    "collapsed": false,
    "nbpresent": {
     "id": "c36ef985-fe8e-4cfa-aaa4-c288a78414ca"
    }
   },
   "outputs": [],
   "source": [
    "plt.plot(nx,LL)\n",
    "#plt.plot(nx,chi)\n"
   ]
  },
  {
   "cell_type": "code",
   "execution_count": null,
   "metadata": {
    "collapsed": false,
    "nbpresent": {
     "id": "a55f9b06-b908-4e79-bb3b-728a3e18a4ae"
    }
   },
   "outputs": [],
   "source": [
    "N = 50\n",
    "for i in range(5):\n",
    "    nevs = np.copy(result)\n",
    "    x = np.linspace(0,result[i]*3,N)\n",
    "    y = np.zeros([N,1])\n",
    "    for event in range(len(x)):\n",
    "        nevs[i] = x[event]\n",
    "        y[event] = fit.LogLikelihood(nevs)\n",
    "    plt.plot(x,y-357.46490713137422-2)\n",
    "    plt.plot(result[i],fit.LogLikelihood(result)-357.46490713137422-2,'o')\n",
    "plt.plot([0,60000],[0,0])"
   ]
  },
  {
   "cell_type": "code",
   "execution_count": null,
   "metadata": {
    "collapsed": false,
    "nbpresent": {
     "id": "fa0475a3-1841-445e-8c99-83d70e9d52c1"
    }
   },
   "outputs": [],
   "source": [
    "plt.plot(x,y-357.46490713137422-0.5)\n",
    "plt.plot(result[i],fit.LogLikelihood(result)-357.46490713137422-0.5,'o')\n",
    "plt.plot([x[0],x[-1]],[0,0])\n",
    "plt.xlim(1225,1226)\n",
    "plt.ylim(-0.005151,0.0051)\n",
    "#for i in "
   ]
  },
  {
   "cell_type": "code",
   "execution_count": null,
   "metadata": {
    "collapsed": false,
    "nbpresent": {
     "id": "97e7ed72-aa0e-46fd-87b1-3a45eaceb34e"
    }
   },
   "outputs": [],
   "source": [
    "x = np.linspace(0,result[i]*3,1000)"
   ]
  },
  {
   "cell_type": "code",
   "execution_count": null,
   "metadata": {
    "collapsed": false,
    "nbpresent": {
     "id": "e9ca74cb-1bcc-443f-9c98-774eeef8c538"
    }
   },
   "outputs": [],
   "source": [
    "res"
   ]
  },
  {
   "cell_type": "code",
   "execution_count": null,
   "metadata": {
    "collapsed": false,
    "nbpresent": {
     "id": "f1c07dd3-5864-43c8-8165-a56d61a170f8"
    }
   },
   "outputs": [],
   "source": [
    "357.46490713125877 - 362.333\n"
   ]
  },
  {
   "cell_type": "code",
   "execution_count": null,
   "metadata": {
    "collapsed": false,
    "nbpresent": {
     "id": "e8525e26-c721-42c8-9f9a-2a1167b293a8"
    }
   },
   "outputs": [],
   "source": [
    "1384.7787-1225"
   ]
  },
  {
   "cell_type": "code",
   "execution_count": null,
   "metadata": {
    "collapsed": false,
    "nbpresent": {
     "id": "ea2710f6-33f6-4c44-8dbf-556a8becebb6"
    }
   },
   "outputs": [],
   "source": [
    "testnn.sum()"
   ]
  },
  {
   "cell_type": "code",
   "execution_count": null,
   "metadata": {
    "collapsed": false,
    "nbpresent": {
     "id": "f018bbae-9b63-4e46-9d50-06c64aa42e26"
    }
   },
   "outputs": [],
   "source": [
    "bb2n.sum()"
   ]
  },
  {
   "cell_type": "code",
   "execution_count": null,
   "metadata": {
    "collapsed": false,
    "nbpresent": {
     "id": "8e5dae7f-6a27-4883-be89-e3e13c16b29c"
    }
   },
   "outputs": [],
   "source": [
    "(1376.0-1384.7787)/159.7787"
   ]
  },
  {
   "cell_type": "code",
   "execution_count": null,
   "metadata": {
    "collapsed": false,
    "nbpresent": {
     "id": "8e3b0213-e2cc-4468-9c38-c3b35f7e39a9"
    }
   },
   "outputs": [],
   "source": [
    "1383.24"
   ]
  },
  {
   "cell_type": "markdown",
   "metadata": {
    "nbpresent": {
     "id": "af4266ed-e511-46ea-a903-3e96a0102a0c"
    }
   },
   "source": [
    "# Plot"
   ]
  },
  {
   "cell_type": "code",
   "execution_count": null,
   "metadata": {
    "collapsed": true,
    "nbpresent": {
     "id": "bdc42851-7f99-421b-9a3c-d69ba58d86f9"
    }
   },
   "outputs": [],
   "source": [
    "result = np.array([18395.02975447, 10041.5398816, 1992.53178756, 4839.01641257, 1384.7787113])"
   ]
  },
  {
   "cell_type": "code",
   "execution_count": null,
   "metadata": {
    "collapsed": true,
    "nbpresent": {
     "id": "21ae10b7-e21b-4fb3-bd97-8fa7e731e881"
    }
   },
   "outputs": [],
   "source": [
    "interpol = 'nearest'\n",
    "pdf_CoP = PDF(h_Co,factor=result[0],interpolation=interpol)\n",
    "pdf_KP = PDF(h_K,factor=result[1],interpolation=interpol)\n",
    "pdf_TlP = PDF(h_Tl,factor=result[2],interpolation=interpol)\n",
    "pdf_BiP = PDF(h_Bi,factor=result[3],interpolation=interpol)\n",
    "pdf_bb2nP = PDF(h_bb2n,factor=result[4],interpolation=interpol)\n",
    "\n"
   ]
  },
  {
   "cell_type": "code",
   "execution_count": null,
   "metadata": {
    "collapsed": false,
    "nbpresent": {
     "id": "8d6bf69d-e20a-4e87-9ae3-ed2e63d8a361"
    }
   },
   "outputs": [],
   "source": [
    "Ep = np.linspace(0.6,2.8,1000)\n",
    "aux =(E>0.6)&(E<2.8)\n",
    "Ea = E[aux]\n",
    "totala = total[aux]\n",
    "testnna = testnn[aux]\n",
    "y_CoP = pdf_CoP.pdf(Ep)\n",
    "y_KP = pdf_KP.pdf(Ep)\n",
    "y_TlP = pdf_TlP.pdf(Ep)\n",
    "y_BiP = pdf_BiP.pdf(Ep)\n",
    "y_bb2nP = pdf_bb2nP.pdf(Ep)\n",
    "fittotal = y_CoP+y_KP+y_TlP+y_BiP+y_bb2nP\n",
    "y_CoP[0]=0.00001\n",
    "y_CoP[-1]=0.00001\n",
    "y_KP[0]=0.00001\n",
    "y_KP[-1]=0.00001\n",
    "y_BiP[0]=0.00001\n",
    "y_BiP[-1]=0.00001\n",
    "y_TlP[0]=0.00001\n",
    "y_TlP[-1]=0.00001\n"
   ]
  },
  {
   "cell_type": "code",
   "execution_count": null,
   "metadata": {
    "collapsed": false,
    "nbpresent": {
     "id": "853381a7-934b-45cc-a8d4-3dfd11ba6430"
    }
   },
   "outputs": [],
   "source": [
    "alfa= 0.2\n",
    "plt.semilogy()\n",
    "plt.ylim(0.5,3e3)\n",
    "plt.errorbar(Ea,totala,yerr=np.sqrt(totala),marker='.',elinewidth=1,\n",
    "             linewidth=0,label='data',color='black')\n",
    "plt.errorbar(Ea,testnna,yerr=np.sqrt(testnna),marker='.',elinewidth=1,\n",
    "             linewidth=0,label='bb2n_data',color='m')\n",
    "plt.plot(Ep,fittotal,label='fit')\n",
    "plt.plot(Ep,y_bb2nP,label='bb2n_fit')\n",
    "plt.fill_between(Ep,0,y_CoP,label='Co_fit',alpha=alfa,color='r')\n",
    "plt.fill_between(Ep,0,y_KP,label='K_fit',alpha=alfa,color='g')\n",
    "plt.fill_between(Ep,0,y_TlP,label='Tl_fit',alpha=alfa,color='y')\n",
    "plt.fill_between(Ep,0,y_BiP,label='Bi_fit',alpha=alfa,color='b')\n",
    "#plt.plot(E)\n",
    "plt.gcf().set_size_inches(12,9)\n",
    "plt.legend().get_frame().set_facecolor('0.95')\n",
    "plt.xlabel('Energy (MeV)',fontsize=16)\n",
    "plt.ylabel('Entries',fontsize=18)\n",
    "plt.savefig('fitspectrum.pdf')"
   ]
  },
  {
   "cell_type": "code",
   "execution_count": null,
   "metadata": {
    "collapsed": false
   },
   "outputs": [],
   "source": [
    "alfa= 0.2\n",
    "plt.semilogy()\n",
    "plt.ylim(0.5,3e3)\n",
    "plt.errorbar(Ea,totala,yerr=np.sqrt(totala),marker='.',elinewidth=1,\n",
    "             linewidth=0,label='data',color='black')\n",
    "plt.errorbar(Ea,testnna,yerr=np.sqrt(testnna),marker='.',elinewidth=1,\n",
    "             linewidth=0,label='bb2n_data',color='m')\n",
    "plt.plot(Ep,fittotal,label='fit')\n",
    "plt.plot(Ep,y_bb2nP,label='bb2n_fit')\n",
    "plt.fill_between(Ep,0,y_CoP,label='Co_fit',alpha=alfa,color='r')\n",
    "plt.fill_between(Ep,0,y_KP,label='K_fit',alpha=alfa,color='g')\n",
    "plt.fill_between(Ep,0,y_TlP,label='Tl_fit',alpha=alfa,color='y')\n",
    "plt.fill_between(Ep,0,y_BiP,label='Bi_fit',alpha=alfa,color='b')\n",
    "#plt.plot(E)\n",
    "\n",
    "plt.gcf().set_size_inches(12,9)\n",
    "plt.legend().get_frame().set_facecolor('0.95')\n",
    "plt.xlabel('Energy (MeV)',fontsize=16)\n",
    "plt.ylabel('Entries',fontsize=18)\n",
    "plt.savefig('fitspectrum.pdf')"
   ]
  },
  {
   "cell_type": "code",
   "execution_count": null,
   "metadata": {
    "collapsed": false,
    "nbpresent": {
     "id": "53845d1a-49e6-42d1-bc15-6d33657a35d8"
    }
   },
   "outputs": [],
   "source": [
    "alfa= 0.2\n",
    "#plt.semilogy()\n",
    "plt.ylim(0.5,3e3)\n",
    "plt.errorbar(Ea,totala,yerr=np.sqrt(totala),marker='.',elinewidth=1,\n",
    "             linewidth=0,label='data',color='black')\n",
    "plt.errorbar(Ea,testnna,yerr=np.sqrt(testnna),marker='.',elinewidth=1,\n",
    "             linewidth=0,label='bb2n_data',color='m')\n",
    "plt.plot(Ep,fittotal,label='fit')\n",
    "plt.plot(Ep,y_bb2nP,label='bb2n_fit')\n",
    "plt.fill_between(Ep,0,y_CoP,label='Co_fit',alpha=alfa,color='r')\n",
    "plt.fill_between(Ep,0,y_KP,label='K_fit',alpha=alfa,color='g')\n",
    "plt.fill_between(Ep,0,y_TlP,label='Tl_fit',alpha=alfa,color='y')\n",
    "plt.fill_between(Ep,0,y_BiP,label='Bi_fit',alpha=alfa,color='b')\n",
    "#plt.plot(E)\n",
    "plt.gcf().set_size_inches(12,9)\n",
    "plt.legend().get_frame().set_facecolor('0.95')\n",
    "plt.xlabel('Energy (MeV)',fontsize=16)\n",
    "plt.ylabel('Entries',fontsize=18)\n",
    "plt.savefig('fitspectrum.pdf')"
   ]
  },
  {
   "cell_type": "code",
   "execution_count": null,
   "metadata": {
    "collapsed": false,
    "nbpresent": {
     "id": "b48200ef-f4e4-474c-a337-08151eaf4a56"
    }
   },
   "outputs": [],
   "source": [
    "total.sum()"
   ]
  },
  {
   "cell_type": "code",
   "execution_count": null,
   "metadata": {
    "collapsed": false,
    "nbpresent": {
     "id": "ad5398ea-34f4-4b55-ae1f-697e5544c051"
    }
   },
   "outputs": [],
   "source": [
    "result.sum()"
   ]
  },
  {
   "cell_type": "code",
   "execution_count": null,
   "metadata": {
    "collapsed": true,
    "nbpresent": {
     "id": "7860921b-3450-4757-8341-9e65277e578e"
    }
   },
   "outputs": [],
   "source": []
  }
 ],
 "metadata": {
  "anaconda-cloud": {},
  "kernelspec": {
   "display_name": "Python [conda root]",
   "language": "python",
   "name": "conda-root-py"
  },
  "language_info": {
   "codemirror_mode": {
    "name": "ipython",
    "version": 3
   },
   "file_extension": ".py",
   "mimetype": "text/x-python",
   "name": "python",
   "nbconvert_exporter": "python",
   "pygments_lexer": "ipython3",
   "version": "3.5.2"
  }
 },
 "nbformat": 4,
 "nbformat_minor": 1
}
