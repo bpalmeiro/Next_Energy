{
 "cells": [
  {
   "cell_type": "markdown",
   "metadata": {},
   "source": [
    "#  Fitting Spectrum\n",
    "\n",
    "This notebook shows the aplication of fitting code to a 5-component spectrum \n"
   ]
  },
  {
   "cell_type": "code",
   "execution_count": 1,
   "metadata": {
    "collapsed": false,
    "nbpresent": {
     "id": "10507afc-4e0c-4486-acdd-ad90b81c7ecf"
    }
   },
   "outputs": [],
   "source": [
    "import matplotlib.pylab as plt\n",
    "import tables as tb\n",
    "from Histogram import Histogram as hist\n",
    "from PDF import PDF\n",
    "import numpy as np\n",
    "from Fits import Fit\n",
    "%matplotlib inline\n",
    "%load_ext autoreload\n",
    "%autoreload 2"
   ]
  },
  {
   "cell_type": "code",
   "execution_count": 2,
   "metadata": {
    "collapsed": false,
    "nbpresent": {
     "id": "c964641a-4fb8-47f9-9060-2b53a0305fbd"
    }
   },
   "outputs": [],
   "source": [
    "#Opening file and reading data\n",
    "f = tb.open_file(\"../Data/data_spectrum.h5\", \"r\")\n",
    "E = f.root.E[:]\n",
    "Co = f.root.Co[:]\n",
    "K = f.root.K[:]\n",
    "Tl = f.root.Tl[:]\n",
    "Bi = f.root.Bi[:]\n",
    "bb2n = f.root.bb2n[:]\n",
    "testnn = f.root.testnn[:]\n",
    "total = f.root.total[:]"
   ]
  },
  {
   "cell_type": "code",
   "execution_count": 3,
   "metadata": {
    "collapsed": false,
    "nbpresent": {
     "id": "8c5c898e-06ea-4c82-91a1-a60a7d16c34d"
    }
   },
   "outputs": [],
   "source": [
    "#Creating histogram from traning spectra data\n",
    "minE,maxE,nbin = 0.6,3.,125 #values not used\n",
    "h_Co = hist([],nbin,minE,maxE)\n",
    "h_Co.hist = Co\n",
    "h_Co.bins = E\n",
    "h_K = hist([], nbin,minE,maxE)\n",
    "h_K.hist = K\n",
    "h_K.bins = E\n",
    "h_Tl = hist([],nbin,minE,maxE)\n",
    "h_Tl.hist = Tl\n",
    "h_Tl.bins = E\n",
    "h_Bi = hist([],nbin,minE,maxE)\n",
    "h_Bi.hist = Bi\n",
    "h_Bi.bins = E\n",
    "h_bb2n = hist([],nbin,minE,maxE)\n",
    "h_bb2n.hist = bb2n\n",
    "h_bb2n.bins = E\n",
    "h_testnn = hist(testnn,nbin,minE,maxE)\n",
    "h_testnn.hist = testnn\n",
    "h_testnn.bins = E\n",
    "h_total = hist(total,nbin,minE,maxE)\n",
    "h_total.hist = total\n",
    "h_total.bins = E"
   ]
  },
  {
   "cell_type": "code",
   "execution_count": 4,
   "metadata": {
    "collapsed": false,
    "nbpresent": {
     "id": "cf668dc0-d488-47cb-bf3c-5b9ba0dc2fa5"
    }
   },
   "outputs": [],
   "source": [
    "#Creating PDF from traning spectra histograms\n",
    "interpol = 'cubic'\n",
    "pdf_Co = PDF(h_Co,interpolation=interpol)\n",
    "pdf_K = PDF(h_K,interpolation=interpol)\n",
    "pdf_Tl = PDF(h_Tl,interpolation=interpol)\n",
    "pdf_Bi = PDF(h_Bi,interpolation=interpol)\n",
    "pdf_bb2n = PDF(h_bb2n,interpolation=interpol)\n",
    "pdf_testnn = PDF(h_testnn,interpolation=interpol)\n",
    "pdf_total = PDF(h_total,interpolation=interpol)"
   ]
  },
  {
   "cell_type": "code",
   "execution_count": 5,
   "metadata": {
    "collapsed": false,
    "nbpresent": {
     "id": "f479410d-487c-43d2-a5e7-e9f6bba72497"
    }
   },
   "outputs": [],
   "source": [
    "# Defining pdf list and initial parameter guess\n",
    "pdflis = [pdf_Co,pdf_K,pdf_Tl,pdf_Bi,pdf_bb2n]\n",
    "nevslist = np.array([150000,80000,15000,40000,20000])/8."
   ]
  },
  {
   "cell_type": "code",
   "execution_count": 6,
   "metadata": {
    "collapsed": false,
    "nbpresent": {
     "id": "338246c8-befd-4639-8297-52cb062a2a88"
    }
   },
   "outputs": [],
   "source": [
    "#Fit initialization\n",
    "fit = Fit(E,h_total,pdflis)"
   ]
  },
  {
   "cell_type": "code",
   "execution_count": 7,
   "metadata": {
    "collapsed": false,
    "nbpresent": {
     "id": "6728d595-e067-4294-a9b0-4f1321a46d6b"
    },
    "scrolled": false
   },
   "outputs": [
    {
     "name": "stdout",
     "output_type": "stream",
     "text": [
      "CPU times: user 1.95 s, sys: 12.1 ms, total: 1.96 s\n",
      "Wall time: 1.74 s\n",
      "          chi2: 1.7545517115556524\n",
      "           err: array([ 321.84053591,  268.4997368 ,  107.99618617,  485.68737027,\n",
      "        443.11965811])\n",
      " final_simplex: (array([[ 18395.0973629 ,  10041.57996118,   1992.7751794 ,   4838.85734773,\n",
      "          1384.68928794],\n",
      "       [ 18395.0973629 ,  10041.57996118,   1992.7751794 ,   4838.85734773,\n",
      "          1384.68928794],\n",
      "       [ 18395.0973629 ,  10041.57996118,   1992.7751794 ,   4838.85734773,\n",
      "          1384.68928794],\n",
      "       [ 18395.0973629 ,  10041.57996118,   1992.7751794 ,   4838.85734773,\n",
      "          1384.68928794],\n",
      "       [ 18395.0973629 ,  10041.57996118,   1992.7751794 ,   4838.85734773,\n",
      "          1384.68928794],\n",
      "       [ 18395.0973629 ,  10041.57996118,   1992.7751794 ,   4838.85734773,\n",
      "          1384.68928794]]), array([ 715.13490661,  715.13490661,  715.13490661,  715.13490661,\n",
      "        715.13490661,  715.13490661]))\n",
      "           fun: 715.134906606767\n",
      "       message: 'Optimization terminated successfully.'\n",
      "          nfev: 560\n",
      "           nit: 276\n",
      "        status: 0\n",
      "       success: True\n",
      "             x: array([ 18395.0973629 ,  10041.57996118,   1992.7751794 ,   4838.85734773,\n",
      "         1384.68928794])\n"
     ]
    }
   ],
   "source": [
    "%time res_ll = fit.FitLLM(nevslist,tol=1e-10,options={\"maxiter\":100000,'ftol':1e-20})\n",
    "print(res_ll)"
   ]
  },
  {
   "cell_type": "code",
   "execution_count": 8,
   "metadata": {
    "collapsed": false,
    "nbpresent": {
     "id": "6b3d0ec6-0ad6-4d29-aef6-7f6748bc8b10"
    }
   },
   "outputs": [
    {
     "name": "stdout",
     "output_type": "stream",
     "text": [
      "CPU times: user 1.91 ms, sys: 68 µs, total: 1.98 ms\n",
      "Wall time: 1.56 ms\n",
      "(array([ 18967.83837951,  10149.60058375,   2634.76085786,   4478.6278918 ,\n",
      "          540.68234686]), array([[  88605.78091829,    9618.72771011,   21445.75123705,\n",
      "         -56920.40963888,  -69627.40166988],\n",
      "       [   9618.72771011,   61723.65953073,   12471.17774559,\n",
      "          -8206.41749624,  -74394.3966628 ],\n",
      "       [  21445.75123705,   12471.17774559,  157620.51550422,\n",
      "         -49809.16601798,  -96551.68701343],\n",
      "       [ -56920.40963888,   -8206.41749624,  -49809.16601798,\n",
      "          97414.7531629 ,   10152.12102751],\n",
      "       [ -69627.40166988,  -74394.3966628 ,  -96551.68701343,\n",
      "          10152.12102751,  228635.00881727]]))\n"
     ]
    }
   ],
   "source": [
    "%time res_ls = fit.FitLeastSQ(nevslist,tol=1e-12,options={\"maxiter\":1000})\n",
    "print(res_ls)"
   ]
  },
  {
   "cell_type": "code",
   "execution_count": null,
   "metadata": {
    "collapsed": false,
    "nbpresent": {
     "id": "ec592521-b6fd-41d9-8f34-41d166f9802e"
    }
   },
   "outputs": [],
   "source": []
  },
  {
   "cell_type": "markdown",
   "metadata": {
    "nbpresent": {
     "id": "9f0d607a-c2d4-430d-b4e7-d18858308803"
    }
   },
   "source": [
    "# LL Profile"
   ]
  },
  {
   "cell_type": "code",
   "execution_count": 9,
   "metadata": {
    "collapsed": false,
    "nbpresent": {
     "id": "47eaafd2-4d5f-4f81-a71a-99fe401717a9"
    }
   },
   "outputs": [
    {
     "name": "stderr",
     "output_type": "stream",
     "text": [
      "/home/brais/Documents/Next/Energy_spectrum/RootFreeVersion/Next_Energy/Code/Fits.py:11: RuntimeWarning: invalid value encountered in log\n",
      "  return (-mu+x*np.log(mu+0.00001)-gammaln(x+1))\n"
     ]
    },
    {
     "data": {
      "text/plain": [
       "[<matplotlib.lines.Line2D at 0x7fc428bc8588>]"
      ]
     },
     "execution_count": 9,
     "metadata": {},
     "output_type": "execute_result"
    },
    {
     "data": {
      "image/png": "[encoded data removed]",
      "text/plain": [
       "<matplotlib.figure.Figure at 0x7fc428bc8518>"
      ]
     },
     "metadata": {},
     "output_type": "display_data"
    }
   ],
   "source": [
    "# Scan for component i=0 with npoints=1000 (LL min is subtructed)\n",
    "scan = fit.FitLLMScan(np. array([ 18395.02927031,  10041.54032921,   1992.53167288,   4839.01680656,1384.77826122]),0,1000)\n",
    "plt.plot(scan[0],np.array(scan[1])-1)\n",
    "plt.plot([0,40000],[0,0])"
   ]
  },
  {
   "cell_type": "code",
   "execution_count": 10,
   "metadata": {
    "collapsed": false,
    "nbpresent": {
     "id": "33a9ad41-0de2-4dff-8e85-10d3c3edfc1f"
    }
   },
   "outputs": [
    {
     "data": {
      "text/plain": [
       "(-1.1, 0.5)"
      ]
     },
     "execution_count": 10,
     "metadata": {},
     "output_type": "execute_result"
    },
    {
     "data": {
      "image/png": "[encoded data removed]",
      "text/plain": [
       "<matplotlib.figure.Figure at 0x7fc428bc8470>"
      ]
     },
     "metadata": {},
     "output_type": "display_data"
    }
   ],
   "source": [
    "# LL profile - 1 gives the confidence interval, ploted here zoomed\n",
    "plt.plot(scan[0],np.array(scan[1])-1)\n",
    "plt.plot([0,40000],[0,0])\n",
    "plt.xlim(18000,18800)\n",
    "plt.ylim(-1.1,.5)"
   ]
  },
  {
   "cell_type": "code",
   "execution_count": null,
   "metadata": {
    "collapsed": false
   },
   "outputs": [],
   "source": []
  },
  {
   "cell_type": "markdown",
   "metadata": {
    "collapsed": false
   },
   "source": [
    "# Pulls\n",
    "\n",
    "This is just to show how pulls are made, runnig this code with enough data takes a lot of time. You can find pull data for all variables an 10000 experiments in Pull_Plot notebook"
   ]
  },
  {
   "cell_type": "code",
   "execution_count": null,
   "metadata": {
    "collapsed": false,
    "nbpresent": {
     "id": "f1c07dd3-5864-43c8-8165-a56d61a170f8"
    }
   },
   "outputs": [
    {
     "name": "stdout",
     "output_type": "stream",
     "text": [
      "[ 18750.  10000.   1875.   5000.   2500.] \n",
      " [18622 99495  1902  4786  2054]\n"
     ]
    }
   ],
   "source": [
    "# Just creating an auxiliar copy for all histograms\n",
    "nevslist = np.array([150000,80000,15000,40000,20000])/8\n",
    "ne = np.array([0,0,0,0,0])\n",
    "h_Coaux = hist([],nbin,minE,maxE)\n",
    "h_Coaux.hist = Co/8.\n",
    "ne[0] = h_Coaux.hist.sum()\n",
    "h_Coaux.bins = E\n",
    "h_Kaux = hist([], nbin,minE,maxE)\n",
    "h_Kaux.hist = K/.8\n",
    "ne[1] = h_Kaux.hist.sum()\n",
    "h_Kaux.bins = E\n",
    "h_Tlaux = hist([],nbin,minE,maxE)\n",
    "h_Tlaux.hist = Tl/8.\n",
    "ne[2] = h_Tlaux.hist.sum()\n",
    "h_Tlaux.bins = E\n",
    "h_Biaux = hist([],nbin,minE,maxE)\n",
    "h_Biaux.hist = Bi/8.\n",
    "ne[3] = h_Biaux.hist.sum()\n",
    "h_Biaux.bins = E\n",
    "h_bb2naux = hist([],nbin,minE,maxE)\n",
    "h_bb2naux.hist = bb2n*2054/bb2n.sum()\n",
    "ne[4] = h_bb2naux.hist.sum()\n",
    "h_bb2naux.bins = E\n",
    "print(nevslist,'\\n',ne)"
   ]
  },
  {
   "cell_type": "code",
   "execution_count": null,
   "metadata": {
    "collapsed": false,
    "nbpresent": {
     "id": "e8525e26-c721-42c8-9f9a-2a1167b293a8"
    }
   },
   "outputs": [],
   "source": [
    "# Poisson smearing for data and pull computation (fitded-real)/error_fit\n",
    "\n",
    "haux =  hist([], nbin,minE,maxE)\n",
    "nevslist = np.array([150000,80000,15000,40000,20000])/8.\n",
    "N_pull = 10\n",
    "pull_list = np.zeros([N_pull,5])\n",
    "ne_poiss = np.zeros([5])\n",
    "for i in np.arange(N_pull):\n",
    "    aux = np.random.poisson(h_Coaux.hist)\n",
    "    ne_poiss[0] = aux.sum()\n",
    "    haux.hist = aux\n",
    "    aux = np.random.poisson(h_Kaux.hist)\n",
    "    ne_poiss[1] = aux.sum()\n",
    "    haux.hist += aux\n",
    "    aux = np.random.poisson(h_Tlaux.hist)\n",
    "    ne_poiss[2] = aux.sum()\n",
    "    haux.hist += aux\n",
    "    aux = np.random.poisson(h_Biaux.hist)\n",
    "    ne_poiss[3] = aux.sum()\n",
    "    haux.hist += aux\n",
    "    aux = np.random.poisson(h_bb2naux.hist)\n",
    "    ne_poiss[4] = aux.sum()\n",
    "    haux.hist += aux\n",
    "\n",
    "    fit = Fit(E,haux,pdflis)\n",
    "    res = fit.FitLLM(ne)\n",
    "    pull_list[i] = (res.x-ne_poiss)/res.err"
   ]
  },
  {
   "cell_type": "code",
   "execution_count": null,
   "metadata": {
    "collapsed": false
   },
   "outputs": [],
   "source": []
  },
  {
   "cell_type": "markdown",
   "metadata": {
    "nbpresent": {
     "id": "af4266ed-e511-46ea-a903-3e96a0102a0c"
    }
   },
   "source": [
    "# Plot\n",
    "\n",
    "Run it to plot the fit spectrum results"
   ]
  },
  {
   "cell_type": "code",
   "execution_count": null,
   "metadata": {
    "collapsed": true,
    "nbpresent": {
     "id": "bdc42851-7f99-421b-9a3c-d69ba58d86f9"
    }
   },
   "outputs": [],
   "source": [
    "result = np.array([18395.02975447, 10041.5398816, 1992.53178756, 4839.01641257, 1384.7787113])"
   ]
  },
  {
   "cell_type": "code",
   "execution_count": null,
   "metadata": {
    "collapsed": true,
    "nbpresent": {
     "id": "21ae10b7-e21b-4fb3-bd97-8fa7e731e881"
    }
   },
   "outputs": [],
   "source": [
    "interpol = 'nearest'\n",
    "pdf_CoP = PDF(h_Co,factor=result[0],interpolation=interpol)\n",
    "pdf_KP = PDF(h_K,factor=result[1],interpolation=interpol)\n",
    "pdf_TlP = PDF(h_Tl,factor=result[2],interpolation=interpol)\n",
    "pdf_BiP = PDF(h_Bi,factor=result[3],interpolation=interpol)\n",
    "pdf_bb2nP = PDF(h_bb2n,factor=result[4],interpolation=interpol)\n",
    "\n"
   ]
  },
  {
   "cell_type": "code",
   "execution_count": null,
   "metadata": {
    "collapsed": false,
    "nbpresent": {
     "id": "8d6bf69d-e20a-4e87-9ae3-ed2e63d8a361"
    }
   },
   "outputs": [],
   "source": [
    "Ep = np.linspace(0.6,2.8,1000)\n",
    "aux =(E>0.6)&(E<2.8)\n",
    "Ea = E[aux]\n",
    "totala = total[aux]\n",
    "testnna = testnn[aux]\n",
    "y_CoP = pdf_CoP.pdf(Ep)\n",
    "y_KP = pdf_KP.pdf(Ep)\n",
    "y_TlP = pdf_TlP.pdf(Ep)\n",
    "y_BiP = pdf_BiP.pdf(Ep)\n",
    "y_bb2nP = pdf_bb2nP.pdf(Ep)\n",
    "fittotal = y_CoP+y_KP+y_TlP+y_BiP+y_bb2nP\n",
    "y_CoP[0]=0.00001\n",
    "y_CoP[-1]=0.00001\n",
    "y_KP[0]=0.00001\n",
    "y_KP[-1]=0.00001\n",
    "y_BiP[0]=0.00001\n",
    "y_BiP[-1]=0.00001\n",
    "y_TlP[0]=0.00001\n",
    "y_TlP[-1]=0.00001\n"
   ]
  },
  {
   "cell_type": "code",
   "execution_count": null,
   "metadata": {
    "collapsed": false,
    "nbpresent": {
     "id": "853381a7-934b-45cc-a8d4-3dfd11ba6430"
    }
   },
   "outputs": [],
   "source": [
    "alfa= 0.2\n",
    "plt.semilogy()\n",
    "plt.ylim(0.5,3e3)\n",
    "plt.errorbar(Ea,totala,yerr=np.sqrt(totala),marker='.',elinewidth=1,\n",
    "             linewidth=0,label='data',color='black')\n",
    "plt.errorbar(Ea,testnna,yerr=np.sqrt(testnna),marker='.',elinewidth=1,\n",
    "             linewidth=0,label='bb2n_data',color='m')\n",
    "plt.plot(Ep,fittotal,label='fit')\n",
    "plt.plot(Ep,y_bb2nP,label='bb2n_fit')\n",
    "plt.fill_between(Ep,0,y_CoP,label='Co_fit',alpha=alfa,color='r')\n",
    "plt.fill_between(Ep,0,y_KP,label='K_fit',alpha=alfa,color='g')\n",
    "plt.fill_between(Ep,0,y_TlP,label='Tl_fit',alpha=alfa,color='y')\n",
    "plt.fill_between(Ep,0,y_BiP,label='Bi_fit',alpha=alfa,color='b')\n",
    "#plt.plot(E)\n",
    "plt.gcf().set_size_inches(12,9)\n",
    "plt.legend().get_frame().set_facecolor('0.95')\n",
    "plt.xlabel('Energy (MeV)',fontsize=16)\n",
    "plt.ylabel('Entries',fontsize=18)\n",
    "plt.savefig('fitspectrum.pdf')"
   ]
  },
  {
   "cell_type": "code",
   "execution_count": null,
   "metadata": {
    "collapsed": false
   },
   "outputs": [],
   "source": [
    "alfa= 0.2\n",
    "plt.semilogy()\n",
    "plt.ylim(0.5,3e3)\n",
    "plt.errorbar(Ea,totala,yerr=np.sqrt(totala),marker='.',elinewidth=1,\n",
    "             linewidth=0,label='data',color='black')\n",
    "plt.errorbar(Ea,testnna,yerr=np.sqrt(testnna),marker='.',elinewidth=1,\n",
    "             linewidth=0,label='bb2n_data',color='m')\n",
    "plt.plot(Ep,fittotal,label='fit')\n",
    "plt.plot(Ep,y_bb2nP,label='bb2n_fit')\n",
    "plt.fill_between(Ep,0,y_CoP,label='Co_fit',alpha=alfa,color='r')\n",
    "plt.fill_between(Ep,0,y_KP,label='K_fit',alpha=alfa,color='g')\n",
    "plt.fill_between(Ep,0,y_TlP,label='Tl_fit',alpha=alfa,color='y')\n",
    "plt.fill_between(Ep,0,y_BiP,label='Bi_fit',alpha=alfa,color='b')\n",
    "#plt.plot(E)\n",
    "\n",
    "plt.gcf().set_size_inches(12,9)\n",
    "plt.legend().get_frame().set_facecolor('0.95')\n",
    "plt.xlabel('Energy (MeV)',fontsize=16)\n",
    "plt.ylabel('Entries',fontsize=18)\n",
    "plt.savefig('fitspectrum_log.pdf')"
   ]
  },
  {
   "cell_type": "code",
   "execution_count": null,
   "metadata": {
    "collapsed": false,
    "nbpresent": {
     "id": "53845d1a-49e6-42d1-bc15-6d33657a35d8"
    }
   },
   "outputs": [],
   "source": [
    "alfa= 0.2\n",
    "#plt.semilogy()\n",
    "plt.ylim(0.5,3e3)\n",
    "plt.errorbar(Ea,totala,yerr=np.sqrt(totala),marker='.',elinewidth=1,\n",
    "             linewidth=0,label='data',color='black')\n",
    "plt.errorbar(Ea,testnna,yerr=np.sqrt(testnna),marker='.',elinewidth=1,\n",
    "             linewidth=0,label='bb2n_data',color='m')\n",
    "plt.plot(Ep,fittotal,label='fit')\n",
    "plt.plot(Ep,y_bb2nP,label='bb2n_fit')\n",
    "plt.fill_between(Ep,0,y_CoP,label='Co_fit',alpha=alfa,color='r')\n",
    "plt.fill_between(Ep,0,y_KP,label='K_fit',alpha=alfa,color='g')\n",
    "plt.fill_between(Ep,0,y_TlP,label='Tl_fit',alpha=alfa,color='y')\n",
    "plt.fill_between(Ep,0,y_BiP,label='Bi_fit',alpha=alfa,color='b')\n",
    "#plt.plot(E)\n",
    "plt.gcf().set_size_inches(12,9)\n",
    "plt.legend().get_frame().set_facecolor('0.95')\n",
    "plt.xlabel('Energy (MeV)',fontsize=16)\n",
    "plt.ylabel('Entries',fontsize=18)\n",
    "plt.savefig('fitspectrum.pdf')"
   ]
  },
  {
   "cell_type": "code",
   "execution_count": null,
   "metadata": {
    "collapsed": false,
    "nbpresent": {
     "id": "b48200ef-f4e4-474c-a337-08151eaf4a56"
    }
   },
   "outputs": [],
   "source": []
  }
 ],
 "metadata": {
  "anaconda-cloud": {},
  "kernelspec": {
   "display_name": "Python [conda root]",
   "language": "python",
   "name": "conda-root-py"
  },
  "language_info": {
   "codemirror_mode": {
    "name": "ipython",
    "version": 3
   },
   "file_extension": ".py",
   "mimetype": "text/x-python",
   "name": "python",
   "nbconvert_exporter": "python",
   "pygments_lexer": "ipython3",
   "version": "3.5.2"
  }
 },
 "nbformat": 4,
 "nbformat_minor": 1
}
